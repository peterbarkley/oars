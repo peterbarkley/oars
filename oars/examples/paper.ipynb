{
 "cells": [
  {
   "cell_type": "markdown",
   "metadata": {},
   "source": [
    "# Optimized Resolvent Splitting Examples\n",
    "\n",
    "This notebook generates the figures in our paper, which outlines the use of a semi-definite programming framework for optimizing splitting algorithms which solve the following monotone inclusion problem:\n",
    "\n",
    "\\begin{equation}\n",
    "0 \\in \\sum_{i=1}^{n} A_{i}(x).\n",
    "\\end{equation}\n",
    "\n",
    "It does so by finding valid matrices $L$ and $W$ for the following set of iterations, where bolded entries are lifted, i.e. $\\mathrm{x} = (x_1, \\dots, x_n)$:\n",
    "\n",
    "\\begin{align}\n",
    "\\mathrm{x} &= J_{\\mathrm{A}}\\left(\\mathrm{v}^{k} + \\mathrm{L} \\mathrm{x}\\right)\\\\\n",
    "\\mathrm{v}^{k+1} &= \\mathrm{v}^{k} - \\gamma \\mathrm{W} \\mathrm{x}.\n",
    "\\end{align}\n",
    "\n",
    "$L$ is lower diagonal, so we work with a symmetrized matrix $Z = 2I - L - L^T$"
   ]
  },
  {
   "cell_type": "code",
   "execution_count": 1,
   "metadata": {},
   "outputs": [],
   "source": [
    "import numpy as np\n",
    "import oars\n",
    "from oars.matrices import *\n",
    "from oars.utils import *\n",
    "from oars.pep import *\n",
    "import pandas as pd\n",
    "import matplotlib.pyplot as plt\n",
    "import matplotlib\n",
    "# matplotlib.use('nbagg')\n",
    "import seaborn as sns\n",
    "sns.set()\n",
    "from matplotlib.colors import CenteredNorm\n",
    "import cvxpy as cvx\n",
    "from collections import defaultdict\n",
    "\n"
   ]
  },
  {
   "cell_type": "markdown",
   "metadata": {},
   "source": [
    "Our first example builds the matrices, which can be thought of as the graph Laplacians of communication graphs for the nodes in a distributed setting, to avoid specific communication paths. \n",
    "\n",
    "We suppose a set of two clusters (0-2) and (3-5) which can only communicate within clusters and via a link between 0-3.\n",
    "\n",
    "We then plot a Gantt chart for the distributed execution of the resulting algorithm.\n",
    "\n",
    "We take as our objective function here the spectral norm of $Z-W$, which promotes graph similarity."
   ]
  },
  {
   "cell_type": "code",
   "execution_count": 2,
   "metadata": {},
   "outputs": [],
   "source": [
    "# Data for matrices in cluster example (6x6)\n",
    "n = 6\n",
    "Z_fixed = {(r,c):0 for r in range(4,6) for c in range(3)}\n",
    "Z_fixed[(3,1)] = 0\n",
    "Z_fixed[(3,2)] = 0\n",
    "\n",
    "Z, W = getMinSpectralDifference(n, fixed_Z=Z_fixed, fixed_W=Z_fixed)\n"
   ]
  },
  {
   "cell_type": "code",
   "execution_count": 3,
   "metadata": {},
   "outputs": [
    {
     "data": {
      "application/vnd.plotly.v1+json": {
       "config": {
        "plotlyServerURL": "https://plot.ly"
       },
       "data": [
        {
         "alignmentgroup": "True",
         "base": [
          0,
          0.016250000000014315,
          0.03250000000009835,
          0.025999999999991294,
          0.042250000000016046,
          0.05850000000005822
         ],
         "hovertemplate": "Task=Iter 1<br>Start=%{base}<br>Finish=%{x}<br>Resource=%{y}<extra></extra>",
         "legendgroup": "Iter 1",
         "marker": {
          "color": "#636efa",
          "pattern": {
           "shape": ""
          }
         },
         "name": "Iter 1",
         "offsetgroup": "Iter 1",
         "orientation": "h",
         "showlegend": true,
         "textposition": "auto",
         "type": "bar",
         "x": [
          0.016,
          0.016,
          0.016,
          0.016,
          0.016,
          0.015999999999999993
         ],
         "xaxis": "x",
         "y": [
          "Node 1",
          "Node 2",
          "Node 3",
          "Node 4",
          "Node 5",
          "Node 6"
         ],
         "yaxis": "y"
        },
        {
         "alignmentgroup": "True",
         "base": [
          0.051999999999988264,
          0.06825000000000514,
          0.08450000000000273,
          0.0779999999999895,
          0.09425000000001574,
          0.11050000000003922
         ],
         "hovertemplate": "Task=Iter 2<br>Start=%{base}<br>Finish=%{x}<br>Resource=%{y}<extra></extra>",
         "legendgroup": "Iter 2",
         "marker": {
          "color": "#EF553B",
          "pattern": {
           "shape": ""
          }
         },
         "name": "Iter 2",
         "offsetgroup": "Iter 2",
         "orientation": "h",
         "showlegend": true,
         "textposition": "auto",
         "type": "bar",
         "x": [
          0.016,
          0.016,
          0.016,
          0.016,
          0.016,
          0.016
         ],
         "xaxis": "x",
         "y": [
          "Node 1",
          "Node 2",
          "Node 3",
          "Node 4",
          "Node 5",
          "Node 6"
         ],
         "yaxis": "y"
        },
        {
         "alignmentgroup": "True",
         "base": [
          0.10399999999998122,
          0.12025000000000675,
          0.1365000000000377,
          0.12999999999998138,
          0.14625000000000923,
          0.1625000000000514
         ],
         "hovertemplate": "Task=Iter 3<br>Start=%{base}<br>Finish=%{x}<br>Resource=%{y}<extra></extra>",
         "legendgroup": "Iter 3",
         "marker": {
          "color": "#00cc96",
          "pattern": {
           "shape": ""
          }
         },
         "name": "Iter 3",
         "offsetgroup": "Iter 3",
         "orientation": "h",
         "showlegend": true,
         "textposition": "auto",
         "type": "bar",
         "x": [
          0.016,
          0.016,
          0.016000000000000014,
          0.015999999999999986,
          0.015999999999999986,
          0.015999999999999986
         ],
         "xaxis": "x",
         "y": [
          "Node 1",
          "Node 2",
          "Node 3",
          "Node 4",
          "Node 5",
          "Node 6"
         ],
         "yaxis": "y"
        },
        {
         "alignmentgroup": "True",
         "base": [
          0.1559999999999737,
          0.17224999999999743,
          0.18850000000004247,
          0.18199999999997352,
          0.19824999999999507,
          0.21450000000003805
         ],
         "hovertemplate": "Task=Iter 4<br>Start=%{base}<br>Finish=%{x}<br>Resource=%{y}<extra></extra>",
         "legendgroup": "Iter 4",
         "marker": {
          "color": "#ab63fa",
          "pattern": {
           "shape": ""
          }
         },
         "name": "Iter 4",
         "offsetgroup": "Iter 4",
         "orientation": "h",
         "showlegend": true,
         "textposition": "auto",
         "type": "bar",
         "x": [
          0.015999999999999986,
          0.015999999999999986,
          0.016000000000000014,
          0.016000000000000014,
          0.015999999999999986,
          0.016000000000000014
         ],
         "xaxis": "x",
         "y": [
          "Node 1",
          "Node 2",
          "Node 3",
          "Node 4",
          "Node 5",
          "Node 6"
         ],
         "yaxis": "y"
        },
        {
         "alignmentgroup": "True",
         "base": [
          0.20799999999996927,
          0.22424999999998554,
          0.24050000000002397,
          0.23399999999996954,
          0.25024999999996833,
          0.26649999999996726
         ],
         "hovertemplate": "Task=Iter 5<br>Start=%{base}<br>Finish=%{x}<br>Resource=%{y}<extra></extra>",
         "legendgroup": "Iter 5",
         "marker": {
          "color": "#FFA15A",
          "pattern": {
           "shape": ""
          }
         },
         "name": "Iter 5",
         "offsetgroup": "Iter 5",
         "orientation": "h",
         "showlegend": true,
         "textposition": "auto",
         "type": "bar",
         "x": [
          0.016000000000000014,
          0.015999999999999986,
          0.016000000000000014,
          0.015999999999999986,
          0.016000000000000014,
          0.016000000000000014
         ],
         "xaxis": "x",
         "y": [
          "Node 1",
          "Node 2",
          "Node 3",
          "Node 4",
          "Node 5",
          "Node 6"
         ],
         "yaxis": "y"
        }
       ],
       "layout": {
        "barmode": "overlay",
        "legend": {
         "title": {
          "text": "Task"
         },
         "tracegroupgap": 0
        },
        "margin": {
         "t": 60
        },
        "template": {
         "data": {
          "bar": [
           {
            "error_x": {
             "color": "#2a3f5f"
            },
            "error_y": {
             "color": "#2a3f5f"
            },
            "marker": {
             "line": {
              "color": "#E5ECF6",
              "width": 0.5
             },
             "pattern": {
              "fillmode": "overlay",
              "size": 10,
              "solidity": 0.2
             }
            },
            "type": "bar"
           }
          ],
          "barpolar": [
           {
            "marker": {
             "line": {
              "color": "#E5ECF6",
              "width": 0.5
             },
             "pattern": {
              "fillmode": "overlay",
              "size": 10,
              "solidity": 0.2
             }
            },
            "type": "barpolar"
           }
          ],
          "carpet": [
           {
            "aaxis": {
             "endlinecolor": "#2a3f5f",
             "gridcolor": "white",
             "linecolor": "white",
             "minorgridcolor": "white",
             "startlinecolor": "#2a3f5f"
            },
            "baxis": {
             "endlinecolor": "#2a3f5f",
             "gridcolor": "white",
             "linecolor": "white",
             "minorgridcolor": "white",
             "startlinecolor": "#2a3f5f"
            },
            "type": "carpet"
           }
          ],
          "choropleth": [
           {
            "colorbar": {
             "outlinewidth": 0,
             "ticks": ""
            },
            "type": "choropleth"
           }
          ],
          "contour": [
           {
            "colorbar": {
             "outlinewidth": 0,
             "ticks": ""
            },
            "colorscale": [
             [
              0,
              "#0d0887"
             ],
             [
              0.1111111111111111,
              "#46039f"
             ],
             [
              0.2222222222222222,
              "#7201a8"
             ],
             [
              0.3333333333333333,
              "#9c179e"
             ],
             [
              0.4444444444444444,
              "#bd3786"
             ],
             [
              0.5555555555555556,
              "#d8576b"
             ],
             [
              0.6666666666666666,
              "#ed7953"
             ],
             [
              0.7777777777777778,
              "#fb9f3a"
             ],
             [
              0.8888888888888888,
              "#fdca26"
             ],
             [
              1,
              "#f0f921"
             ]
            ],
            "type": "contour"
           }
          ],
          "contourcarpet": [
           {
            "colorbar": {
             "outlinewidth": 0,
             "ticks": ""
            },
            "type": "contourcarpet"
           }
          ],
          "heatmap": [
           {
            "colorbar": {
             "outlinewidth": 0,
             "ticks": ""
            },
            "colorscale": [
             [
              0,
              "#0d0887"
             ],
             [
              0.1111111111111111,
              "#46039f"
             ],
             [
              0.2222222222222222,
              "#7201a8"
             ],
             [
              0.3333333333333333,
              "#9c179e"
             ],
             [
              0.4444444444444444,
              "#bd3786"
             ],
             [
              0.5555555555555556,
              "#d8576b"
             ],
             [
              0.6666666666666666,
              "#ed7953"
             ],
             [
              0.7777777777777778,
              "#fb9f3a"
             ],
             [
              0.8888888888888888,
              "#fdca26"
             ],
             [
              1,
              "#f0f921"
             ]
            ],
            "type": "heatmap"
           }
          ],
          "heatmapgl": [
           {
            "colorbar": {
             "outlinewidth": 0,
             "ticks": ""
            },
            "colorscale": [
             [
              0,
              "#0d0887"
             ],
             [
              0.1111111111111111,
              "#46039f"
             ],
             [
              0.2222222222222222,
              "#7201a8"
             ],
             [
              0.3333333333333333,
              "#9c179e"
             ],
             [
              0.4444444444444444,
              "#bd3786"
             ],
             [
              0.5555555555555556,
              "#d8576b"
             ],
             [
              0.6666666666666666,
              "#ed7953"
             ],
             [
              0.7777777777777778,
              "#fb9f3a"
             ],
             [
              0.8888888888888888,
              "#fdca26"
             ],
             [
              1,
              "#f0f921"
             ]
            ],
            "type": "heatmapgl"
           }
          ],
          "histogram": [
           {
            "marker": {
             "pattern": {
              "fillmode": "overlay",
              "size": 10,
              "solidity": 0.2
             }
            },
            "type": "histogram"
           }
          ],
          "histogram2d": [
           {
            "colorbar": {
             "outlinewidth": 0,
             "ticks": ""
            },
            "colorscale": [
             [
              0,
              "#0d0887"
             ],
             [
              0.1111111111111111,
              "#46039f"
             ],
             [
              0.2222222222222222,
              "#7201a8"
             ],
             [
              0.3333333333333333,
              "#9c179e"
             ],
             [
              0.4444444444444444,
              "#bd3786"
             ],
             [
              0.5555555555555556,
              "#d8576b"
             ],
             [
              0.6666666666666666,
              "#ed7953"
             ],
             [
              0.7777777777777778,
              "#fb9f3a"
             ],
             [
              0.8888888888888888,
              "#fdca26"
             ],
             [
              1,
              "#f0f921"
             ]
            ],
            "type": "histogram2d"
           }
          ],
          "histogram2dcontour": [
           {
            "colorbar": {
             "outlinewidth": 0,
             "ticks": ""
            },
            "colorscale": [
             [
              0,
              "#0d0887"
             ],
             [
              0.1111111111111111,
              "#46039f"
             ],
             [
              0.2222222222222222,
              "#7201a8"
             ],
             [
              0.3333333333333333,
              "#9c179e"
             ],
             [
              0.4444444444444444,
              "#bd3786"
             ],
             [
              0.5555555555555556,
              "#d8576b"
             ],
             [
              0.6666666666666666,
              "#ed7953"
             ],
             [
              0.7777777777777778,
              "#fb9f3a"
             ],
             [
              0.8888888888888888,
              "#fdca26"
             ],
             [
              1,
              "#f0f921"
             ]
            ],
            "type": "histogram2dcontour"
           }
          ],
          "mesh3d": [
           {
            "colorbar": {
             "outlinewidth": 0,
             "ticks": ""
            },
            "type": "mesh3d"
           }
          ],
          "parcoords": [
           {
            "line": {
             "colorbar": {
              "outlinewidth": 0,
              "ticks": ""
             }
            },
            "type": "parcoords"
           }
          ],
          "pie": [
           {
            "automargin": true,
            "type": "pie"
           }
          ],
          "scatter": [
           {
            "fillpattern": {
             "fillmode": "overlay",
             "size": 10,
             "solidity": 0.2
            },
            "type": "scatter"
           }
          ],
          "scatter3d": [
           {
            "line": {
             "colorbar": {
              "outlinewidth": 0,
              "ticks": ""
             }
            },
            "marker": {
             "colorbar": {
              "outlinewidth": 0,
              "ticks": ""
             }
            },
            "type": "scatter3d"
           }
          ],
          "scattercarpet": [
           {
            "marker": {
             "colorbar": {
              "outlinewidth": 0,
              "ticks": ""
             }
            },
            "type": "scattercarpet"
           }
          ],
          "scattergeo": [
           {
            "marker": {
             "colorbar": {
              "outlinewidth": 0,
              "ticks": ""
             }
            },
            "type": "scattergeo"
           }
          ],
          "scattergl": [
           {
            "marker": {
             "colorbar": {
              "outlinewidth": 0,
              "ticks": ""
             }
            },
            "type": "scattergl"
           }
          ],
          "scattermapbox": [
           {
            "marker": {
             "colorbar": {
              "outlinewidth": 0,
              "ticks": ""
             }
            },
            "type": "scattermapbox"
           }
          ],
          "scatterpolar": [
           {
            "marker": {
             "colorbar": {
              "outlinewidth": 0,
              "ticks": ""
             }
            },
            "type": "scatterpolar"
           }
          ],
          "scatterpolargl": [
           {
            "marker": {
             "colorbar": {
              "outlinewidth": 0,
              "ticks": ""
             }
            },
            "type": "scatterpolargl"
           }
          ],
          "scatterternary": [
           {
            "marker": {
             "colorbar": {
              "outlinewidth": 0,
              "ticks": ""
             }
            },
            "type": "scatterternary"
           }
          ],
          "surface": [
           {
            "colorbar": {
             "outlinewidth": 0,
             "ticks": ""
            },
            "colorscale": [
             [
              0,
              "#0d0887"
             ],
             [
              0.1111111111111111,
              "#46039f"
             ],
             [
              0.2222222222222222,
              "#7201a8"
             ],
             [
              0.3333333333333333,
              "#9c179e"
             ],
             [
              0.4444444444444444,
              "#bd3786"
             ],
             [
              0.5555555555555556,
              "#d8576b"
             ],
             [
              0.6666666666666666,
              "#ed7953"
             ],
             [
              0.7777777777777778,
              "#fb9f3a"
             ],
             [
              0.8888888888888888,
              "#fdca26"
             ],
             [
              1,
              "#f0f921"
             ]
            ],
            "type": "surface"
           }
          ],
          "table": [
           {
            "cells": {
             "fill": {
              "color": "#EBF0F8"
             },
             "line": {
              "color": "white"
             }
            },
            "header": {
             "fill": {
              "color": "#C8D4E3"
             },
             "line": {
              "color": "white"
             }
            },
            "type": "table"
           }
          ]
         },
         "layout": {
          "annotationdefaults": {
           "arrowcolor": "#2a3f5f",
           "arrowhead": 0,
           "arrowwidth": 1
          },
          "autotypenumbers": "strict",
          "coloraxis": {
           "colorbar": {
            "outlinewidth": 0,
            "ticks": ""
           }
          },
          "colorscale": {
           "diverging": [
            [
             0,
             "#8e0152"
            ],
            [
             0.1,
             "#c51b7d"
            ],
            [
             0.2,
             "#de77ae"
            ],
            [
             0.3,
             "#f1b6da"
            ],
            [
             0.4,
             "#fde0ef"
            ],
            [
             0.5,
             "#f7f7f7"
            ],
            [
             0.6,
             "#e6f5d0"
            ],
            [
             0.7,
             "#b8e186"
            ],
            [
             0.8,
             "#7fbc41"
            ],
            [
             0.9,
             "#4d9221"
            ],
            [
             1,
             "#276419"
            ]
           ],
           "sequential": [
            [
             0,
             "#0d0887"
            ],
            [
             0.1111111111111111,
             "#46039f"
            ],
            [
             0.2222222222222222,
             "#7201a8"
            ],
            [
             0.3333333333333333,
             "#9c179e"
            ],
            [
             0.4444444444444444,
             "#bd3786"
            ],
            [
             0.5555555555555556,
             "#d8576b"
            ],
            [
             0.6666666666666666,
             "#ed7953"
            ],
            [
             0.7777777777777778,
             "#fb9f3a"
            ],
            [
             0.8888888888888888,
             "#fdca26"
            ],
            [
             1,
             "#f0f921"
            ]
           ],
           "sequentialminus": [
            [
             0,
             "#0d0887"
            ],
            [
             0.1111111111111111,
             "#46039f"
            ],
            [
             0.2222222222222222,
             "#7201a8"
            ],
            [
             0.3333333333333333,
             "#9c179e"
            ],
            [
             0.4444444444444444,
             "#bd3786"
            ],
            [
             0.5555555555555556,
             "#d8576b"
            ],
            [
             0.6666666666666666,
             "#ed7953"
            ],
            [
             0.7777777777777778,
             "#fb9f3a"
            ],
            [
             0.8888888888888888,
             "#fdca26"
            ],
            [
             1,
             "#f0f921"
            ]
           ]
          },
          "colorway": [
           "#636efa",
           "#EF553B",
           "#00cc96",
           "#ab63fa",
           "#FFA15A",
           "#19d3f3",
           "#FF6692",
           "#B6E880",
           "#FF97FF",
           "#FECB52"
          ],
          "font": {
           "color": "#2a3f5f"
          },
          "geo": {
           "bgcolor": "white",
           "lakecolor": "white",
           "landcolor": "#E5ECF6",
           "showlakes": true,
           "showland": true,
           "subunitcolor": "white"
          },
          "hoverlabel": {
           "align": "left"
          },
          "hovermode": "closest",
          "mapbox": {
           "style": "light"
          },
          "paper_bgcolor": "white",
          "plot_bgcolor": "#E5ECF6",
          "polar": {
           "angularaxis": {
            "gridcolor": "white",
            "linecolor": "white",
            "ticks": ""
           },
           "bgcolor": "#E5ECF6",
           "radialaxis": {
            "gridcolor": "white",
            "linecolor": "white",
            "ticks": ""
           }
          },
          "scene": {
           "xaxis": {
            "backgroundcolor": "#E5ECF6",
            "gridcolor": "white",
            "gridwidth": 2,
            "linecolor": "white",
            "showbackground": true,
            "ticks": "",
            "zerolinecolor": "white"
           },
           "yaxis": {
            "backgroundcolor": "#E5ECF6",
            "gridcolor": "white",
            "gridwidth": 2,
            "linecolor": "white",
            "showbackground": true,
            "ticks": "",
            "zerolinecolor": "white"
           },
           "zaxis": {
            "backgroundcolor": "#E5ECF6",
            "gridcolor": "white",
            "gridwidth": 2,
            "linecolor": "white",
            "showbackground": true,
            "ticks": "",
            "zerolinecolor": "white"
           }
          },
          "shapedefaults": {
           "line": {
            "color": "#2a3f5f"
           }
          },
          "ternary": {
           "aaxis": {
            "gridcolor": "white",
            "linecolor": "white",
            "ticks": ""
           },
           "baxis": {
            "gridcolor": "white",
            "linecolor": "white",
            "ticks": ""
           },
           "bgcolor": "#E5ECF6",
           "caxis": {
            "gridcolor": "white",
            "linecolor": "white",
            "ticks": ""
           }
          },
          "title": {
           "x": 0.05
          },
          "xaxis": {
           "automargin": true,
           "gridcolor": "white",
           "linecolor": "white",
           "ticks": "",
           "title": {
            "standoff": 15
           },
           "zerolinecolor": "white",
           "zerolinewidth": 2
          },
          "yaxis": {
           "automargin": true,
           "gridcolor": "white",
           "linecolor": "white",
           "ticks": "",
           "title": {
            "standoff": 15
           },
           "zerolinecolor": "white",
           "zerolinewidth": 2
          }
         }
        },
        "title": {
         "text": "Cluster Algorithm Parallelism"
        },
        "xaxis": {
         "anchor": "y",
         "domain": [
          0,
          1
         ],
         "title": {
          "text": "Time Units"
         },
         "type": "linear"
        },
        "yaxis": {
         "anchor": "x",
         "autorange": "reversed",
         "domain": [
          0,
          1
         ],
         "title": {
          "text": "Resource"
         }
        }
       }
      }
     },
     "metadata": {},
     "output_type": "display_data"
    }
   ],
   "source": [
    "# Figure 3\n",
    "t = 0.016*np.ones(n)\n",
    "l = 0.00025*np.ones((n, n))\n",
    "l[0, 3] = 0.01\n",
    "l[3, 0] = 0.01  \n",
    "fig = getGantt(t, l, Z, W, title=\"Cluster Algorithm Parallelism\", itrs=5)\n",
    "fig.show()\n",
    "#if you want to save the figure as a separate file\n",
    "saving = False # set to True to save the figures\n",
    "if saving:\n",
    "    import os\n",
    "    if ~os.path.exists('figs'): os.makedirs('figs')\n",
    "    fig.write_image(\"figs/fig_gantt.pdf\")"
   ]
  },
  {
   "cell_type": "markdown",
   "metadata": {},
   "source": [
    "In this example, we visually depict the different matrices generates by changing the objective function between maximizing algebraic connectivity, minimizing SLEM, minimizing total effective resistance, and minimizing the spectral norm of the difference of the matrices.\n",
    "\n",
    "We also demonstrate the use of the getBlockMin function to build the constraint set for the SDP to guarantee that the nodes can execute in blocks. If the compute and communication times are constant and uniform, this guarantees that the algorithm can execute with the highest possible degree of parallelism possible for this type of splitting."
   ]
  },
  {
   "cell_type": "code",
   "execution_count": 4,
   "metadata": {},
   "outputs": [],
   "source": [
    "# Figure 4 helper\n",
    "def cplot(W,Z):\n",
    "    vmin = np.floor(np.min(np.minimum(W, Z)))\n",
    "    cm = plt.cm.coolwarm\n",
    "    fig, ax = plt.subplots(1, 2, figsize=(12, 6))\n",
    "    x = -np.arange(n)\n",
    "    y = np.arange(n)\n",
    "    ax[0].pcolormesh(x, y, W, norm=CenteredNorm(), cmap=cm) #, vmin=vmin, vmax=2)\n",
    "    ax[0].set_title(r\"$W$\")\n",
    "    ax[0].axis('off')\n",
    "    ax[0].set_aspect('equal')\n",
    "\n",
    "    pc = ax[1].pcolormesh(x, y, Z, norm=CenteredNorm(), cmap=cm)\n",
    "    ax[1].set_title(r\"$Z$\")\n",
    "    ax[1].axis('off')\n",
    "    ax[1].set_aspect('equal')\n",
    "\n",
    "    # Add colorbar\n",
    "    plt.tight_layout()\n",
    "    \n",
    "    fig.colorbar(pc, ax=ax.ravel().tolist())\n",
    "    return fig"
   ]
  },
  {
   "cell_type": "code",
   "execution_count": 5,
   "metadata": {},
   "outputs": [
    {
     "data": {
      "image/png": "[encoded data removed]",
      "text/plain": [
       "<Figure size 1200x600 with 3 Axes>"
      ]
     },
     "metadata": {},
     "output_type": "display_data"
    }
   ],
   "source": [
    "# Figure 4\n",
    "n = 10\n",
    "m = 2\n",
    "Z, W = getBlockMin(n, m, builder=getMaxConnectivity)\n",
    "\n",
    "fig = cplot(W, Z)\n",
    "\n",
    "# Save as pdf\n",
    "if saving: fig.savefig(\"figs/fig_block_fiedler.pdf\")\n"
   ]
  },
  {
   "cell_type": "code",
   "execution_count": 6,
   "metadata": {},
   "outputs": [
    {
     "data": {
      "image/png": "[encoded data removed]",
      "text/plain": [
       "<Figure size 1200x600 with 3 Axes>"
      ]
     },
     "metadata": {},
     "output_type": "display_data"
    }
   ],
   "source": [
    "# Figure 4\n",
    "Z, W = getBlockMin(n, m, builder=getMinSLEM)\n",
    "\n",
    "fig = cplot(W, Z)\n",
    "if saving: fig.savefig(\"figs/fig_block_slem.pdf\")\n"
   ]
  },
  {
   "cell_type": "code",
   "execution_count": 7,
   "metadata": {},
   "outputs": [
    {
     "data": {
      "image/png": "[encoded data removed]",
      "text/plain": [
       "<Figure size 1200x600 with 3 Axes>"
      ]
     },
     "metadata": {},
     "output_type": "display_data"
    }
   ],
   "source": [
    "# Figure 4\n",
    "Z, W = getBlockMin(n, m, builder=getMinResist)\n",
    "\n",
    "fig = cplot(W, Z)\n",
    "if saving: fig.savefig(\"figs/fig_block_resist.pdf\")\n"
   ]
  },
  {
   "cell_type": "code",
   "execution_count": 8,
   "metadata": {},
   "outputs": [
    {
     "data": {
      "image/png": "[encoded data removed]",
      "text/plain": [
       "<Figure size 1200x600 with 3 Axes>"
      ]
     },
     "metadata": {},
     "output_type": "display_data"
    }
   ],
   "source": [
    "# Figure 4\n",
    "Z, W = getBlockMin(n, m, builder=getMinSpectralDifference)\n",
    "\n",
    "fig = cplot(W, Z)\n",
    "if saving: fig.savefig(\"figs/fig_block_lw.pdf\")\n"
   ]
  },
  {
   "cell_type": "markdown",
   "metadata": {},
   "source": [
    "This example shows a comparison of the execution of the block designs when the computation times are not uniform, and the use of the getMinIteration function to generate designs which minimize the iteration time."
   ]
  },
  {
   "cell_type": "code",
   "execution_count": 9,
   "metadata": {},
   "outputs": [
    {
     "data": {
      "application/vnd.plotly.v1+json": {
       "config": {
        "plotlyServerURL": "https://plot.ly"
       },
       "data": [
        {
         "alignmentgroup": "True",
         "base": [
          0,
          6.099999999917552,
          7.199999999902929,
          13.29999999984124,
          19.39999999985845,
          20.499999999975525
         ],
         "hovertemplate": "Task=Iter 1<br>Start=%{base}<br>Finish=%{x}<br>Resource=%{y}<extra></extra>",
         "legendgroup": "Iter 1",
         "marker": {
          "color": "#636efa",
          "pattern": {
           "shape": ""
          }
         },
         "name": "Iter 1",
         "offsetgroup": "Iter 1",
         "orientation": "h",
         "showlegend": true,
         "textposition": "auto",
         "type": "bar",
         "x": [
          6,
          1,
          5.999999999999999,
          6,
          1,
          1
         ],
         "xaxis": "x",
         "y": [
          "Node 1",
          "Node 2",
          "Node 3",
          "Node 4",
          "Node 5",
          "Node 6"
         ],
         "yaxis": "y"
        },
        {
         "alignmentgroup": "True",
         "base": [
          7.19999999996008,
          13.29999999996038,
          19.399999999796407,
          25.49999999973748,
          31.59999999974376,
          32.699999999822694
         ],
         "hovertemplate": "Task=Iter 2<br>Start=%{base}<br>Finish=%{x}<br>Resource=%{y}<extra></extra>",
         "legendgroup": "Iter 2",
         "marker": {
          "color": "#EF553B",
          "pattern": {
           "shape": ""
          }
         },
         "name": "Iter 2",
         "offsetgroup": "Iter 2",
         "orientation": "h",
         "showlegend": true,
         "textposition": "auto",
         "type": "bar",
         "x": [
          6.000000000000001,
          1,
          6,
          6,
          1,
          1
         ],
         "xaxis": "x",
         "y": [
          "Node 1",
          "Node 2",
          "Node 3",
          "Node 4",
          "Node 5",
          "Node 6"
         ],
         "yaxis": "y"
        },
        {
         "alignmentgroup": "True",
         "base": [
          14.399999999950493,
          25.49999999982205,
          31.59999999968375,
          37.69999999962173,
          43.79999999962213,
          44.8999999997797
         ],
         "hovertemplate": "Task=Iter 3<br>Start=%{base}<br>Finish=%{x}<br>Resource=%{y}<extra></extra>",
         "legendgroup": "Iter 3",
         "marker": {
          "color": "#00cc96",
          "pattern": {
           "shape": ""
          }
         },
         "name": "Iter 3",
         "offsetgroup": "Iter 3",
         "orientation": "h",
         "showlegend": true,
         "textposition": "auto",
         "type": "bar",
         "x": [
          6.000000000000002,
          1,
          5.9999999999999964,
          6,
          1,
          1
         ],
         "xaxis": "x",
         "y": [
          "Node 1",
          "Node 2",
          "Node 3",
          "Node 4",
          "Node 5",
          "Node 6"
         ],
         "yaxis": "y"
        },
        {
         "alignmentgroup": "True",
         "base": [
          26.599999999972585,
          37.69999999970262,
          43.799999999568904,
          49.899999999508545,
          55.999999999512596,
          57.099999999579644
         ],
         "hovertemplate": "Task=Iter 4<br>Start=%{base}<br>Finish=%{x}<br>Resource=%{y}<extra></extra>",
         "legendgroup": "Iter 4",
         "marker": {
          "color": "#ab63fa",
          "pattern": {
           "shape": ""
          }
         },
         "name": "Iter 4",
         "offsetgroup": "Iter 4",
         "orientation": "h",
         "showlegend": true,
         "textposition": "auto",
         "type": "bar",
         "x": [
          5.9999999999999964,
          1,
          6,
          6,
          1,
          1
         ],
         "xaxis": "x",
         "y": [
          "Node 1",
          "Node 2",
          "Node 3",
          "Node 4",
          "Node 5",
          "Node 6"
         ],
         "yaxis": "y"
        },
        {
         "alignmentgroup": "True",
         "base": [
          38.79999999988363,
          49.899999999598045,
          55.99999999945315,
          62.09999999939548,
          68.19999999939141,
          69.29999999944253
         ],
         "hovertemplate": "Task=Iter 5<br>Start=%{base}<br>Finish=%{x}<br>Resource=%{y}<extra></extra>",
         "legendgroup": "Iter 5",
         "marker": {
          "color": "#FFA15A",
          "pattern": {
           "shape": ""
          }
         },
         "name": "Iter 5",
         "offsetgroup": "Iter 5",
         "orientation": "h",
         "showlegend": true,
         "textposition": "auto",
         "type": "bar",
         "x": [
          6,
          1,
          6,
          6,
          1,
          1
         ],
         "xaxis": "x",
         "y": [
          "Node 1",
          "Node 2",
          "Node 3",
          "Node 4",
          "Node 5",
          "Node 6"
         ],
         "yaxis": "y"
        },
        {
         "alignmentgroup": "True",
         "base": [
          50.99999999987165,
          62.09999999946261,
          68.19999999934005,
          74.29999999928084,
          80.3999999992222,
          81.49999999921202
         ],
         "hovertemplate": "Task=Iter 6<br>Start=%{base}<br>Finish=%{x}<br>Resource=%{y}<extra></extra>",
         "legendgroup": "Iter 6",
         "marker": {
          "color": "#19d3f3",
          "pattern": {
           "shape": ""
          }
         },
         "name": "Iter 6",
         "offsetgroup": "Iter 6",
         "orientation": "h",
         "showlegend": true,
         "textposition": "auto",
         "type": "bar",
         "x": [
          6,
          1,
          6,
          6,
          1,
          1
         ],
         "xaxis": "x",
         "y": [
          "Node 1",
          "Node 2",
          "Node 3",
          "Node 4",
          "Node 5",
          "Node 6"
         ],
         "yaxis": "y"
        }
       ],
       "layout": {
        "barmode": "overlay",
        "legend": {
         "title": {
          "text": "Task"
         },
         "tracegroupgap": 0
        },
        "margin": {
         "t": 60
        },
        "template": {
         "data": {
          "bar": [
           {
            "error_x": {
             "color": "#2a3f5f"
            },
            "error_y": {
             "color": "#2a3f5f"
            },
            "marker": {
             "line": {
              "color": "#E5ECF6",
              "width": 0.5
             },
             "pattern": {
              "fillmode": "overlay",
              "size": 10,
              "solidity": 0.2
             }
            },
            "type": "bar"
           }
          ],
          "barpolar": [
           {
            "marker": {
             "line": {
              "color": "#E5ECF6",
              "width": 0.5
             },
             "pattern": {
              "fillmode": "overlay",
              "size": 10,
              "solidity": 0.2
             }
            },
            "type": "barpolar"
           }
          ],
          "carpet": [
           {
            "aaxis": {
             "endlinecolor": "#2a3f5f",
             "gridcolor": "white",
             "linecolor": "white",
             "minorgridcolor": "white",
             "startlinecolor": "#2a3f5f"
            },
            "baxis": {
             "endlinecolor": "#2a3f5f",
             "gridcolor": "white",
             "linecolor": "white",
             "minorgridcolor": "white",
             "startlinecolor": "#2a3f5f"
            },
            "type": "carpet"
           }
          ],
          "choropleth": [
           {
            "colorbar": {
             "outlinewidth": 0,
             "ticks": ""
            },
            "type": "choropleth"
           }
          ],
          "contour": [
           {
            "colorbar": {
             "outlinewidth": 0,
             "ticks": ""
            },
            "colorscale": [
             [
              0,
              "#0d0887"
             ],
             [
              0.1111111111111111,
              "#46039f"
             ],
             [
              0.2222222222222222,
              "#7201a8"
             ],
             [
              0.3333333333333333,
              "#9c179e"
             ],
             [
              0.4444444444444444,
              "#bd3786"
             ],
             [
              0.5555555555555556,
              "#d8576b"
             ],
             [
              0.6666666666666666,
              "#ed7953"
             ],
             [
              0.7777777777777778,
              "#fb9f3a"
             ],
             [
              0.8888888888888888,
              "#fdca26"
             ],
             [
              1,
              "#f0f921"
             ]
            ],
            "type": "contour"
           }
          ],
          "contourcarpet": [
           {
            "colorbar": {
             "outlinewidth": 0,
             "ticks": ""
            },
            "type": "contourcarpet"
           }
          ],
          "heatmap": [
           {
            "colorbar": {
             "outlinewidth": 0,
             "ticks": ""
            },
            "colorscale": [
             [
              0,
              "#0d0887"
             ],
             [
              0.1111111111111111,
              "#46039f"
             ],
             [
              0.2222222222222222,
              "#7201a8"
             ],
             [
              0.3333333333333333,
              "#9c179e"
             ],
             [
              0.4444444444444444,
              "#bd3786"
             ],
             [
              0.5555555555555556,
              "#d8576b"
             ],
             [
              0.6666666666666666,
              "#ed7953"
             ],
             [
              0.7777777777777778,
              "#fb9f3a"
             ],
             [
              0.8888888888888888,
              "#fdca26"
             ],
             [
              1,
              "#f0f921"
             ]
            ],
            "type": "heatmap"
           }
          ],
          "heatmapgl": [
           {
            "colorbar": {
             "outlinewidth": 0,
             "ticks": ""
            },
            "colorscale": [
             [
              0,
              "#0d0887"
             ],
             [
              0.1111111111111111,
              "#46039f"
             ],
             [
              0.2222222222222222,
              "#7201a8"
             ],
             [
              0.3333333333333333,
              "#9c179e"
             ],
             [
              0.4444444444444444,
              "#bd3786"
             ],
             [
              0.5555555555555556,
              "#d8576b"
             ],
             [
              0.6666666666666666,
              "#ed7953"
             ],
             [
              0.7777777777777778,
              "#fb9f3a"
             ],
             [
              0.8888888888888888,
              "#fdca26"
             ],
             [
              1,
              "#f0f921"
             ]
            ],
            "type": "heatmapgl"
           }
          ],
          "histogram": [
           {
            "marker": {
             "pattern": {
              "fillmode": "overlay",
              "size": 10,
              "solidity": 0.2
             }
            },
            "type": "histogram"
           }
          ],
          "histogram2d": [
           {
            "colorbar": {
             "outlinewidth": 0,
             "ticks": ""
            },
            "colorscale": [
             [
              0,
              "#0d0887"
             ],
             [
              0.1111111111111111,
              "#46039f"
             ],
             [
              0.2222222222222222,
              "#7201a8"
             ],
             [
              0.3333333333333333,
              "#9c179e"
             ],
             [
              0.4444444444444444,
              "#bd3786"
             ],
             [
              0.5555555555555556,
              "#d8576b"
             ],
             [
              0.6666666666666666,
              "#ed7953"
             ],
             [
              0.7777777777777778,
              "#fb9f3a"
             ],
             [
              0.8888888888888888,
              "#fdca26"
             ],
             [
              1,
              "#f0f921"
             ]
            ],
            "type": "histogram2d"
           }
          ],
          "histogram2dcontour": [
           {
            "colorbar": {
             "outlinewidth": 0,
             "ticks": ""
            },
            "colorscale": [
             [
              0,
              "#0d0887"
             ],
             [
              0.1111111111111111,
              "#46039f"
             ],
             [
              0.2222222222222222,
              "#7201a8"
             ],
             [
              0.3333333333333333,
              "#9c179e"
             ],
             [
              0.4444444444444444,
              "#bd3786"
             ],
             [
              0.5555555555555556,
              "#d8576b"
             ],
             [
              0.6666666666666666,
              "#ed7953"
             ],
             [
              0.7777777777777778,
              "#fb9f3a"
             ],
             [
              0.8888888888888888,
              "#fdca26"
             ],
             [
              1,
              "#f0f921"
             ]
            ],
            "type": "histogram2dcontour"
           }
          ],
          "mesh3d": [
           {
            "colorbar": {
             "outlinewidth": 0,
             "ticks": ""
            },
            "type": "mesh3d"
           }
          ],
          "parcoords": [
           {
            "line": {
             "colorbar": {
              "outlinewidth": 0,
              "ticks": ""
             }
            },
            "type": "parcoords"
           }
          ],
          "pie": [
           {
            "automargin": true,
            "type": "pie"
           }
          ],
          "scatter": [
           {
            "fillpattern": {
             "fillmode": "overlay",
             "size": 10,
             "solidity": 0.2
            },
            "type": "scatter"
           }
          ],
          "scatter3d": [
           {
            "line": {
             "colorbar": {
              "outlinewidth": 0,
              "ticks": ""
             }
            },
            "marker": {
             "colorbar": {
              "outlinewidth": 0,
              "ticks": ""
             }
            },
            "type": "scatter3d"
           }
          ],
          "scattercarpet": [
           {
            "marker": {
             "colorbar": {
              "outlinewidth": 0,
              "ticks": ""
             }
            },
            "type": "scattercarpet"
           }
          ],
          "scattergeo": [
           {
            "marker": {
             "colorbar": {
              "outlinewidth": 0,
              "ticks": ""
             }
            },
            "type": "scattergeo"
           }
          ],
          "scattergl": [
           {
            "marker": {
             "colorbar": {
              "outlinewidth": 0,
              "ticks": ""
             }
            },
            "type": "scattergl"
           }
          ],
          "scattermapbox": [
           {
            "marker": {
             "colorbar": {
              "outlinewidth": 0,
              "ticks": ""
             }
            },
            "type": "scattermapbox"
           }
          ],
          "scatterpolar": [
           {
            "marker": {
             "colorbar": {
              "outlinewidth": 0,
              "ticks": ""
             }
            },
            "type": "scatterpolar"
           }
          ],
          "scatterpolargl": [
           {
            "marker": {
             "colorbar": {
              "outlinewidth": 0,
              "ticks": ""
             }
            },
            "type": "scatterpolargl"
           }
          ],
          "scatterternary": [
           {
            "marker": {
             "colorbar": {
              "outlinewidth": 0,
              "ticks": ""
             }
            },
            "type": "scatterternary"
           }
          ],
          "surface": [
           {
            "colorbar": {
             "outlinewidth": 0,
             "ticks": ""
            },
            "colorscale": [
             [
              0,
              "#0d0887"
             ],
             [
              0.1111111111111111,
              "#46039f"
             ],
             [
              0.2222222222222222,
              "#7201a8"
             ],
             [
              0.3333333333333333,
              "#9c179e"
             ],
             [
              0.4444444444444444,
              "#bd3786"
             ],
             [
              0.5555555555555556,
              "#d8576b"
             ],
             [
              0.6666666666666666,
              "#ed7953"
             ],
             [
              0.7777777777777778,
              "#fb9f3a"
             ],
             [
              0.8888888888888888,
              "#fdca26"
             ],
             [
              1,
              "#f0f921"
             ]
            ],
            "type": "surface"
           }
          ],
          "table": [
           {
            "cells": {
             "fill": {
              "color": "#EBF0F8"
             },
             "line": {
              "color": "white"
             }
            },
            "header": {
             "fill": {
              "color": "#C8D4E3"
             },
             "line": {
              "color": "white"
             }
            },
            "type": "table"
           }
          ]
         },
         "layout": {
          "annotationdefaults": {
           "arrowcolor": "#2a3f5f",
           "arrowhead": 0,
           "arrowwidth": 1
          },
          "autotypenumbers": "strict",
          "coloraxis": {
           "colorbar": {
            "outlinewidth": 0,
            "ticks": ""
           }
          },
          "colorscale": {
           "diverging": [
            [
             0,
             "#8e0152"
            ],
            [
             0.1,
             "#c51b7d"
            ],
            [
             0.2,
             "#de77ae"
            ],
            [
             0.3,
             "#f1b6da"
            ],
            [
             0.4,
             "#fde0ef"
            ],
            [
             0.5,
             "#f7f7f7"
            ],
            [
             0.6,
             "#e6f5d0"
            ],
            [
             0.7,
             "#b8e186"
            ],
            [
             0.8,
             "#7fbc41"
            ],
            [
             0.9,
             "#4d9221"
            ],
            [
             1,
             "#276419"
            ]
           ],
           "sequential": [
            [
             0,
             "#0d0887"
            ],
            [
             0.1111111111111111,
             "#46039f"
            ],
            [
             0.2222222222222222,
             "#7201a8"
            ],
            [
             0.3333333333333333,
             "#9c179e"
            ],
            [
             0.4444444444444444,
             "#bd3786"
            ],
            [
             0.5555555555555556,
             "#d8576b"
            ],
            [
             0.6666666666666666,
             "#ed7953"
            ],
            [
             0.7777777777777778,
             "#fb9f3a"
            ],
            [
             0.8888888888888888,
             "#fdca26"
            ],
            [
             1,
             "#f0f921"
            ]
           ],
           "sequentialminus": [
            [
             0,
             "#0d0887"
            ],
            [
             0.1111111111111111,
             "#46039f"
            ],
            [
             0.2222222222222222,
             "#7201a8"
            ],
            [
             0.3333333333333333,
             "#9c179e"
            ],
            [
             0.4444444444444444,
             "#bd3786"
            ],
            [
             0.5555555555555556,
             "#d8576b"
            ],
            [
             0.6666666666666666,
             "#ed7953"
            ],
            [
             0.7777777777777778,
             "#fb9f3a"
            ],
            [
             0.8888888888888888,
             "#fdca26"
            ],
            [
             1,
             "#f0f921"
            ]
           ]
          },
          "colorway": [
           "#636efa",
           "#EF553B",
           "#00cc96",
           "#ab63fa",
           "#FFA15A",
           "#19d3f3",
           "#FF6692",
           "#B6E880",
           "#FF97FF",
           "#FECB52"
          ],
          "font": {
           "color": "#2a3f5f"
          },
          "geo": {
           "bgcolor": "white",
           "lakecolor": "white",
           "landcolor": "#E5ECF6",
           "showlakes": true,
           "showland": true,
           "subunitcolor": "white"
          },
          "hoverlabel": {
           "align": "left"
          },
          "hovermode": "closest",
          "mapbox": {
           "style": "light"
          },
          "paper_bgcolor": "white",
          "plot_bgcolor": "#E5ECF6",
          "polar": {
           "angularaxis": {
            "gridcolor": "white",
            "linecolor": "white",
            "ticks": ""
           },
           "bgcolor": "#E5ECF6",
           "radialaxis": {
            "gridcolor": "white",
            "linecolor": "white",
            "ticks": ""
           }
          },
          "scene": {
           "xaxis": {
            "backgroundcolor": "#E5ECF6",
            "gridcolor": "white",
            "gridwidth": 2,
            "linecolor": "white",
            "showbackground": true,
            "ticks": "",
            "zerolinecolor": "white"
           },
           "yaxis": {
            "backgroundcolor": "#E5ECF6",
            "gridcolor": "white",
            "gridwidth": 2,
            "linecolor": "white",
            "showbackground": true,
            "ticks": "",
            "zerolinecolor": "white"
           },
           "zaxis": {
            "backgroundcolor": "#E5ECF6",
            "gridcolor": "white",
            "gridwidth": 2,
            "linecolor": "white",
            "showbackground": true,
            "ticks": "",
            "zerolinecolor": "white"
           }
          },
          "shapedefaults": {
           "line": {
            "color": "#2a3f5f"
           }
          },
          "ternary": {
           "aaxis": {
            "gridcolor": "white",
            "linecolor": "white",
            "ticks": ""
           },
           "baxis": {
            "gridcolor": "white",
            "linecolor": "white",
            "ticks": ""
           },
           "bgcolor": "#E5ECF6",
           "caxis": {
            "gridcolor": "white",
            "linecolor": "white",
            "ticks": ""
           }
          },
          "title": {
           "x": 0.05
          },
          "xaxis": {
           "automargin": true,
           "gridcolor": "white",
           "linecolor": "white",
           "ticks": "",
           "title": {
            "standoff": 15
           },
           "zerolinecolor": "white",
           "zerolinewidth": 2
          },
          "yaxis": {
           "automargin": true,
           "gridcolor": "white",
           "linecolor": "white",
           "ticks": "",
           "title": {
            "standoff": 15
           },
           "zerolinecolor": "white",
           "zerolinewidth": 2
          }
         }
        },
        "title": {
         "text": "6-Block"
        },
        "xaxis": {
         "anchor": "y",
         "domain": [
          0,
          1
         ],
         "title": {
          "text": "Time Units"
         },
         "type": "linear"
        },
        "yaxis": {
         "anchor": "x",
         "autorange": "reversed",
         "domain": [
          0,
          1
         ],
         "title": {
          "text": "Resource"
         }
        }
       }
      }
     },
     "metadata": {},
     "output_type": "display_data"
    },
    {
     "data": {
      "application/vnd.plotly.v1+json": {
       "config": {
        "plotlyServerURL": "https://plot.ly"
       },
       "data": [
        {
         "alignmentgroup": "True",
         "base": [
          0,
          0,
          6.099999999175694,
          6.099999999219126,
          12.199999999650068,
          12.199999999650068
         ],
         "hovertemplate": "Task=Iter 1<br>Start=%{base}<br>Finish=%{x}<br>Resource=%{y}<extra></extra>",
         "legendgroup": "Iter 1",
         "marker": {
          "color": "#636efa",
          "pattern": {
           "shape": ""
          }
         },
         "name": "Iter 1",
         "offsetgroup": "Iter 1",
         "orientation": "h",
         "showlegend": true,
         "textposition": "auto",
         "type": "bar",
         "x": [
          6,
          1,
          6,
          6,
          1,
          1
         ],
         "xaxis": "x",
         "y": [
          "Node 1",
          "Node 2",
          "Node 3",
          "Node 4",
          "Node 5",
          "Node 6"
         ],
         "yaxis": "y"
        },
        {
         "alignmentgroup": "True",
         "base": [
          12.199999998828666,
          12.200000000135399,
          18.299999998325376,
          18.299999998358945,
          24.39999999805837,
          24.39999999805837
         ],
         "hovertemplate": "Task=Iter 2<br>Start=%{base}<br>Finish=%{x}<br>Resource=%{y}<extra></extra>",
         "legendgroup": "Iter 2",
         "marker": {
          "color": "#EF553B",
          "pattern": {
           "shape": ""
          }
         },
         "name": "Iter 2",
         "offsetgroup": "Iter 2",
         "orientation": "h",
         "showlegend": true,
         "textposition": "auto",
         "type": "bar",
         "x": [
          6,
          1,
          6,
          6,
          1,
          1
         ],
         "xaxis": "x",
         "y": [
          "Node 1",
          "Node 2",
          "Node 3",
          "Node 4",
          "Node 5",
          "Node 6"
         ],
         "yaxis": "y"
        },
        {
         "alignmentgroup": "True",
         "base": [
          24.39999999785783,
          24.399999998700554,
          30.499999997440963,
          30.49999999744477,
          36.59999999794568,
          36.59999999794568
         ],
         "hovertemplate": "Task=Iter 3<br>Start=%{base}<br>Finish=%{x}<br>Resource=%{y}<extra></extra>",
         "legendgroup": "Iter 3",
         "marker": {
          "color": "#00cc96",
          "pattern": {
           "shape": ""
          }
         },
         "name": "Iter 3",
         "offsetgroup": "Iter 3",
         "orientation": "h",
         "showlegend": true,
         "textposition": "auto",
         "type": "bar",
         "x": [
          6,
          1,
          6.0000000000000036,
          6.0000000000000036,
          1,
          1
         ],
         "xaxis": "x",
         "y": [
          "Node 1",
          "Node 2",
          "Node 3",
          "Node 4",
          "Node 5",
          "Node 6"
         ],
         "yaxis": "y"
        },
        {
         "alignmentgroup": "True",
         "base": [
          36.599999996929355,
          36.59999999847924,
          42.69999999649214,
          42.69999999651221,
          48.79999999698465,
          48.79999999698465
         ],
         "hovertemplate": "Task=Iter 4<br>Start=%{base}<br>Finish=%{x}<br>Resource=%{y}<extra></extra>",
         "legendgroup": "Iter 4",
         "marker": {
          "color": "#ab63fa",
          "pattern": {
           "shape": ""
          }
         },
         "name": "Iter 4",
         "offsetgroup": "Iter 4",
         "orientation": "h",
         "showlegend": true,
         "textposition": "auto",
         "type": "bar",
         "x": [
          6,
          1,
          6,
          6,
          1,
          1
         ],
         "xaxis": "x",
         "y": [
          "Node 1",
          "Node 2",
          "Node 3",
          "Node 4",
          "Node 5",
          "Node 6"
         ],
         "yaxis": "y"
        },
        {
         "alignmentgroup": "True",
         "base": [
          48.7999999960017,
          48.799999997490396,
          54.89999999556761,
          54.899999995601114,
          60.99999999596392,
          60.99999999596392
         ],
         "hovertemplate": "Task=Iter 5<br>Start=%{base}<br>Finish=%{x}<br>Resource=%{y}<extra></extra>",
         "legendgroup": "Iter 5",
         "marker": {
          "color": "#FFA15A",
          "pattern": {
           "shape": ""
          }
         },
         "name": "Iter 5",
         "offsetgroup": "Iter 5",
         "orientation": "h",
         "showlegend": true,
         "textposition": "auto",
         "type": "bar",
         "x": [
          6,
          1,
          6,
          6,
          1,
          1
         ],
         "xaxis": "x",
         "y": [
          "Node 1",
          "Node 2",
          "Node 3",
          "Node 4",
          "Node 5",
          "Node 6"
         ],
         "yaxis": "y"
        },
        {
         "alignmentgroup": "True",
         "base": [
          60.99999999512078,
          60.99999999651265,
          67.09999999472525,
          67.09999999476057,
          73.19999999473647,
          73.19999999473647
         ],
         "hovertemplate": "Task=Iter 6<br>Start=%{base}<br>Finish=%{x}<br>Resource=%{y}<extra></extra>",
         "legendgroup": "Iter 6",
         "marker": {
          "color": "#19d3f3",
          "pattern": {
           "shape": ""
          }
         },
         "name": "Iter 6",
         "offsetgroup": "Iter 6",
         "orientation": "h",
         "showlegend": true,
         "textposition": "auto",
         "type": "bar",
         "x": [
          6.000000000000007,
          1,
          6,
          6,
          1,
          1
         ],
         "xaxis": "x",
         "y": [
          "Node 1",
          "Node 2",
          "Node 3",
          "Node 4",
          "Node 5",
          "Node 6"
         ],
         "yaxis": "y"
        },
        {
         "alignmentgroup": "True",
         "base": [
          73.19999999430762,
          73.19999999550865,
          79.2999999939502,
          79.29999999394973,
          85.39999999359196,
          85.39999999359196
         ],
         "hovertemplate": "Task=Iter 7<br>Start=%{base}<br>Finish=%{x}<br>Resource=%{y}<extra></extra>",
         "legendgroup": "Iter 7",
         "marker": {
          "color": "#FF6692",
          "pattern": {
           "shape": ""
          }
         },
         "name": "Iter 7",
         "offsetgroup": "Iter 7",
         "orientation": "h",
         "showlegend": true,
         "textposition": "auto",
         "type": "bar",
         "x": [
          6,
          1,
          6,
          6,
          1,
          1
         ],
         "xaxis": "x",
         "y": [
          "Node 1",
          "Node 2",
          "Node 3",
          "Node 4",
          "Node 5",
          "Node 6"
         ],
         "yaxis": "y"
        }
       ],
       "layout": {
        "barmode": "overlay",
        "legend": {
         "title": {
          "text": "Task"
         },
         "tracegroupgap": 0
        },
        "margin": {
         "t": 60
        },
        "template": {
         "data": {
          "bar": [
           {
            "error_x": {
             "color": "#2a3f5f"
            },
            "error_y": {
             "color": "#2a3f5f"
            },
            "marker": {
             "line": {
              "color": "#E5ECF6",
              "width": 0.5
             },
             "pattern": {
              "fillmode": "overlay",
              "size": 10,
              "solidity": 0.2
             }
            },
            "type": "bar"
           }
          ],
          "barpolar": [
           {
            "marker": {
             "line": {
              "color": "#E5ECF6",
              "width": 0.5
             },
             "pattern": {
              "fillmode": "overlay",
              "size": 10,
              "solidity": 0.2
             }
            },
            "type": "barpolar"
           }
          ],
          "carpet": [
           {
            "aaxis": {
             "endlinecolor": "#2a3f5f",
             "gridcolor": "white",
             "linecolor": "white",
             "minorgridcolor": "white",
             "startlinecolor": "#2a3f5f"
            },
            "baxis": {
             "endlinecolor": "#2a3f5f",
             "gridcolor": "white",
             "linecolor": "white",
             "minorgridcolor": "white",
             "startlinecolor": "#2a3f5f"
            },
            "type": "carpet"
           }
          ],
          "choropleth": [
           {
            "colorbar": {
             "outlinewidth": 0,
             "ticks": ""
            },
            "type": "choropleth"
           }
          ],
          "contour": [
           {
            "colorbar": {
             "outlinewidth": 0,
             "ticks": ""
            },
            "colorscale": [
             [
              0,
              "#0d0887"
             ],
             [
              0.1111111111111111,
              "#46039f"
             ],
             [
              0.2222222222222222,
              "#7201a8"
             ],
             [
              0.3333333333333333,
              "#9c179e"
             ],
             [
              0.4444444444444444,
              "#bd3786"
             ],
             [
              0.5555555555555556,
              "#d8576b"
             ],
             [
              0.6666666666666666,
              "#ed7953"
             ],
             [
              0.7777777777777778,
              "#fb9f3a"
             ],
             [
              0.8888888888888888,
              "#fdca26"
             ],
             [
              1,
              "#f0f921"
             ]
            ],
            "type": "contour"
           }
          ],
          "contourcarpet": [
           {
            "colorbar": {
             "outlinewidth": 0,
             "ticks": ""
            },
            "type": "contourcarpet"
           }
          ],
          "heatmap": [
           {
            "colorbar": {
             "outlinewidth": 0,
             "ticks": ""
            },
            "colorscale": [
             [
              0,
              "#0d0887"
             ],
             [
              0.1111111111111111,
              "#46039f"
             ],
             [
              0.2222222222222222,
              "#7201a8"
             ],
             [
              0.3333333333333333,
              "#9c179e"
             ],
             [
              0.4444444444444444,
              "#bd3786"
             ],
             [
              0.5555555555555556,
              "#d8576b"
             ],
             [
              0.6666666666666666,
              "#ed7953"
             ],
             [
              0.7777777777777778,
              "#fb9f3a"
             ],
             [
              0.8888888888888888,
              "#fdca26"
             ],
             [
              1,
              "#f0f921"
             ]
            ],
            "type": "heatmap"
           }
          ],
          "heatmapgl": [
           {
            "colorbar": {
             "outlinewidth": 0,
             "ticks": ""
            },
            "colorscale": [
             [
              0,
              "#0d0887"
             ],
             [
              0.1111111111111111,
              "#46039f"
             ],
             [
              0.2222222222222222,
              "#7201a8"
             ],
             [
              0.3333333333333333,
              "#9c179e"
             ],
             [
              0.4444444444444444,
              "#bd3786"
             ],
             [
              0.5555555555555556,
              "#d8576b"
             ],
             [
              0.6666666666666666,
              "#ed7953"
             ],
             [
              0.7777777777777778,
              "#fb9f3a"
             ],
             [
              0.8888888888888888,
              "#fdca26"
             ],
             [
              1,
              "#f0f921"
             ]
            ],
            "type": "heatmapgl"
           }
          ],
          "histogram": [
           {
            "marker": {
             "pattern": {
              "fillmode": "overlay",
              "size": 10,
              "solidity": 0.2
             }
            },
            "type": "histogram"
           }
          ],
          "histogram2d": [
           {
            "colorbar": {
             "outlinewidth": 0,
             "ticks": ""
            },
            "colorscale": [
             [
              0,
              "#0d0887"
             ],
             [
              0.1111111111111111,
              "#46039f"
             ],
             [
              0.2222222222222222,
              "#7201a8"
             ],
             [
              0.3333333333333333,
              "#9c179e"
             ],
             [
              0.4444444444444444,
              "#bd3786"
             ],
             [
              0.5555555555555556,
              "#d8576b"
             ],
             [
              0.6666666666666666,
              "#ed7953"
             ],
             [
              0.7777777777777778,
              "#fb9f3a"
             ],
             [
              0.8888888888888888,
              "#fdca26"
             ],
             [
              1,
              "#f0f921"
             ]
            ],
            "type": "histogram2d"
           }
          ],
          "histogram2dcontour": [
           {
            "colorbar": {
             "outlinewidth": 0,
             "ticks": ""
            },
            "colorscale": [
             [
              0,
              "#0d0887"
             ],
             [
              0.1111111111111111,
              "#46039f"
             ],
             [
              0.2222222222222222,
              "#7201a8"
             ],
             [
              0.3333333333333333,
              "#9c179e"
             ],
             [
              0.4444444444444444,
              "#bd3786"
             ],
             [
              0.5555555555555556,
              "#d8576b"
             ],
             [
              0.6666666666666666,
              "#ed7953"
             ],
             [
              0.7777777777777778,
              "#fb9f3a"
             ],
             [
              0.8888888888888888,
              "#fdca26"
             ],
             [
              1,
              "#f0f921"
             ]
            ],
            "type": "histogram2dcontour"
           }
          ],
          "mesh3d": [
           {
            "colorbar": {
             "outlinewidth": 0,
             "ticks": ""
            },
            "type": "mesh3d"
           }
          ],
          "parcoords": [
           {
            "line": {
             "colorbar": {
              "outlinewidth": 0,
              "ticks": ""
             }
            },
            "type": "parcoords"
           }
          ],
          "pie": [
           {
            "automargin": true,
            "type": "pie"
           }
          ],
          "scatter": [
           {
            "fillpattern": {
             "fillmode": "overlay",
             "size": 10,
             "solidity": 0.2
            },
            "type": "scatter"
           }
          ],
          "scatter3d": [
           {
            "line": {
             "colorbar": {
              "outlinewidth": 0,
              "ticks": ""
             }
            },
            "marker": {
             "colorbar": {
              "outlinewidth": 0,
              "ticks": ""
             }
            },
            "type": "scatter3d"
           }
          ],
          "scattercarpet": [
           {
            "marker": {
             "colorbar": {
              "outlinewidth": 0,
              "ticks": ""
             }
            },
            "type": "scattercarpet"
           }
          ],
          "scattergeo": [
           {
            "marker": {
             "colorbar": {
              "outlinewidth": 0,
              "ticks": ""
             }
            },
            "type": "scattergeo"
           }
          ],
          "scattergl": [
           {
            "marker": {
             "colorbar": {
              "outlinewidth": 0,
              "ticks": ""
             }
            },
            "type": "scattergl"
           }
          ],
          "scattermapbox": [
           {
            "marker": {
             "colorbar": {
              "outlinewidth": 0,
              "ticks": ""
             }
            },
            "type": "scattermapbox"
           }
          ],
          "scatterpolar": [
           {
            "marker": {
             "colorbar": {
              "outlinewidth": 0,
              "ticks": ""
             }
            },
            "type": "scatterpolar"
           }
          ],
          "scatterpolargl": [
           {
            "marker": {
             "colorbar": {
              "outlinewidth": 0,
              "ticks": ""
             }
            },
            "type": "scatterpolargl"
           }
          ],
          "scatterternary": [
           {
            "marker": {
             "colorbar": {
              "outlinewidth": 0,
              "ticks": ""
             }
            },
            "type": "scatterternary"
           }
          ],
          "surface": [
           {
            "colorbar": {
             "outlinewidth": 0,
             "ticks": ""
            },
            "colorscale": [
             [
              0,
              "#0d0887"
             ],
             [
              0.1111111111111111,
              "#46039f"
             ],
             [
              0.2222222222222222,
              "#7201a8"
             ],
             [
              0.3333333333333333,
              "#9c179e"
             ],
             [
              0.4444444444444444,
              "#bd3786"
             ],
             [
              0.5555555555555556,
              "#d8576b"
             ],
             [
              0.6666666666666666,
              "#ed7953"
             ],
             [
              0.7777777777777778,
              "#fb9f3a"
             ],
             [
              0.8888888888888888,
              "#fdca26"
             ],
             [
              1,
              "#f0f921"
             ]
            ],
            "type": "surface"
           }
          ],
          "table": [
           {
            "cells": {
             "fill": {
              "color": "#EBF0F8"
             },
             "line": {
              "color": "white"
             }
            },
            "header": {
             "fill": {
              "color": "#C8D4E3"
             },
             "line": {
              "color": "white"
             }
            },
            "type": "table"
           }
          ]
         },
         "layout": {
          "annotationdefaults": {
           "arrowcolor": "#2a3f5f",
           "arrowhead": 0,
           "arrowwidth": 1
          },
          "autotypenumbers": "strict",
          "coloraxis": {
           "colorbar": {
            "outlinewidth": 0,
            "ticks": ""
           }
          },
          "colorscale": {
           "diverging": [
            [
             0,
             "#8e0152"
            ],
            [
             0.1,
             "#c51b7d"
            ],
            [
             0.2,
             "#de77ae"
            ],
            [
             0.3,
             "#f1b6da"
            ],
            [
             0.4,
             "#fde0ef"
            ],
            [
             0.5,
             "#f7f7f7"
            ],
            [
             0.6,
             "#e6f5d0"
            ],
            [
             0.7,
             "#b8e186"
            ],
            [
             0.8,
             "#7fbc41"
            ],
            [
             0.9,
             "#4d9221"
            ],
            [
             1,
             "#276419"
            ]
           ],
           "sequential": [
            [
             0,
             "#0d0887"
            ],
            [
             0.1111111111111111,
             "#46039f"
            ],
            [
             0.2222222222222222,
             "#7201a8"
            ],
            [
             0.3333333333333333,
             "#9c179e"
            ],
            [
             0.4444444444444444,
             "#bd3786"
            ],
            [
             0.5555555555555556,
             "#d8576b"
            ],
            [
             0.6666666666666666,
             "#ed7953"
            ],
            [
             0.7777777777777778,
             "#fb9f3a"
            ],
            [
             0.8888888888888888,
             "#fdca26"
            ],
            [
             1,
             "#f0f921"
            ]
           ],
           "sequentialminus": [
            [
             0,
             "#0d0887"
            ],
            [
             0.1111111111111111,
             "#46039f"
            ],
            [
             0.2222222222222222,
             "#7201a8"
            ],
            [
             0.3333333333333333,
             "#9c179e"
            ],
            [
             0.4444444444444444,
             "#bd3786"
            ],
            [
             0.5555555555555556,
             "#d8576b"
            ],
            [
             0.6666666666666666,
             "#ed7953"
            ],
            [
             0.7777777777777778,
             "#fb9f3a"
            ],
            [
             0.8888888888888888,
             "#fdca26"
            ],
            [
             1,
             "#f0f921"
            ]
           ]
          },
          "colorway": [
           "#636efa",
           "#EF553B",
           "#00cc96",
           "#ab63fa",
           "#FFA15A",
           "#19d3f3",
           "#FF6692",
           "#B6E880",
           "#FF97FF",
           "#FECB52"
          ],
          "font": {
           "color": "#2a3f5f"
          },
          "geo": {
           "bgcolor": "white",
           "lakecolor": "white",
           "landcolor": "#E5ECF6",
           "showlakes": true,
           "showland": true,
           "subunitcolor": "white"
          },
          "hoverlabel": {
           "align": "left"
          },
          "hovermode": "closest",
          "mapbox": {
           "style": "light"
          },
          "paper_bgcolor": "white",
          "plot_bgcolor": "#E5ECF6",
          "polar": {
           "angularaxis": {
            "gridcolor": "white",
            "linecolor": "white",
            "ticks": ""
           },
           "bgcolor": "#E5ECF6",
           "radialaxis": {
            "gridcolor": "white",
            "linecolor": "white",
            "ticks": ""
           }
          },
          "scene": {
           "xaxis": {
            "backgroundcolor": "#E5ECF6",
            "gridcolor": "white",
            "gridwidth": 2,
            "linecolor": "white",
            "showbackground": true,
            "ticks": "",
            "zerolinecolor": "white"
           },
           "yaxis": {
            "backgroundcolor": "#E5ECF6",
            "gridcolor": "white",
            "gridwidth": 2,
            "linecolor": "white",
            "showbackground": true,
            "ticks": "",
            "zerolinecolor": "white"
           },
           "zaxis": {
            "backgroundcolor": "#E5ECF6",
            "gridcolor": "white",
            "gridwidth": 2,
            "linecolor": "white",
            "showbackground": true,
            "ticks": "",
            "zerolinecolor": "white"
           }
          },
          "shapedefaults": {
           "line": {
            "color": "#2a3f5f"
           }
          },
          "ternary": {
           "aaxis": {
            "gridcolor": "white",
            "linecolor": "white",
            "ticks": ""
           },
           "baxis": {
            "gridcolor": "white",
            "linecolor": "white",
            "ticks": ""
           },
           "bgcolor": "#E5ECF6",
           "caxis": {
            "gridcolor": "white",
            "linecolor": "white",
            "ticks": ""
           }
          },
          "title": {
           "x": 0.05
          },
          "xaxis": {
           "automargin": true,
           "gridcolor": "white",
           "linecolor": "white",
           "ticks": "",
           "title": {
            "standoff": 15
           },
           "zerolinecolor": "white",
           "zerolinewidth": 2
          },
          "yaxis": {
           "automargin": true,
           "gridcolor": "white",
           "linecolor": "white",
           "ticks": "",
           "title": {
            "standoff": 15
           },
           "zerolinecolor": "white",
           "zerolinewidth": 2
          }
         }
        },
        "title": {
         "text": "3-Block"
        },
        "xaxis": {
         "anchor": "y",
         "domain": [
          0,
          1
         ],
         "title": {
          "text": "Time Units"
         },
         "type": "linear"
        },
        "yaxis": {
         "anchor": "x",
         "autorange": "reversed",
         "domain": [
          0,
          1
         ],
         "title": {
          "text": "Resource"
         }
        }
       }
      }
     },
     "metadata": {},
     "output_type": "display_data"
    },
    {
     "data": {
      "application/vnd.plotly.v1+json": {
       "config": {
        "plotlyServerURL": "https://plot.ly"
       },
       "data": [
        {
         "alignmentgroup": "True",
         "base": [
          0,
          0,
          0,
          6.09999999949389,
          6.1000000001279595,
          6.100000000012147
         ],
         "hovertemplate": "Task=Iter 1<br>Start=%{base}<br>Finish=%{x}<br>Resource=%{y}<extra></extra>",
         "legendgroup": "Iter 1",
         "marker": {
          "color": "#636efa",
          "pattern": {
           "shape": ""
          }
         },
         "name": "Iter 1",
         "offsetgroup": "Iter 1",
         "orientation": "h",
         "showlegend": true,
         "textposition": "auto",
         "type": "bar",
         "x": [
          6,
          1,
          6,
          5.999999999999999,
          1,
          1
         ],
         "xaxis": "x",
         "y": [
          "Node 1",
          "Node 2",
          "Node 3",
          "Node 4",
          "Node 5",
          "Node 6"
         ],
         "yaxis": "y"
        },
        {
         "alignmentgroup": "True",
         "base": [
          12.199999999170009,
          12.199999999832954,
          12.19999999913671,
          18.29999999885952,
          18.29999999933473,
          18.299999999225957
         ],
         "hovertemplate": "Task=Iter 2<br>Start=%{base}<br>Finish=%{x}<br>Resource=%{y}<extra></extra>",
         "legendgroup": "Iter 2",
         "marker": {
          "color": "#EF553B",
          "pattern": {
           "shape": ""
          }
         },
         "name": "Iter 2",
         "offsetgroup": "Iter 2",
         "orientation": "h",
         "showlegend": true,
         "textposition": "auto",
         "type": "bar",
         "x": [
          6.000000000000002,
          1,
          5.999999999999998,
          6,
          1,
          1
         ],
         "xaxis": "x",
         "y": [
          "Node 1",
          "Node 2",
          "Node 3",
          "Node 4",
          "Node 5",
          "Node 6"
         ],
         "yaxis": "y"
        },
        {
         "alignmentgroup": "True",
         "base": [
          24.399999998509035,
          24.399999999342008,
          24.39999999850829,
          30.49999999819138,
          30.499999998454136,
          30.49999999847046
         ],
         "hovertemplate": "Task=Iter 3<br>Start=%{base}<br>Finish=%{x}<br>Resource=%{y}<extra></extra>",
         "legendgroup": "Iter 3",
         "marker": {
          "color": "#00cc96",
          "pattern": {
           "shape": ""
          }
         },
         "name": "Iter 3",
         "offsetgroup": "Iter 3",
         "orientation": "h",
         "showlegend": true,
         "textposition": "auto",
         "type": "bar",
         "x": [
          6,
          1,
          6,
          6.0000000000000036,
          1,
          1
         ],
         "xaxis": "x",
         "y": [
          "Node 1",
          "Node 2",
          "Node 3",
          "Node 4",
          "Node 5",
          "Node 6"
         ],
         "yaxis": "y"
        },
        {
         "alignmentgroup": "True",
         "base": [
          36.59999999783898,
          36.59999999882821,
          36.59999999783611,
          42.69999999753959,
          42.69999999791116,
          42.69999999792142
         ],
         "hovertemplate": "Task=Iter 4<br>Start=%{base}<br>Finish=%{x}<br>Resource=%{y}<extra></extra>",
         "legendgroup": "Iter 4",
         "marker": {
          "color": "#ab63fa",
          "pattern": {
           "shape": ""
          }
         },
         "name": "Iter 4",
         "offsetgroup": "Iter 4",
         "orientation": "h",
         "showlegend": true,
         "textposition": "auto",
         "type": "bar",
         "x": [
          6,
          1,
          6,
          6,
          1,
          1
         ],
         "xaxis": "x",
         "y": [
          "Node 1",
          "Node 2",
          "Node 3",
          "Node 4",
          "Node 5",
          "Node 6"
         ],
         "yaxis": "y"
        },
        {
         "alignmentgroup": "True",
         "base": [
          48.79999999718209,
          48.79999999794316,
          48.79999999718088,
          54.89999999690179,
          54.89999999740576,
          54.89999999740389
         ],
         "hovertemplate": "Task=Iter 5<br>Start=%{base}<br>Finish=%{x}<br>Resource=%{y}<extra></extra>",
         "legendgroup": "Iter 5",
         "marker": {
          "color": "#FFA15A",
          "pattern": {
           "shape": ""
          }
         },
         "name": "Iter 5",
         "offsetgroup": "Iter 5",
         "orientation": "h",
         "showlegend": true,
         "textposition": "auto",
         "type": "bar",
         "x": [
          6,
          1,
          6,
          6,
          1,
          1
         ],
         "xaxis": "x",
         "y": [
          "Node 1",
          "Node 2",
          "Node 3",
          "Node 4",
          "Node 5",
          "Node 6"
         ],
         "yaxis": "y"
        },
        {
         "alignmentgroup": "True",
         "base": [
          60.99999999655491,
          60.99999999777945,
          60.99999999655687,
          67.09999999623814,
          67.09999999651315,
          67.09999999624996
         ],
         "hovertemplate": "Task=Iter 6<br>Start=%{base}<br>Finish=%{x}<br>Resource=%{y}<extra></extra>",
         "legendgroup": "Iter 6",
         "marker": {
          "color": "#19d3f3",
          "pattern": {
           "shape": ""
          }
         },
         "name": "Iter 6",
         "offsetgroup": "Iter 6",
         "orientation": "h",
         "showlegend": true,
         "textposition": "auto",
         "type": "bar",
         "x": [
          6.000000000000007,
          1,
          6.000000000000007,
          6,
          1,
          1
         ],
         "xaxis": "x",
         "y": [
          "Node 1",
          "Node 2",
          "Node 3",
          "Node 4",
          "Node 5",
          "Node 6"
         ],
         "yaxis": "y"
        },
        {
         "alignmentgroup": "True",
         "base": [
          73.19999999587452,
          73.19999999644807,
          73.19999999587803,
          79.29999999555274,
          79.2999999955603,
          79.29999999556539
         ],
         "hovertemplate": "Task=Iter 7<br>Start=%{base}<br>Finish=%{x}<br>Resource=%{y}<extra></extra>",
         "legendgroup": "Iter 7",
         "marker": {
          "color": "#FF6692",
          "pattern": {
           "shape": ""
          }
         },
         "name": "Iter 7",
         "offsetgroup": "Iter 7",
         "orientation": "h",
         "showlegend": true,
         "textposition": "auto",
         "type": "bar",
         "x": [
          6,
          1,
          6,
          6,
          1,
          1
         ],
         "xaxis": "x",
         "y": [
          "Node 1",
          "Node 2",
          "Node 3",
          "Node 4",
          "Node 5",
          "Node 6"
         ],
         "yaxis": "y"
        }
       ],
       "layout": {
        "barmode": "overlay",
        "legend": {
         "title": {
          "text": "Task"
         },
         "tracegroupgap": 0
        },
        "margin": {
         "t": 60
        },
        "template": {
         "data": {
          "bar": [
           {
            "error_x": {
             "color": "#2a3f5f"
            },
            "error_y": {
             "color": "#2a3f5f"
            },
            "marker": {
             "line": {
              "color": "#E5ECF6",
              "width": 0.5
             },
             "pattern": {
              "fillmode": "overlay",
              "size": 10,
              "solidity": 0.2
             }
            },
            "type": "bar"
           }
          ],
          "barpolar": [
           {
            "marker": {
             "line": {
              "color": "#E5ECF6",
              "width": 0.5
             },
             "pattern": {
              "fillmode": "overlay",
              "size": 10,
              "solidity": 0.2
             }
            },
            "type": "barpolar"
           }
          ],
          "carpet": [
           {
            "aaxis": {
             "endlinecolor": "#2a3f5f",
             "gridcolor": "white",
             "linecolor": "white",
             "minorgridcolor": "white",
             "startlinecolor": "#2a3f5f"
            },
            "baxis": {
             "endlinecolor": "#2a3f5f",
             "gridcolor": "white",
             "linecolor": "white",
             "minorgridcolor": "white",
             "startlinecolor": "#2a3f5f"
            },
            "type": "carpet"
           }
          ],
          "choropleth": [
           {
            "colorbar": {
             "outlinewidth": 0,
             "ticks": ""
            },
            "type": "choropleth"
           }
          ],
          "contour": [
           {
            "colorbar": {
             "outlinewidth": 0,
             "ticks": ""
            },
            "colorscale": [
             [
              0,
              "#0d0887"
             ],
             [
              0.1111111111111111,
              "#46039f"
             ],
             [
              0.2222222222222222,
              "#7201a8"
             ],
             [
              0.3333333333333333,
              "#9c179e"
             ],
             [
              0.4444444444444444,
              "#bd3786"
             ],
             [
              0.5555555555555556,
              "#d8576b"
             ],
             [
              0.6666666666666666,
              "#ed7953"
             ],
             [
              0.7777777777777778,
              "#fb9f3a"
             ],
             [
              0.8888888888888888,
              "#fdca26"
             ],
             [
              1,
              "#f0f921"
             ]
            ],
            "type": "contour"
           }
          ],
          "contourcarpet": [
           {
            "colorbar": {
             "outlinewidth": 0,
             "ticks": ""
            },
            "type": "contourcarpet"
           }
          ],
          "heatmap": [
           {
            "colorbar": {
             "outlinewidth": 0,
             "ticks": ""
            },
            "colorscale": [
             [
              0,
              "#0d0887"
             ],
             [
              0.1111111111111111,
              "#46039f"
             ],
             [
              0.2222222222222222,
              "#7201a8"
             ],
             [
              0.3333333333333333,
              "#9c179e"
             ],
             [
              0.4444444444444444,
              "#bd3786"
             ],
             [
              0.5555555555555556,
              "#d8576b"
             ],
             [
              0.6666666666666666,
              "#ed7953"
             ],
             [
              0.7777777777777778,
              "#fb9f3a"
             ],
             [
              0.8888888888888888,
              "#fdca26"
             ],
             [
              1,
              "#f0f921"
             ]
            ],
            "type": "heatmap"
           }
          ],
          "heatmapgl": [
           {
            "colorbar": {
             "outlinewidth": 0,
             "ticks": ""
            },
            "colorscale": [
             [
              0,
              "#0d0887"
             ],
             [
              0.1111111111111111,
              "#46039f"
             ],
             [
              0.2222222222222222,
              "#7201a8"
             ],
             [
              0.3333333333333333,
              "#9c179e"
             ],
             [
              0.4444444444444444,
              "#bd3786"
             ],
             [
              0.5555555555555556,
              "#d8576b"
             ],
             [
              0.6666666666666666,
              "#ed7953"
             ],
             [
              0.7777777777777778,
              "#fb9f3a"
             ],
             [
              0.8888888888888888,
              "#fdca26"
             ],
             [
              1,
              "#f0f921"
             ]
            ],
            "type": "heatmapgl"
           }
          ],
          "histogram": [
           {
            "marker": {
             "pattern": {
              "fillmode": "overlay",
              "size": 10,
              "solidity": 0.2
             }
            },
            "type": "histogram"
           }
          ],
          "histogram2d": [
           {
            "colorbar": {
             "outlinewidth": 0,
             "ticks": ""
            },
            "colorscale": [
             [
              0,
              "#0d0887"
             ],
             [
              0.1111111111111111,
              "#46039f"
             ],
             [
              0.2222222222222222,
              "#7201a8"
             ],
             [
              0.3333333333333333,
              "#9c179e"
             ],
             [
              0.4444444444444444,
              "#bd3786"
             ],
             [
              0.5555555555555556,
              "#d8576b"
             ],
             [
              0.6666666666666666,
              "#ed7953"
             ],
             [
              0.7777777777777778,
              "#fb9f3a"
             ],
             [
              0.8888888888888888,
              "#fdca26"
             ],
             [
              1,
              "#f0f921"
             ]
            ],
            "type": "histogram2d"
           }
          ],
          "histogram2dcontour": [
           {
            "colorbar": {
             "outlinewidth": 0,
             "ticks": ""
            },
            "colorscale": [
             [
              0,
              "#0d0887"
             ],
             [
              0.1111111111111111,
              "#46039f"
             ],
             [
              0.2222222222222222,
              "#7201a8"
             ],
             [
              0.3333333333333333,
              "#9c179e"
             ],
             [
              0.4444444444444444,
              "#bd3786"
             ],
             [
              0.5555555555555556,
              "#d8576b"
             ],
             [
              0.6666666666666666,
              "#ed7953"
             ],
             [
              0.7777777777777778,
              "#fb9f3a"
             ],
             [
              0.8888888888888888,
              "#fdca26"
             ],
             [
              1,
              "#f0f921"
             ]
            ],
            "type": "histogram2dcontour"
           }
          ],
          "mesh3d": [
           {
            "colorbar": {
             "outlinewidth": 0,
             "ticks": ""
            },
            "type": "mesh3d"
           }
          ],
          "parcoords": [
           {
            "line": {
             "colorbar": {
              "outlinewidth": 0,
              "ticks": ""
             }
            },
            "type": "parcoords"
           }
          ],
          "pie": [
           {
            "automargin": true,
            "type": "pie"
           }
          ],
          "scatter": [
           {
            "fillpattern": {
             "fillmode": "overlay",
             "size": 10,
             "solidity": 0.2
            },
            "type": "scatter"
           }
          ],
          "scatter3d": [
           {
            "line": {
             "colorbar": {
              "outlinewidth": 0,
              "ticks": ""
             }
            },
            "marker": {
             "colorbar": {
              "outlinewidth": 0,
              "ticks": ""
             }
            },
            "type": "scatter3d"
           }
          ],
          "scattercarpet": [
           {
            "marker": {
             "colorbar": {
              "outlinewidth": 0,
              "ticks": ""
             }
            },
            "type": "scattercarpet"
           }
          ],
          "scattergeo": [
           {
            "marker": {
             "colorbar": {
              "outlinewidth": 0,
              "ticks": ""
             }
            },
            "type": "scattergeo"
           }
          ],
          "scattergl": [
           {
            "marker": {
             "colorbar": {
              "outlinewidth": 0,
              "ticks": ""
             }
            },
            "type": "scattergl"
           }
          ],
          "scattermapbox": [
           {
            "marker": {
             "colorbar": {
              "outlinewidth": 0,
              "ticks": ""
             }
            },
            "type": "scattermapbox"
           }
          ],
          "scatterpolar": [
           {
            "marker": {
             "colorbar": {
              "outlinewidth": 0,
              "ticks": ""
             }
            },
            "type": "scatterpolar"
           }
          ],
          "scatterpolargl": [
           {
            "marker": {
             "colorbar": {
              "outlinewidth": 0,
              "ticks": ""
             }
            },
            "type": "scatterpolargl"
           }
          ],
          "scatterternary": [
           {
            "marker": {
             "colorbar": {
              "outlinewidth": 0,
              "ticks": ""
             }
            },
            "type": "scatterternary"
           }
          ],
          "surface": [
           {
            "colorbar": {
             "outlinewidth": 0,
             "ticks": ""
            },
            "colorscale": [
             [
              0,
              "#0d0887"
             ],
             [
              0.1111111111111111,
              "#46039f"
             ],
             [
              0.2222222222222222,
              "#7201a8"
             ],
             [
              0.3333333333333333,
              "#9c179e"
             ],
             [
              0.4444444444444444,
              "#bd3786"
             ],
             [
              0.5555555555555556,
              "#d8576b"
             ],
             [
              0.6666666666666666,
              "#ed7953"
             ],
             [
              0.7777777777777778,
              "#fb9f3a"
             ],
             [
              0.8888888888888888,
              "#fdca26"
             ],
             [
              1,
              "#f0f921"
             ]
            ],
            "type": "surface"
           }
          ],
          "table": [
           {
            "cells": {
             "fill": {
              "color": "#EBF0F8"
             },
             "line": {
              "color": "white"
             }
            },
            "header": {
             "fill": {
              "color": "#C8D4E3"
             },
             "line": {
              "color": "white"
             }
            },
            "type": "table"
           }
          ]
         },
         "layout": {
          "annotationdefaults": {
           "arrowcolor": "#2a3f5f",
           "arrowhead": 0,
           "arrowwidth": 1
          },
          "autotypenumbers": "strict",
          "coloraxis": {
           "colorbar": {
            "outlinewidth": 0,
            "ticks": ""
           }
          },
          "colorscale": {
           "diverging": [
            [
             0,
             "#8e0152"
            ],
            [
             0.1,
             "#c51b7d"
            ],
            [
             0.2,
             "#de77ae"
            ],
            [
             0.3,
             "#f1b6da"
            ],
            [
             0.4,
             "#fde0ef"
            ],
            [
             0.5,
             "#f7f7f7"
            ],
            [
             0.6,
             "#e6f5d0"
            ],
            [
             0.7,
             "#b8e186"
            ],
            [
             0.8,
             "#7fbc41"
            ],
            [
             0.9,
             "#4d9221"
            ],
            [
             1,
             "#276419"
            ]
           ],
           "sequential": [
            [
             0,
             "#0d0887"
            ],
            [
             0.1111111111111111,
             "#46039f"
            ],
            [
             0.2222222222222222,
             "#7201a8"
            ],
            [
             0.3333333333333333,
             "#9c179e"
            ],
            [
             0.4444444444444444,
             "#bd3786"
            ],
            [
             0.5555555555555556,
             "#d8576b"
            ],
            [
             0.6666666666666666,
             "#ed7953"
            ],
            [
             0.7777777777777778,
             "#fb9f3a"
            ],
            [
             0.8888888888888888,
             "#fdca26"
            ],
            [
             1,
             "#f0f921"
            ]
           ],
           "sequentialminus": [
            [
             0,
             "#0d0887"
            ],
            [
             0.1111111111111111,
             "#46039f"
            ],
            [
             0.2222222222222222,
             "#7201a8"
            ],
            [
             0.3333333333333333,
             "#9c179e"
            ],
            [
             0.4444444444444444,
             "#bd3786"
            ],
            [
             0.5555555555555556,
             "#d8576b"
            ],
            [
             0.6666666666666666,
             "#ed7953"
            ],
            [
             0.7777777777777778,
             "#fb9f3a"
            ],
            [
             0.8888888888888888,
             "#fdca26"
            ],
            [
             1,
             "#f0f921"
            ]
           ]
          },
          "colorway": [
           "#636efa",
           "#EF553B",
           "#00cc96",
           "#ab63fa",
           "#FFA15A",
           "#19d3f3",
           "#FF6692",
           "#B6E880",
           "#FF97FF",
           "#FECB52"
          ],
          "font": {
           "color": "#2a3f5f"
          },
          "geo": {
           "bgcolor": "white",
           "lakecolor": "white",
           "landcolor": "#E5ECF6",
           "showlakes": true,
           "showland": true,
           "subunitcolor": "white"
          },
          "hoverlabel": {
           "align": "left"
          },
          "hovermode": "closest",
          "mapbox": {
           "style": "light"
          },
          "paper_bgcolor": "white",
          "plot_bgcolor": "#E5ECF6",
          "polar": {
           "angularaxis": {
            "gridcolor": "white",
            "linecolor": "white",
            "ticks": ""
           },
           "bgcolor": "#E5ECF6",
           "radialaxis": {
            "gridcolor": "white",
            "linecolor": "white",
            "ticks": ""
           }
          },
          "scene": {
           "xaxis": {
            "backgroundcolor": "#E5ECF6",
            "gridcolor": "white",
            "gridwidth": 2,
            "linecolor": "white",
            "showbackground": true,
            "ticks": "",
            "zerolinecolor": "white"
           },
           "yaxis": {
            "backgroundcolor": "#E5ECF6",
            "gridcolor": "white",
            "gridwidth": 2,
            "linecolor": "white",
            "showbackground": true,
            "ticks": "",
            "zerolinecolor": "white"
           },
           "zaxis": {
            "backgroundcolor": "#E5ECF6",
            "gridcolor": "white",
            "gridwidth": 2,
            "linecolor": "white",
            "showbackground": true,
            "ticks": "",
            "zerolinecolor": "white"
           }
          },
          "shapedefaults": {
           "line": {
            "color": "#2a3f5f"
           }
          },
          "ternary": {
           "aaxis": {
            "gridcolor": "white",
            "linecolor": "white",
            "ticks": ""
           },
           "baxis": {
            "gridcolor": "white",
            "linecolor": "white",
            "ticks": ""
           },
           "bgcolor": "#E5ECF6",
           "caxis": {
            "gridcolor": "white",
            "linecolor": "white",
            "ticks": ""
           }
          },
          "title": {
           "x": 0.05
          },
          "xaxis": {
           "automargin": true,
           "gridcolor": "white",
           "linecolor": "white",
           "ticks": "",
           "title": {
            "standoff": 15
           },
           "zerolinecolor": "white",
           "zerolinewidth": 2
          },
          "yaxis": {
           "automargin": true,
           "gridcolor": "white",
           "linecolor": "white",
           "ticks": "",
           "title": {
            "standoff": 15
           },
           "zerolinecolor": "white",
           "zerolinewidth": 2
          }
         }
        },
        "title": {
         "text": "2-Block"
        },
        "xaxis": {
         "anchor": "y",
         "domain": [
          0,
          1
         ],
         "title": {
          "text": "Time Units"
         },
         "type": "linear"
        },
        "yaxis": {
         "anchor": "x",
         "autorange": "reversed",
         "domain": [
          0,
          1
         ],
         "title": {
          "text": "Resource"
         }
        }
       }
      }
     },
     "metadata": {},
     "output_type": "display_data"
    },
    {
     "data": {
      "application/vnd.plotly.v1+json": {
       "config": {
        "plotlyServerURL": "https://plot.ly"
       },
       "data": [
        {
         "alignmentgroup": "True",
         "base": [
          0,
          0,
          1.0999999999975762,
          1.0999999999979402,
          7.199999999997192,
          7.1999999999969635
         ],
         "hovertemplate": "Task=Iter 1<br>Start=%{base}<br>Finish=%{x}<br>Resource=%{y}<extra></extra>",
         "legendgroup": "Iter 1",
         "marker": {
          "color": "#636efa",
          "pattern": {
           "shape": ""
          }
         },
         "name": "Iter 1",
         "offsetgroup": "Iter 1",
         "orientation": "h",
         "showlegend": true,
         "textposition": "auto",
         "type": "bar",
         "x": [
          6,
          1,
          6,
          6,
          1.0000000000000009,
          1
         ],
         "xaxis": "x",
         "y": [
          "Node 1",
          "Node 2",
          "Node 3",
          "Node 4",
          "Node 5",
          "Node 6"
         ],
         "yaxis": "y"
        },
        {
         "alignmentgroup": "True",
         "base": [
          8.299999999997059,
          7.199999999996891,
          8.299999999997317,
          8.299999999997391,
          14.399999999995533,
          14.399999999995694
         ],
         "hovertemplate": "Task=Iter 2<br>Start=%{base}<br>Finish=%{x}<br>Resource=%{y}<extra></extra>",
         "legendgroup": "Iter 2",
         "marker": {
          "color": "#EF553B",
          "pattern": {
           "shape": ""
          }
         },
         "name": "Iter 2",
         "offsetgroup": "Iter 2",
         "orientation": "h",
         "showlegend": true,
         "textposition": "auto",
         "type": "bar",
         "x": [
          6,
          1,
          6,
          6,
          1,
          1
         ],
         "xaxis": "x",
         "y": [
          "Node 1",
          "Node 2",
          "Node 3",
          "Node 4",
          "Node 5",
          "Node 6"
         ],
         "yaxis": "y"
        },
        {
         "alignmentgroup": "True",
         "base": [
          15.499999999995728,
          14.399999999995716,
          15.499999999995971,
          15.499999999996032,
          21.599999999994534,
          21.59999999999465
         ],
         "hovertemplate": "Task=Iter 3<br>Start=%{base}<br>Finish=%{x}<br>Resource=%{y}<extra></extra>",
         "legendgroup": "Iter 3",
         "marker": {
          "color": "#00cc96",
          "pattern": {
           "shape": ""
          }
         },
         "name": "Iter 3",
         "offsetgroup": "Iter 3",
         "orientation": "h",
         "showlegend": true,
         "textposition": "auto",
         "type": "bar",
         "x": [
          6.000000000000002,
          1,
          6,
          6,
          1,
          1
         ],
         "xaxis": "x",
         "y": [
          "Node 1",
          "Node 2",
          "Node 3",
          "Node 4",
          "Node 5",
          "Node 6"
         ],
         "yaxis": "y"
        },
        {
         "alignmentgroup": "True",
         "base": [
          22.69999999999441,
          21.599999999994388,
          22.699999999994617,
          22.699999999994784,
          28.799999999993467,
          28.799999999993524
         ],
         "hovertemplate": "Task=Iter 4<br>Start=%{base}<br>Finish=%{x}<br>Resource=%{y}<extra></extra>",
         "legendgroup": "Iter 4",
         "marker": {
          "color": "#ab63fa",
          "pattern": {
           "shape": ""
          }
         },
         "name": "Iter 4",
         "offsetgroup": "Iter 4",
         "orientation": "h",
         "showlegend": true,
         "textposition": "auto",
         "type": "bar",
         "x": [
          6,
          1,
          6,
          6,
          1,
          1
         ],
         "xaxis": "x",
         "y": [
          "Node 1",
          "Node 2",
          "Node 3",
          "Node 4",
          "Node 5",
          "Node 6"
         ],
         "yaxis": "y"
        },
        {
         "alignmentgroup": "True",
         "base": [
          29.899999999993117,
          28.799999999992828,
          29.89999999999334,
          29.899999999993387,
          35.99999999999226,
          35.9999999999923
         ],
         "hovertemplate": "Task=Iter 5<br>Start=%{base}<br>Finish=%{x}<br>Resource=%{y}<extra></extra>",
         "legendgroup": "Iter 5",
         "marker": {
          "color": "#FFA15A",
          "pattern": {
           "shape": ""
          }
         },
         "name": "Iter 5",
         "offsetgroup": "Iter 5",
         "orientation": "h",
         "showlegend": true,
         "textposition": "auto",
         "type": "bar",
         "x": [
          5.9999999999999964,
          1,
          6,
          5.9999999999999964,
          1,
          1
         ],
         "xaxis": "x",
         "y": [
          "Node 1",
          "Node 2",
          "Node 3",
          "Node 4",
          "Node 5",
          "Node 6"
         ],
         "yaxis": "y"
        },
        {
         "alignmentgroup": "True",
         "base": [
          37.099999999991816,
          35.99999999999132,
          37.09999999999202,
          37.09999999999204,
          43.19999999999103,
          43.19999999999105
         ],
         "hovertemplate": "Task=Iter 6<br>Start=%{base}<br>Finish=%{x}<br>Resource=%{y}<extra></extra>",
         "legendgroup": "Iter 6",
         "marker": {
          "color": "#19d3f3",
          "pattern": {
           "shape": ""
          }
         },
         "name": "Iter 6",
         "offsetgroup": "Iter 6",
         "orientation": "h",
         "showlegend": true,
         "textposition": "auto",
         "type": "bar",
         "x": [
          6,
          1,
          6,
          6,
          1,
          1
         ],
         "xaxis": "x",
         "y": [
          "Node 1",
          "Node 2",
          "Node 3",
          "Node 4",
          "Node 5",
          "Node 6"
         ],
         "yaxis": "y"
        },
        {
         "alignmentgroup": "True",
         "base": [
          44.299999999990575,
          43.199999999989906,
          44.29999999999075,
          44.29999999999077,
          50.39999999998979,
          50.3999999999898
         ],
         "hovertemplate": "Task=Iter 7<br>Start=%{base}<br>Finish=%{x}<br>Resource=%{y}<extra></extra>",
         "legendgroup": "Iter 7",
         "marker": {
          "color": "#FF6692",
          "pattern": {
           "shape": ""
          }
         },
         "name": "Iter 7",
         "offsetgroup": "Iter 7",
         "orientation": "h",
         "showlegend": true,
         "textposition": "auto",
         "type": "bar",
         "x": [
          6,
          1,
          6,
          6,
          1,
          1
         ],
         "xaxis": "x",
         "y": [
          "Node 1",
          "Node 2",
          "Node 3",
          "Node 4",
          "Node 5",
          "Node 6"
         ],
         "yaxis": "y"
        },
        {
         "alignmentgroup": "True",
         "base": [
          51.49999999998936,
          50.39999999998863,
          51.49999999998955,
          51.49999999998957,
          57.599999999988476,
          57.599999999988505
         ],
         "hovertemplate": "Task=Iter 8<br>Start=%{base}<br>Finish=%{x}<br>Resource=%{y}<extra></extra>",
         "legendgroup": "Iter 8",
         "marker": {
          "color": "#B6E880",
          "pattern": {
           "shape": ""
          }
         },
         "name": "Iter 8",
         "offsetgroup": "Iter 8",
         "orientation": "h",
         "showlegend": true,
         "textposition": "auto",
         "type": "bar",
         "x": [
          6,
          1,
          6,
          6,
          1,
          1
         ],
         "xaxis": "x",
         "y": [
          "Node 1",
          "Node 2",
          "Node 3",
          "Node 4",
          "Node 5",
          "Node 6"
         ],
         "yaxis": "y"
        },
        {
         "alignmentgroup": "True",
         "base": [
          58.69999999998812,
          57.599999999987524,
          58.69999999998835,
          58.69999999998838,
          64.79999999998692,
          64.79999999998697
         ],
         "hovertemplate": "Task=Iter 9<br>Start=%{base}<br>Finish=%{x}<br>Resource=%{y}<extra></extra>",
         "legendgroup": "Iter 9",
         "marker": {
          "color": "#FF97FF",
          "pattern": {
           "shape": ""
          }
         },
         "name": "Iter 9",
         "offsetgroup": "Iter 9",
         "orientation": "h",
         "showlegend": true,
         "textposition": "auto",
         "type": "bar",
         "x": [
          6,
          1,
          6,
          6,
          1,
          1
         ],
         "xaxis": "x",
         "y": [
          "Node 1",
          "Node 2",
          "Node 3",
          "Node 4",
          "Node 5",
          "Node 6"
         ],
         "yaxis": "y"
        },
        {
         "alignmentgroup": "True",
         "base": [
          65.89999999998668,
          64.79999999998657,
          65.89999999998703,
          65.89999999998705,
          71.999999999985,
          71.99999999998498
         ],
         "hovertemplate": "Task=Iter 10<br>Start=%{base}<br>Finish=%{x}<br>Resource=%{y}<extra></extra>",
         "legendgroup": "Iter 10",
         "marker": {
          "color": "#FECB52",
          "pattern": {
           "shape": ""
          }
         },
         "name": "Iter 10",
         "offsetgroup": "Iter 10",
         "orientation": "h",
         "showlegend": true,
         "textposition": "auto",
         "type": "bar",
         "x": [
          6,
          1,
          6,
          6,
          1,
          1
         ],
         "xaxis": "x",
         "y": [
          "Node 1",
          "Node 2",
          "Node 3",
          "Node 4",
          "Node 5",
          "Node 6"
         ],
         "yaxis": "y"
        },
        {
         "alignmentgroup": "True",
         "base": [
          73.09999999998503,
          71.99999999998535,
          73.09999999998543,
          73.09999999998533,
          79.19999999998308,
          79.19999999998312
         ],
         "hovertemplate": "Task=Iter 11<br>Start=%{base}<br>Finish=%{x}<br>Resource=%{y}<extra></extra>",
         "legendgroup": "Iter 11",
         "marker": {
          "color": "#636efa",
          "pattern": {
           "shape": ""
          }
         },
         "name": "Iter 11",
         "offsetgroup": "Iter 11",
         "orientation": "h",
         "showlegend": true,
         "textposition": "auto",
         "type": "bar",
         "x": [
          6,
          1,
          6,
          6,
          1,
          1
         ],
         "xaxis": "x",
         "y": [
          "Node 1",
          "Node 2",
          "Node 3",
          "Node 4",
          "Node 5",
          "Node 6"
         ],
         "yaxis": "y"
        },
        {
         "alignmentgroup": "True",
         "base": [
          80.29999999998361,
          79.19999999998363,
          80.29999999998377,
          80.29999999998378,
          86.3999999999822,
          86.399999999982
         ],
         "hovertemplate": "Task=Iter 12<br>Start=%{base}<br>Finish=%{x}<br>Resource=%{y}<extra></extra>",
         "legendgroup": "Iter 12",
         "marker": {
          "color": "#EF553B",
          "pattern": {
           "shape": ""
          }
         },
         "name": "Iter 12",
         "offsetgroup": "Iter 12",
         "orientation": "h",
         "showlegend": true,
         "textposition": "auto",
         "type": "bar",
         "x": [
          6,
          1,
          6,
          6,
          1,
          1
         ],
         "xaxis": "x",
         "y": [
          "Node 1",
          "Node 2",
          "Node 3",
          "Node 4",
          "Node 5",
          "Node 6"
         ],
         "yaxis": "y"
        }
       ],
       "layout": {
        "barmode": "overlay",
        "legend": {
         "title": {
          "text": "Task"
         },
         "tracegroupgap": 0
        },
        "margin": {
         "t": 60
        },
        "template": {
         "data": {
          "bar": [
           {
            "error_x": {
             "color": "#2a3f5f"
            },
            "error_y": {
             "color": "#2a3f5f"
            },
            "marker": {
             "line": {
              "color": "#E5ECF6",
              "width": 0.5
             },
             "pattern": {
              "fillmode": "overlay",
              "size": 10,
              "solidity": 0.2
             }
            },
            "type": "bar"
           }
          ],
          "barpolar": [
           {
            "marker": {
             "line": {
              "color": "#E5ECF6",
              "width": 0.5
             },
             "pattern": {
              "fillmode": "overlay",
              "size": 10,
              "solidity": 0.2
             }
            },
            "type": "barpolar"
           }
          ],
          "carpet": [
           {
            "aaxis": {
             "endlinecolor": "#2a3f5f",
             "gridcolor": "white",
             "linecolor": "white",
             "minorgridcolor": "white",
             "startlinecolor": "#2a3f5f"
            },
            "baxis": {
             "endlinecolor": "#2a3f5f",
             "gridcolor": "white",
             "linecolor": "white",
             "minorgridcolor": "white",
             "startlinecolor": "#2a3f5f"
            },
            "type": "carpet"
           }
          ],
          "choropleth": [
           {
            "colorbar": {
             "outlinewidth": 0,
             "ticks": ""
            },
            "type": "choropleth"
           }
          ],
          "contour": [
           {
            "colorbar": {
             "outlinewidth": 0,
             "ticks": ""
            },
            "colorscale": [
             [
              0,
              "#0d0887"
             ],
             [
              0.1111111111111111,
              "#46039f"
             ],
             [
              0.2222222222222222,
              "#7201a8"
             ],
             [
              0.3333333333333333,
              "#9c179e"
             ],
             [
              0.4444444444444444,
              "#bd3786"
             ],
             [
              0.5555555555555556,
              "#d8576b"
             ],
             [
              0.6666666666666666,
              "#ed7953"
             ],
             [
              0.7777777777777778,
              "#fb9f3a"
             ],
             [
              0.8888888888888888,
              "#fdca26"
             ],
             [
              1,
              "#f0f921"
             ]
            ],
            "type": "contour"
           }
          ],
          "contourcarpet": [
           {
            "colorbar": {
             "outlinewidth": 0,
             "ticks": ""
            },
            "type": "contourcarpet"
           }
          ],
          "heatmap": [
           {
            "colorbar": {
             "outlinewidth": 0,
             "ticks": ""
            },
            "colorscale": [
             [
              0,
              "#0d0887"
             ],
             [
              0.1111111111111111,
              "#46039f"
             ],
             [
              0.2222222222222222,
              "#7201a8"
             ],
             [
              0.3333333333333333,
              "#9c179e"
             ],
             [
              0.4444444444444444,
              "#bd3786"
             ],
             [
              0.5555555555555556,
              "#d8576b"
             ],
             [
              0.6666666666666666,
              "#ed7953"
             ],
             [
              0.7777777777777778,
              "#fb9f3a"
             ],
             [
              0.8888888888888888,
              "#fdca26"
             ],
             [
              1,
              "#f0f921"
             ]
            ],
            "type": "heatmap"
           }
          ],
          "heatmapgl": [
           {
            "colorbar": {
             "outlinewidth": 0,
             "ticks": ""
            },
            "colorscale": [
             [
              0,
              "#0d0887"
             ],
             [
              0.1111111111111111,
              "#46039f"
             ],
             [
              0.2222222222222222,
              "#7201a8"
             ],
             [
              0.3333333333333333,
              "#9c179e"
             ],
             [
              0.4444444444444444,
              "#bd3786"
             ],
             [
              0.5555555555555556,
              "#d8576b"
             ],
             [
              0.6666666666666666,
              "#ed7953"
             ],
             [
              0.7777777777777778,
              "#fb9f3a"
             ],
             [
              0.8888888888888888,
              "#fdca26"
             ],
             [
              1,
              "#f0f921"
             ]
            ],
            "type": "heatmapgl"
           }
          ],
          "histogram": [
           {
            "marker": {
             "pattern": {
              "fillmode": "overlay",
              "size": 10,
              "solidity": 0.2
             }
            },
            "type": "histogram"
           }
          ],
          "histogram2d": [
           {
            "colorbar": {
             "outlinewidth": 0,
             "ticks": ""
            },
            "colorscale": [
             [
              0,
              "#0d0887"
             ],
             [
              0.1111111111111111,
              "#46039f"
             ],
             [
              0.2222222222222222,
              "#7201a8"
             ],
             [
              0.3333333333333333,
              "#9c179e"
             ],
             [
              0.4444444444444444,
              "#bd3786"
             ],
             [
              0.5555555555555556,
              "#d8576b"
             ],
             [
              0.6666666666666666,
              "#ed7953"
             ],
             [
              0.7777777777777778,
              "#fb9f3a"
             ],
             [
              0.8888888888888888,
              "#fdca26"
             ],
             [
              1,
              "#f0f921"
             ]
            ],
            "type": "histogram2d"
           }
          ],
          "histogram2dcontour": [
           {
            "colorbar": {
             "outlinewidth": 0,
             "ticks": ""
            },
            "colorscale": [
             [
              0,
              "#0d0887"
             ],
             [
              0.1111111111111111,
              "#46039f"
             ],
             [
              0.2222222222222222,
              "#7201a8"
             ],
             [
              0.3333333333333333,
              "#9c179e"
             ],
             [
              0.4444444444444444,
              "#bd3786"
             ],
             [
              0.5555555555555556,
              "#d8576b"
             ],
             [
              0.6666666666666666,
              "#ed7953"
             ],
             [
              0.7777777777777778,
              "#fb9f3a"
             ],
             [
              0.8888888888888888,
              "#fdca26"
             ],
             [
              1,
              "#f0f921"
             ]
            ],
            "type": "histogram2dcontour"
           }
          ],
          "mesh3d": [
           {
            "colorbar": {
             "outlinewidth": 0,
             "ticks": ""
            },
            "type": "mesh3d"
           }
          ],
          "parcoords": [
           {
            "line": {
             "colorbar": {
              "outlinewidth": 0,
              "ticks": ""
             }
            },
            "type": "parcoords"
           }
          ],
          "pie": [
           {
            "automargin": true,
            "type": "pie"
           }
          ],
          "scatter": [
           {
            "fillpattern": {
             "fillmode": "overlay",
             "size": 10,
             "solidity": 0.2
            },
            "type": "scatter"
           }
          ],
          "scatter3d": [
           {
            "line": {
             "colorbar": {
              "outlinewidth": 0,
              "ticks": ""
             }
            },
            "marker": {
             "colorbar": {
              "outlinewidth": 0,
              "ticks": ""
             }
            },
            "type": "scatter3d"
           }
          ],
          "scattercarpet": [
           {
            "marker": {
             "colorbar": {
              "outlinewidth": 0,
              "ticks": ""
             }
            },
            "type": "scattercarpet"
           }
          ],
          "scattergeo": [
           {
            "marker": {
             "colorbar": {
              "outlinewidth": 0,
              "ticks": ""
             }
            },
            "type": "scattergeo"
           }
          ],
          "scattergl": [
           {
            "marker": {
             "colorbar": {
              "outlinewidth": 0,
              "ticks": ""
             }
            },
            "type": "scattergl"
           }
          ],
          "scattermapbox": [
           {
            "marker": {
             "colorbar": {
              "outlinewidth": 0,
              "ticks": ""
             }
            },
            "type": "scattermapbox"
           }
          ],
          "scatterpolar": [
           {
            "marker": {
             "colorbar": {
              "outlinewidth": 0,
              "ticks": ""
             }
            },
            "type": "scatterpolar"
           }
          ],
          "scatterpolargl": [
           {
            "marker": {
             "colorbar": {
              "outlinewidth": 0,
              "ticks": ""
             }
            },
            "type": "scatterpolargl"
           }
          ],
          "scatterternary": [
           {
            "marker": {
             "colorbar": {
              "outlinewidth": 0,
              "ticks": ""
             }
            },
            "type": "scatterternary"
           }
          ],
          "surface": [
           {
            "colorbar": {
             "outlinewidth": 0,
             "ticks": ""
            },
            "colorscale": [
             [
              0,
              "#0d0887"
             ],
             [
              0.1111111111111111,
              "#46039f"
             ],
             [
              0.2222222222222222,
              "#7201a8"
             ],
             [
              0.3333333333333333,
              "#9c179e"
             ],
             [
              0.4444444444444444,
              "#bd3786"
             ],
             [
              0.5555555555555556,
              "#d8576b"
             ],
             [
              0.6666666666666666,
              "#ed7953"
             ],
             [
              0.7777777777777778,
              "#fb9f3a"
             ],
             [
              0.8888888888888888,
              "#fdca26"
             ],
             [
              1,
              "#f0f921"
             ]
            ],
            "type": "surface"
           }
          ],
          "table": [
           {
            "cells": {
             "fill": {
              "color": "#EBF0F8"
             },
             "line": {
              "color": "white"
             }
            },
            "header": {
             "fill": {
              "color": "#C8D4E3"
             },
             "line": {
              "color": "white"
             }
            },
            "type": "table"
           }
          ]
         },
         "layout": {
          "annotationdefaults": {
           "arrowcolor": "#2a3f5f",
           "arrowhead": 0,
           "arrowwidth": 1
          },
          "autotypenumbers": "strict",
          "coloraxis": {
           "colorbar": {
            "outlinewidth": 0,
            "ticks": ""
           }
          },
          "colorscale": {
           "diverging": [
            [
             0,
             "#8e0152"
            ],
            [
             0.1,
             "#c51b7d"
            ],
            [
             0.2,
             "#de77ae"
            ],
            [
             0.3,
             "#f1b6da"
            ],
            [
             0.4,
             "#fde0ef"
            ],
            [
             0.5,
             "#f7f7f7"
            ],
            [
             0.6,
             "#e6f5d0"
            ],
            [
             0.7,
             "#b8e186"
            ],
            [
             0.8,
             "#7fbc41"
            ],
            [
             0.9,
             "#4d9221"
            ],
            [
             1,
             "#276419"
            ]
           ],
           "sequential": [
            [
             0,
             "#0d0887"
            ],
            [
             0.1111111111111111,
             "#46039f"
            ],
            [
             0.2222222222222222,
             "#7201a8"
            ],
            [
             0.3333333333333333,
             "#9c179e"
            ],
            [
             0.4444444444444444,
             "#bd3786"
            ],
            [
             0.5555555555555556,
             "#d8576b"
            ],
            [
             0.6666666666666666,
             "#ed7953"
            ],
            [
             0.7777777777777778,
             "#fb9f3a"
            ],
            [
             0.8888888888888888,
             "#fdca26"
            ],
            [
             1,
             "#f0f921"
            ]
           ],
           "sequentialminus": [
            [
             0,
             "#0d0887"
            ],
            [
             0.1111111111111111,
             "#46039f"
            ],
            [
             0.2222222222222222,
             "#7201a8"
            ],
            [
             0.3333333333333333,
             "#9c179e"
            ],
            [
             0.4444444444444444,
             "#bd3786"
            ],
            [
             0.5555555555555556,
             "#d8576b"
            ],
            [
             0.6666666666666666,
             "#ed7953"
            ],
            [
             0.7777777777777778,
             "#fb9f3a"
            ],
            [
             0.8888888888888888,
             "#fdca26"
            ],
            [
             1,
             "#f0f921"
            ]
           ]
          },
          "colorway": [
           "#636efa",
           "#EF553B",
           "#00cc96",
           "#ab63fa",
           "#FFA15A",
           "#19d3f3",
           "#FF6692",
           "#B6E880",
           "#FF97FF",
           "#FECB52"
          ],
          "font": {
           "color": "#2a3f5f"
          },
          "geo": {
           "bgcolor": "white",
           "lakecolor": "white",
           "landcolor": "#E5ECF6",
           "showlakes": true,
           "showland": true,
           "subunitcolor": "white"
          },
          "hoverlabel": {
           "align": "left"
          },
          "hovermode": "closest",
          "mapbox": {
           "style": "light"
          },
          "paper_bgcolor": "white",
          "plot_bgcolor": "#E5ECF6",
          "polar": {
           "angularaxis": {
            "gridcolor": "white",
            "linecolor": "white",
            "ticks": ""
           },
           "bgcolor": "#E5ECF6",
           "radialaxis": {
            "gridcolor": "white",
            "linecolor": "white",
            "ticks": ""
           }
          },
          "scene": {
           "xaxis": {
            "backgroundcolor": "#E5ECF6",
            "gridcolor": "white",
            "gridwidth": 2,
            "linecolor": "white",
            "showbackground": true,
            "ticks": "",
            "zerolinecolor": "white"
           },
           "yaxis": {
            "backgroundcolor": "#E5ECF6",
            "gridcolor": "white",
            "gridwidth": 2,
            "linecolor": "white",
            "showbackground": true,
            "ticks": "",
            "zerolinecolor": "white"
           },
           "zaxis": {
            "backgroundcolor": "#E5ECF6",
            "gridcolor": "white",
            "gridwidth": 2,
            "linecolor": "white",
            "showbackground": true,
            "ticks": "",
            "zerolinecolor": "white"
           }
          },
          "shapedefaults": {
           "line": {
            "color": "#2a3f5f"
           }
          },
          "ternary": {
           "aaxis": {
            "gridcolor": "white",
            "linecolor": "white",
            "ticks": ""
           },
           "baxis": {
            "gridcolor": "white",
            "linecolor": "white",
            "ticks": ""
           },
           "bgcolor": "#E5ECF6",
           "caxis": {
            "gridcolor": "white",
            "linecolor": "white",
            "ticks": ""
           }
          },
          "title": {
           "x": 0.05
          },
          "xaxis": {
           "automargin": true,
           "gridcolor": "white",
           "linecolor": "white",
           "ticks": "",
           "title": {
            "standoff": 15
           },
           "zerolinecolor": "white",
           "zerolinewidth": 2
          },
          "yaxis": {
           "automargin": true,
           "gridcolor": "white",
           "linecolor": "white",
           "ticks": "",
           "title": {
            "standoff": 15
           },
           "zerolinecolor": "white",
           "zerolinewidth": 2
          }
         }
        },
        "title": {
         "text": "Minimum Iteration"
        },
        "xaxis": {
         "anchor": "y",
         "domain": [
          0,
          1
         ],
         "title": {
          "text": "Time Units"
         },
         "type": "linear"
        },
        "yaxis": {
         "anchor": "x",
         "autorange": "reversed",
         "domain": [
          0,
          1
         ],
         "title": {
          "text": "Resource"
         }
        }
       }
      }
     },
     "metadata": {},
     "output_type": "display_data"
    }
   ],
   "source": [
    "# Figure 5 (hangs if executed in Windows using Kaleido 0.1.0post1)\n",
    "# try pip install kaleido==0.1.0post1\n",
    "n = 6\n",
    "t = np.ones(n)\n",
    "l = np.ones((n,n))/10\n",
    "t[0] = 6\n",
    "t[2] = 6\n",
    "t[3] = 6\n",
    "\n",
    "for i in range(1, n//2+1):\n",
    "    Zb, Wb = getBlockMin(n, i, builder=getMinResist)\n",
    "    if i == 1:\n",
    "        itrs = 6\n",
    "    else:\n",
    "        itrs = 7\n",
    "    fig = getGantt(t, l, Zb, Wb, title=str(n//i)+\"-Block\", itrs=itrs)\n",
    "    \n",
    "    if saving: fig.write_image(\"figs/fig_misdp\"+str(n//i)+\"block.pdf\")\n",
    "    fig.show()\n",
    "\n",
    "Z, W = getMinIteration(n, t=t, l=l, builder=getMinResist)\n",
    "\n",
    "fig = getGantt(t, l, Z, W, title=\"Minimum Iteration\", itrs=12)\n",
    "\n",
    "if saving: fig.write_image(\"figs/fig_misdp_min_cycle.pdf\")\n",
    "fig.show()"
   ]
  },
  {
   "cell_type": "markdown",
   "metadata": {},
   "source": [
    "In several of the following examples, we use the PEP formulation to find the contraction factor for the algorithm designs in two scenarios:\n",
    "\n",
    "1) $(n)$ 2-Lipschitz 1-strongly monotone operators\n",
    "\n",
    "2) $(n-1)$ 2-Lipschitz 1-strongly monotone operators, and 1 unrestricted maximal monotone operator (this simulates having the subdifferential of an indicator function over some convex set)\n",
    "\n",
    "In the figure 6 example, we use a fixed step size of 0.5.\n",
    "\n",
    "We then compare the different algorithm designs, including the spectral objectives using our SDP, and some existing designs in the literature."
   ]
  },
  {
   "cell_type": "code",
   "execution_count": 10,
   "metadata": {},
   "outputs": [],
   "source": [
    "from warnings import warn\n",
    "if 'MOSEK' not in cvx.installed_solvers():\n",
    "    warn('''These experiments were conducted with Mosek as the underlying conic solver for CVXPY.  Mosek was not detected on your system. Running without Mosek will generate different results than those in the paper, including lack of convergence on larger problems.''')"
   ]
  },
  {
   "cell_type": "code",
   "execution_count": 11,
   "metadata": {},
   "outputs": [],
   "source": [
    "# Figure 6 - contraction rate results\n",
    "# Function to generate list of all test matrices\n",
    "def getTestMatrices(n):\n",
    "    cases = []\n",
    "    Ws = []\n",
    "    names = ['Full', 'MT']\n",
    "    Lf, Wf = getFull(n)\n",
    "    Mf = getMfromWCholesky(Wf)\n",
    "    cases.append((Lf, Mf))\n",
    "    Ws.append(Wf)\n",
    "    Lmt, Wmt = getMT(n)\n",
    "    Mmt = getMfromWCholesky(Wmt)\n",
    "    cases.append((Lmt, Mmt))\n",
    "    Ws.append(Wmt)\n",
    "    i = n//2\n",
    "    for obj in [getMinSLEM, getMinResist, getMaxConnectivity]:\n",
    "        L, W = getBlockMin(n, i, builder=obj)\n",
    "        M = getMfromWCholesky(W)\n",
    "        cases.append((L, M))\n",
    "        Ws.append(W)\n",
    "        title = f\"2-Block \"+ obj.__name__\n",
    "        names.append(title)\n",
    "        \n",
    "    return cases, names, Ws\n",
    "    \n",
    "def getMatrixContraction(cases, names, Lc=2, mu=1, gamma=0.5):\n",
    "    '''Get contraction factors for matrix cases\n",
    "\n",
    "    Args:\n",
    "        cases (list): list of cases with L and M\n",
    "        names (list): list of names\n",
    "        Lc (float): Lipschitz constant\n",
    "        mu (float): strong convexity parameter\n",
    "        gamma (float): step size\n",
    "\n",
    "    Returns:\n",
    "        taus (dict): dictionary of contraction factors\n",
    "    '''\n",
    "\n",
    "    taus = {}\n",
    "    for i, (L, M) in enumerate(cases):\n",
    "        n = L.shape[0]\n",
    "        \n",
    "        ls = np.ones(n)*Lc\n",
    "        mus = np.ones(n)*mu\n",
    "        \n",
    "        tau = getReducedContractionFactor(L, M, ls, mus)\n",
    "        taus[names[i]] = tau\n",
    "        print(names[i], tau)\n",
    "    return taus\n",
    "\n"
   ]
  },
  {
   "cell_type": "code",
   "execution_count": 12,
   "metadata": {},
   "outputs": [],
   "source": [
    "# Figure 6 helper\n",
    "def testFixedRate(start=4, end=31, lc=2, mc=1):\n",
    "    tau_results = defaultdict(list) \n",
    "    for n in range(start, end, 2):\n",
    "        print(f\"Testing optimal rate on {n} nodes\")\n",
    "        ls = np.ones(n) * lc\n",
    "        mus = np.ones(n) * mc\n",
    "        cases, names, Ws = getTestMatrices(n)\n",
    "        for i, (L, M) in enumerate(cases):\n",
    "            tau = getReducedContractionFactor(L, M, ls, mus)\n",
    "            tau_results[names[i]].append(tau)\n",
    "\n",
    "\n",
    "    # Convert results to df\n",
    "    tau_df = pd.DataFrame(tau_results)\n",
    "    tau_df.index = range(start, end, 2)\n",
    "\n",
    "    return tau_df"
   ]
  },
  {
   "cell_type": "code",
   "execution_count": 13,
   "metadata": {},
   "outputs": [
    {
     "name": "stdout",
     "output_type": "stream",
     "text": [
      "Testing optimal rate on 6 nodes\n",
      "Testing optimal rate on 8 nodes\n",
      "Testing optimal rate on 10 nodes\n",
      "Testing optimal rate on 12 nodes\n",
      "Testing optimal rate on 14 nodes\n",
      "Testing optimal rate on 16 nodes\n",
      "Testing optimal rate on 18 nodes\n",
      "Testing optimal rate on 20 nodes\n",
      "Testing optimal rate on 22 nodes\n",
      "Testing optimal rate on 24 nodes\n",
      "Testing optimal rate on 26 nodes\n",
      "Testing optimal rate on 28 nodes\n",
      "Testing optimal rate on 30 nodes\n"
     ]
    }
   ],
   "source": [
    "# Figure 6a\n",
    "tau_df = testFixedRate(start=6, end=31)\n"
   ]
  },
  {
   "cell_type": "code",
   "execution_count": 14,
   "metadata": {},
   "outputs": [
    {
     "data": {
      "image/png": "[encoded data removed]",
      "text/plain": [
       "<Figure size 640x480 with 1 Axes>"
      ]
     },
     "metadata": {},
     "output_type": "display_data"
    }
   ],
   "source": [
    "# Plot figure 6a\n",
    "fig, ax = plt.subplots()\n",
    "tau_df.plot(ax=ax)\n",
    "\n",
    "ax.set_xlabel(\"n\")\n",
    "ax.set_ylabel(\"Contraction\")\n",
    "ax.set_title(r\"Fixed step size contraction with $n$ Lipschitz strongly monotone operators\")\n",
    "ax.legend(['Full', 'MT', '2-Block Min SLEM', r'2-Block Min Resistance (also min $\\|Z-W\\|$)', '2-Block Max Fiedler'], loc=(0.25,0.4))\n",
    "if saving: fig.savefig(\"figs/fig6a.pdf\", format=\"pdf\", bbox_inches=\"tight\")"
   ]
  },
  {
   "cell_type": "code",
   "execution_count": 15,
   "metadata": {},
   "outputs": [],
   "source": [
    "# Figure 6b helper\n",
    "def testFixedRateProj(start=4, end=31, lc=2, mc=1):\n",
    "    tau_results = defaultdict(list) \n",
    "    for n in range(start, end, 2):\n",
    "        print(f\"Testing optimal rate on {n} nodes\")\n",
    "        ls = np.ones(n) * lc\n",
    "        ls[n-1] = np.inf\n",
    "        mus = np.ones(n) * mc\n",
    "        mus[n-1] = 0\n",
    "        cases, names, Ws = getTestMatrices(n)\n",
    "        for i, (Z, M) in enumerate(cases):\n",
    "            tau = getReducedContractionFactor(Z, M, ls, mus)\n",
    "            tau_results[names[i]].append(tau)\n",
    "\n",
    "\n",
    "    # Convert results to df\n",
    "    tau_df = pd.DataFrame(tau_results)\n",
    "    tau_df.index = range(start, end, 2)\n",
    "\n",
    "    return tau_df"
   ]
  },
  {
   "cell_type": "code",
   "execution_count": 16,
   "metadata": {},
   "outputs": [
    {
     "name": "stdout",
     "output_type": "stream",
     "text": [
      "Testing optimal rate on 6 nodes\n",
      "Testing optimal rate on 8 nodes\n",
      "Testing optimal rate on 10 nodes\n",
      "Testing optimal rate on 12 nodes\n",
      "Testing optimal rate on 14 nodes\n",
      "Testing optimal rate on 16 nodes\n",
      "Testing optimal rate on 18 nodes\n",
      "Testing optimal rate on 20 nodes\n",
      "Testing optimal rate on 22 nodes\n",
      "Testing optimal rate on 24 nodes\n",
      "Testing optimal rate on 26 nodes\n",
      "Testing optimal rate on 28 nodes\n",
      "Testing optimal rate on 30 nodes\n"
     ]
    }
   ],
   "source": [
    "# Figure 6b\n",
    "tau_df = testFixedRateProj(start=6, end=31)\n"
   ]
  },
  {
   "cell_type": "code",
   "execution_count": 17,
   "metadata": {},
   "outputs": [
    {
     "data": {
      "image/png": "[encoded data removed]",
      "text/plain": [
       "<Figure size 640x480 with 1 Axes>"
      ]
     },
     "metadata": {},
     "output_type": "display_data"
    }
   ],
   "source": [
    "# Plot figure 6b\n",
    "fig, ax = plt.subplots()\n",
    "tau_df.plot(ax=ax)\n",
    "\n",
    "ax.set_xlabel(\"n\")\n",
    "ax.set_ylabel(\"Contraction\")\n",
    "ax.set_title(\"Fixed step size contraction with an unrestricted monotone operator\")\n",
    "ax.legend(['Full', 'MT', '2-Block Min SLEM', r'2-Block Min Resistance (also min $\\|Z-W\\|$)', '2-Block Max Fiedler'], loc=\"lower right\")\n",
    "if saving: fig.savefig(\"figs/fig6b.pdf\", format=\"pdf\", bbox_inches=\"tight\")"
   ]
  },
  {
   "cell_type": "markdown",
   "metadata": {},
   "source": [
    "In figure 7 we repeat the analysis, but using an optimal step size we derive from an extension of the dual of the PEP. This also demonstrates the use of the `getReducedContractionOptGamma` function, which generates a step size which minimizes the contraction factor for the reduced version of the algorithm:\n",
    "\n",
    "\\begin{align}\n",
    "\\mathrm{x} &= J_{\\mathrm{A}}\\left(-\\mathrm{M}^{T} \\mathrm{z}^{k} + \\mathrm{L} \\mathrm{x}\\right)\\\\\n",
    "\\mathrm{z}^{k+1} &= \\mathrm{z}^{k} + \\gamma \\mathrm{M} \\mathrm{x}. \n",
    "\\end{align}\n",
    "\n",
    "where $M^T M = W$"
   ]
  },
  {
   "cell_type": "code",
   "execution_count": 18,
   "metadata": {},
   "outputs": [],
   "source": [
    "# Figure 7 helper\n",
    "def testOptimalRate(start=4, end=31, lc=2, mc=1):\n",
    "    tau_results = defaultdict(list) \n",
    "    for n in range(start, end, 2):\n",
    "        print(f\"Testing optimal rate on {n} nodes\")\n",
    "        ls = np.ones(n) * lc\n",
    "        ms = np.ones(n) * mc\n",
    "        cases, names, Ws = getTestMatrices(n)\n",
    "        for i, (Z, M) in enumerate(cases):\n",
    "            tau, gamma = getReducedContractionOptGamma(Z, M, ls, ms)\n",
    "            tau_results[names[i]].append(tau)\n",
    "\n",
    "\n",
    "    # Convert results to df\n",
    "    tau_df = pd.DataFrame(tau_results)\n",
    "    tau_df.index = range(start, end, 2)\n",
    "\n",
    "    return tau_df"
   ]
  },
  {
   "cell_type": "code",
   "execution_count": 19,
   "metadata": {},
   "outputs": [],
   "source": [
    "# Figure 7 helper\n",
    "def plotTau(tau_df, title):\n",
    "    fig, ax = plt.subplots()\n",
    "    tau_df.plot(ax=ax)\n",
    "    ax.set_xlabel(\"n\")\n",
    "    ax.set_ylabel(\"Contraction\") #$\\\\tau$\n",
    "    ax.set_title(title)\n",
    "    ax.legend(['Full', 'MT', '2-Block Min SLEM', r'2-Block Min Resistance (also min $\\|Z-W\\|$)', '2-Block Max Fiedler'], loc=\"center right\")\n",
    "    #ax.legend(loc='center right')\n",
    "    #plt.show()\n",
    "    return fig"
   ]
  },
  {
   "cell_type": "code",
   "execution_count": 20,
   "metadata": {},
   "outputs": [
    {
     "name": "stdout",
     "output_type": "stream",
     "text": [
      "Testing optimal rate on 4 nodes\n",
      "Testing optimal rate on 6 nodes\n",
      "Testing optimal rate on 8 nodes\n",
      "Testing optimal rate on 10 nodes\n",
      "Testing optimal rate on 12 nodes\n",
      "Testing optimal rate on 14 nodes\n",
      "Testing optimal rate on 16 nodes\n",
      "Testing optimal rate on 18 nodes\n",
      "Testing optimal rate on 20 nodes\n",
      "Testing optimal rate on 22 nodes\n",
      "Testing optimal rate on 24 nodes\n",
      "Testing optimal rate on 26 nodes\n",
      "Testing optimal rate on 28 nodes\n",
      "Testing optimal rate on 30 nodes\n"
     ]
    }
   ],
   "source": [
    "# Figure 7\n",
    "tau_df = testOptimalRate(start=4, end=31)\n",
    "\n",
    "if saving: tau_df.to_csv(\"figs/fig_opt_gamma_strong.csv\", index=False)\n"
   ]
  },
  {
   "cell_type": "code",
   "execution_count": 21,
   "metadata": {},
   "outputs": [
    {
     "data": {
      "image/png": "[encoded data removed]",
      "text/plain": [
       "<Figure size 640x480 with 1 Axes>"
      ]
     },
     "metadata": {},
     "output_type": "display_data"
    }
   ],
   "source": [
    "# Figure 7\n",
    "fig = plotTau(tau_df, \"Contraction over $n$ Lipschitz strongly monotone operators\")\n",
    "if saving: fig.savefig(\"figs/fig_opt_gamma_strong.pdf\", format=\"pdf\", bbox_inches=\"tight\")"
   ]
  },
  {
   "cell_type": "code",
   "execution_count": 22,
   "metadata": {},
   "outputs": [],
   "source": [
    "# Figure 7 helper\n",
    "def testOptimalRateProj(start=4, end=31, lc=2, mc=1):\n",
    "    tau_results = defaultdict(list) \n",
    "    for n in range(start, end, 2):\n",
    "        print(f\"Testing optimal rate on {n} nodes\")\n",
    "        ls = np.ones(n) * lc\n",
    "        ls[n-1] = np.inf\n",
    "        mus = np.ones(n) * mc\n",
    "        mus[n-1] = 0\n",
    "        cases, names, Ws = getTestMatrices(n)\n",
    "        for i, (Z, M) in enumerate(cases):\n",
    "            tau, _ = getReducedContractionOptGamma(Z, M, ls, mus)\n",
    "            tau_results[names[i]].append(tau)\n",
    "\n",
    "\n",
    "    # Convert results to df\n",
    "    tau_df = pd.DataFrame(tau_results)\n",
    "    tau_df.index = range(start, end, 2)\n",
    "\n",
    "    return tau_df"
   ]
  },
  {
   "cell_type": "code",
   "execution_count": 23,
   "metadata": {},
   "outputs": [
    {
     "name": "stdout",
     "output_type": "stream",
     "text": [
      "Testing optimal rate on 4 nodes\n",
      "Testing optimal rate on 6 nodes\n",
      "Testing optimal rate on 8 nodes\n",
      "Testing optimal rate on 10 nodes\n",
      "Testing optimal rate on 12 nodes\n",
      "Testing optimal rate on 14 nodes\n",
      "Testing optimal rate on 16 nodes\n",
      "Testing optimal rate on 18 nodes\n",
      "Testing optimal rate on 20 nodes\n",
      "Testing optimal rate on 22 nodes\n",
      "Testing optimal rate on 24 nodes\n",
      "Testing optimal rate on 26 nodes\n",
      "Testing optimal rate on 28 nodes\n",
      "Testing optimal rate on 30 nodes\n"
     ]
    }
   ],
   "source": [
    "# Figure 7b\n",
    "tau_df = testOptimalRateProj(start=4, end=31)\n",
    "\n",
    "if saving: tau_df.to_csv(\"figs/fig_opt_gamma_proj.csv\", index=False)\n"
   ]
  },
  {
   "cell_type": "code",
   "execution_count": 24,
   "metadata": {},
   "outputs": [
    {
     "data": {
      "image/png": "[encoded data removed]",
      "text/plain": [
       "<Figure size 640x480 with 1 Axes>"
      ]
     },
     "metadata": {},
     "output_type": "display_data"
    }
   ],
   "source": [
    "# Figure 7b\n",
    "fig = plotTau(tau_df, \"Contraction with an unrestricted monotone operator\")\n",
    "\n",
    "if saving: fig.savefig(\"figs/fig7b.pdf\", format=\"pdf\", bbox_inches=\"tight\")"
   ]
  },
  {
   "cell_type": "markdown",
   "metadata": {},
   "source": [
    "In figure 8 we examine the impact of operator ordering on the contraction factor. In this example (and previous ones), we illustrate the use of some of the prebuilt matrix functions.\n",
    "\n",
    "`getMT(n)` returns the Malitsky-Tam algorithm design over $n$ operators\n",
    "\n",
    "`getRyu(n)` returns the Tam extension of the Ryu algorithm design over $n$ operators\n",
    "\n",
    "`getFull(n)` returns the fully connected algorithm with equal weights over $n$ operators\n",
    "\n",
    "We also use a helper function `getMfromWCholesky` to return a valid $M \\in \\mathbf{R}^{n-1 \\times n}$ such that $M^T M = W$"
   ]
  },
  {
   "cell_type": "code",
   "execution_count": 25,
   "metadata": {},
   "outputs": [
    {
     "name": "stdout",
     "output_type": "stream",
     "text": [
      "Testing optimal rate on 4 nodes\n",
      "Testing optimal rate on 6 nodes\n",
      "Testing optimal rate on 8 nodes\n",
      "Testing optimal rate on 10 nodes\n",
      "Testing optimal rate on 12 nodes\n",
      "Testing optimal rate on 14 nodes\n",
      "Testing optimal rate on 16 nodes\n",
      "Testing optimal rate on 18 nodes\n",
      "Testing optimal rate on 20 nodes\n",
      "Testing optimal rate on 22 nodes\n",
      "Testing optimal rate on 24 nodes\n",
      "Testing optimal rate on 26 nodes\n",
      "Testing optimal rate on 28 nodes\n",
      "Testing optimal rate on 30 nodes\n"
     ]
    }
   ],
   "source": [
    "# Figure 8 - operator ordering\n",
    "Lc=2\n",
    "mu=1\n",
    "\n",
    "\n",
    "taus = defaultdict(list)\n",
    "for n in range(4, 31, 2):\n",
    "    print(f\"Testing optimal rate on {n} nodes\")\n",
    "    Lb, Wb = getBlockMin(n, n//2)\n",
    "    Mb = getMfromWCholesky(Wb)\n",
    "    Lmt, Wmt = getMT(n)\n",
    "    Mmt = getMfromWCholesky(Wmt)\n",
    "    Lr, Wr = getRyu(n)\n",
    "    Mr = getMfromWCholesky(Wr)\n",
    "    Lmax, Wmax = getFull(n)\n",
    "    Mmax = getMfromWCholesky(Wmax)\n",
    "\n",
    "    cases = [(Lb, Mb), (Lmt, Mmt), (Lr, Mr), (Lmax, Mmax)]\n",
    "    names = [\"2-Block\", \"MT\", \"Ryu\", \"Full\"]\n",
    "    ls = np.ones(n)*Lc\n",
    "    ls[n-1] = np.inf\n",
    "    mus = np.ones(n)*mu\n",
    "    mus[n-1] = 0\n",
    "    for i, (Z, M) in enumerate(cases):\n",
    "        tau, _ = getReducedContractionOptGamma(Z, M, ls, mus)\n",
    "        taus[names[i]].append(tau)\n",
    "\n",
    "    ls = np.ones(n)*Lc\n",
    "    ls[0] = np.inf\n",
    "    mus = np.ones(n)*mu\n",
    "    mus[0] = 0\n",
    "    for i, (Z, M) in enumerate(cases):\n",
    "        tau, _ = getReducedContractionOptGamma(Z, M, ls, mus)        \n",
    "        taus[names[i]+\" reverse\"].append(tau)"
   ]
  },
  {
   "cell_type": "code",
   "execution_count": 26,
   "metadata": {},
   "outputs": [
    {
     "data": {
      "image/png": "[encoded data removed]",
      "text/plain": [
       "<Figure size 640x480 with 1 Axes>"
      ]
     },
     "metadata": {},
     "output_type": "display_data"
    }
   ],
   "source": [
    "# Figure 8 - operator ordering\n",
    "df = pd.DataFrame(taus)\n",
    "df.index = range(4, 31, 2)\n",
    "\n",
    "# Plot the results\n",
    "colors = ['blue', 'green', 'red', 'purple']\n",
    "styles = ['b-', 'g-', 'k-', 'm-', 'y--', 'c--', 'r--', 'p--']\n",
    "styles = ['b-', 'g-', 'k-', 'm-', 'b*-', 'g*-', 'k*-', 'm*-']\n",
    "\n",
    "if saving: df.to_csv(\"figs/fig_function_ordering_opt.csv\", index=False)\n",
    "df.plot(style=styles)\n",
    "plt.xlabel(\"Number of nodes\")\n",
    "plt.ylabel(\"Contraction\")\n",
    "plt.title(\"Operator Ordering and Splitting Performance\")\n",
    "\n",
    "if saving: plt.savefig(\"figs/fig_function_order_opt.pdf\", format=\"pdf\", bbox_inches=\"tight\")\n",
    "plt.show()"
   ]
  },
  {
   "cell_type": "markdown",
   "metadata": {},
   "source": [
    "Figure 9 examines the impact of block count in the $d$-Block designs on the reduced contraction factor."
   ]
  },
  {
   "cell_type": "code",
   "execution_count": 27,
   "metadata": {},
   "outputs": [],
   "source": [
    "# Figure 9 - block size\n",
    "\n",
    "# Function to generate list of all test matrices\n",
    "def getTestMatricesBlocks(n):\n",
    "    cases = []\n",
    "    names = ['Full', 'MT']\n",
    "    objs = ['Full', 'MT']\n",
    "    blocksizes = ['', '']\n",
    "    blocklist = ['', '']\n",
    "    Lf, Wf = getFull(n)\n",
    "    Mf = getMfromWCholesky(Wf)\n",
    "    cases.append((Lf, Mf))\n",
    "    Lmt, Wmt = getMT(n)\n",
    "    Mmt = getMfromWCholesky(Wmt)\n",
    "    cases.append((Lmt, Mmt))\n",
    "    objstring = ['MinSLEM', 'MinResist', 'getMaxConnectivity', 'Min |Z-W|']\n",
    "    for i in range(2, n//2+1):\n",
    "        if n % i != 0:\n",
    "            continue\n",
    "        for j, obj in enumerate([getMinSLEM, getMinResist, getMaxConnectivity, getMinSpectralDifference]):\n",
    "            L, W = getBlockMin(n, i, builder=obj)\n",
    "            M = getMfromWCholesky(W)\n",
    "            cases.append((L, M))\n",
    "            objs.append(objstring[j])\n",
    "            blocksizes.append(i)\n",
    "            blocklist.append(n//i)\n",
    "            title = f\"{n//i}-Block \"+objstring[j]\n",
    "            names.append(title)\n",
    "        \n",
    "    return cases, names, objs, blocksizes, blocklist\n",
    "\n",
    "# Test function\n",
    "def testMatrices(cases, names, lc=2, mu=1):\n",
    "        \n",
    "    taus = {}\n",
    "    for i, (L, M) in enumerate(cases):\n",
    "        ls = np.ones(len(L))*lc\n",
    "        mus = np.ones(len(L))*mu\n",
    "        \n",
    "        tau, _ = getReducedContractionOptGamma(L, M, ls, mus)\n",
    "        print(names[i], tau)\n",
    "        taus[names[i]] = tau\n",
    "\n",
    "    return taus\n",
    "\n",
    "    "
   ]
  },
  {
   "cell_type": "code",
   "execution_count": 28,
   "metadata": {},
   "outputs": [
    {
     "name": "stdout",
     "output_type": "stream",
     "text": [
      "4\n",
      "Full 0.42757264243870163\n",
      "MT 0.8002281453197669\n",
      "2-Block MinSLEM 0.5571563323030004\n",
      "2-Block MinResist 0.4285714313486169\n",
      "2-Block getMaxConnectivity 0.4444444922837189\n",
      "2-Block Min |Z-W| 0.4285714295615013\n",
      "5\n",
      "Full 0.4476922209675467\n",
      "MT 0.8613717840444194\n",
      "6\n",
      "Full 0.4592582042344319\n",
      "MT 0.8973983347682897\n",
      "3-Block MinSLEM 0.7129712945766307\n",
      "3-Block MinResist 0.7182631444907567\n",
      "3-Block getMaxConnectivity 0.7149701914264488\n",
      "3-Block Min |Z-W| 0.7219681448031213\n",
      "2-Block MinSLEM 0.5571562848664554\n",
      "2-Block MinResist 0.4285714295483013\n",
      "2-Block getMaxConnectivity 0.44444444676649425\n",
      "2-Block Min |Z-W| 0.4285714391012484\n",
      "7\n",
      "Full 0.4667573414540386\n",
      "MT 0.9210285463263077\n",
      "8\n",
      "Full 0.47200715470169285\n",
      "MT 0.9373167138798192\n",
      "4-Block MinSLEM 0.8312917026071186\n",
      "4-Block MinResist 0.8108979753769874\n",
      "4-Block getMaxConnectivity 0.8002312869710034\n",
      "4-Block Min |Z-W| 0.941477505124461\n",
      "2-Block MinSLEM 0.5571562864960922\n",
      "2-Block MinResist 0.42857143703485306\n",
      "2-Block getMaxConnectivity 0.44444444095154123\n",
      "2-Block Min |Z-W| 0.4285714404630935\n",
      "9\n",
      "Full 0.47588407918368236\n",
      "MT 0.9490542144444052\n",
      "3-Block MinSLEM 0.7136623351169658\n",
      "3-Block MinResist 0.7182631349801807\n",
      "3-Block getMaxConnectivity 0.7149701881416025\n",
      "3-Block Min |Z-W| 0.721625763607339\n",
      "10\n",
      "Full 0.47886238699142825\n",
      "MT 0.9578086304484189\n",
      "5-Block MinSLEM 0.8909468585238486\n",
      "5-Block MinResist 0.867517932802625\n",
      "5-Block getMaxConnectivity 0.8695754924153191\n",
      "5-Block Min |Z-W| 0.8841478195107378\n",
      "2-Block MinSLEM 0.5571562870927799\n",
      "2-Block MinResist 0.42857144049355284\n",
      "2-Block getMaxConnectivity 0.4444444528301972\n",
      "2-Block Min |Z-W| 0.4285714756315748\n",
      "11\n",
      "Full 0.48122091775576215\n",
      "MT 0.9645090300428389\n",
      "12\n",
      "Full 0.4831342670605387\n",
      "MT 0.9697458591678797\n",
      "6-Block MinSLEM 0.9286467827618313\n",
      "6-Block MinResist 0.9043210339398919\n",
      "6-Block getMaxConnectivity 0.9144343450184275\n",
      "6-Block Min |Z-W| 0.9722434703074236\n",
      "4-Block MinSLEM 0.8315779438788308\n",
      "4-Block MinResist 0.8109011164889857\n",
      "4-Block getMaxConnectivity 0.800230556903227\n",
      "4-Block Min |Z-W| 0.9727067114492229\n",
      "3-Block MinSLEM 0.7136913729366098\n",
      "3-Block MinResist 0.7182631626527647\n",
      "3-Block getMaxConnectivity 0.7149701880049253\n",
      "3-Block Min |Z-W| 0.7198903635614468\n",
      "2-Block MinSLEM 0.5571562914359873\n",
      "2-Block MinResist 0.4285714423768761\n",
      "2-Block getMaxConnectivity 0.4444444669187686\n",
      "2-Block Min |Z-W| 0.42857143724309643\n",
      "13\n",
      "Full 0.48471718030959554\n",
      "MT 0.973913351855411\n",
      "14\n",
      "Full 0.4860481904482468\n",
      "MT 0.9772819066072854\n",
      "7-Block MinSLEM 0.9487364735979578\n",
      "7-Block MinResist 0.9275947681871843\n",
      "7-Block getMaxConnectivity 0.9414978988156072\n",
      "7-Block Min |Z-W| 0.9379753945914446\n",
      "2-Block MinSLEM 0.557156319596188\n",
      "2-Block MinResist 0.4285714449206654\n",
      "2-Block getMaxConnectivity 0.4444444653388366\n",
      "2-Block Min |Z-W| 0.4285714478549018\n",
      "15\n",
      "Full 0.4871828194233887\n",
      "MT 0.9800422357402336\n",
      "5-Block MinSLEM 0.8909822044645745\n",
      "5-Block MinResist 0.8675171034552484\n",
      "5-Block getMaxConnectivity 0.8704262357358895\n",
      "5-Block Min |Z-W| 0.884147178988839\n",
      "3-Block MinSLEM 0.7139964911450651\n",
      "3-Block MinResist 0.7182631419233311\n",
      "3-Block getMaxConnectivity 0.7149701828125359\n",
      "3-Block Min |Z-W| 0.7212430056300047\n",
      "16\n",
      "Full 0.4881613958305979\n",
      "MT 0.982331559673419\n",
      "8-Block MinSLEM 0.9617952552560637\n",
      "8-Block MinResist 0.9432011548185408\n",
      "8-Block getMaxConnectivity 0.9547827560439179\n",
      "8-Block Min |Z-W| 0.984312688557697\n",
      "4-Block MinSLEM 0.8305921215626267\n",
      "4-Block MinResist 0.810901372201405\n",
      "4-Block getMaxConnectivity 0.8002306863817329\n",
      "4-Block Min |Z-W| 0.9846467923858342\n",
      "2-Block MinSLEM 0.5571562801519709\n",
      "2-Block MinResist 0.42857145641427274\n",
      "2-Block getMaxConnectivity 0.4444444532967592\n",
      "2-Block Min |Z-W| 0.4285719748037357\n",
      "17\n",
      "Full 0.48901400167960424\n",
      "MT 0.9842506483711779\n",
      "18\n",
      "Full 0.48976341389760036\n",
      "MT 0.9858748663019703\n",
      "9-Block MinSLEM 0.9703746119206356\n",
      "9-Block MinResist 0.9543238260113719\n",
      "9-Block getMaxConnectivity 0.9652586756536125\n",
      "9-Block Min |Z-W| 0.9609557182720175\n",
      "6-Block MinSLEM 0.9275028019346698\n",
      "6-Block MinResist 0.9043214134207581\n",
      "6-Block getMaxConnectivity 0.9144361415851295\n",
      "6-Block Min |Z-W| 0.9878024770410241\n",
      "3-Block MinSLEM 0.7155778627013152\n",
      "3-Block MinResist 0.7182631394913369\n",
      "3-Block getMaxConnectivity 0.714970186975424\n",
      "3-Block Min |Z-W| 0.7200060165770772\n",
      "2-Block MinSLEM 0.5571562747102308\n",
      "2-Block MinResist 0.42857145497562177\n",
      "2-Block getMaxConnectivity 0.4444444766502718\n",
      "2-Block Min |Z-W| 0.42857145071323766\n",
      "19\n",
      "Full 0.49042725685598576\n",
      "MT 0.9872613997720258\n",
      "20\n",
      "Full 0.49101936604430657\n",
      "MT 0.98845429318482\n",
      "10-Block MinSLEM 0.9764919089889494\n",
      "10-Block MinResist 0.962423695808761\n",
      "10-Block getMaxConnectivity 0.9726771941180504\n",
      "10-Block Min |Z-W| 0.9899003592427055\n",
      "5-Block MinSLEM 0.8911438717367322\n",
      "5-Block MinResist 0.8675186993873587\n",
      "5-Block getMaxConnectivity 0.8694645407319692\n",
      "5-Block Min |Z-W| 0.8841666755171997\n",
      "4-Block MinSLEM 0.8303092938860538\n",
      "4-Block MinResist 0.8108998233599979\n",
      "4-Block getMaxConnectivity 0.8002313067536541\n",
      "4-Block Min |Z-W| 0.9901443601471902\n",
      "2-Block MinSLEM 0.5571562922761835\n",
      "2-Block MinResist 0.42857146217923375\n",
      "2-Block getMaxConnectivity 0.4444445101779809\n",
      "2-Block Min |Z-W| 0.4285714974634699\n",
      "21\n",
      "Full 0.4915507533342952\n",
      "MT 0.9894878242785429\n",
      "7-Block MinSLEM 0.9487355900122049\n",
      "7-Block MinResist 0.927595226519541\n",
      "7-Block getMaxConnectivity 0.941511002537707\n",
      "7-Block Min |Z-W| 0.9379749998585962\n",
      "3-Block MinSLEM 0.7153071127915064\n",
      "3-Block MinResist 0.718263142925979\n",
      "3-Block getMaxConnectivity 0.7149701856037487\n",
      "3-Block Min |Z-W| 0.7189210801398356\n",
      "22\n",
      "Full 0.49203028591117437\n",
      "MT 0.9903890671242299\n",
      "11-Block MinSLEM 0.9809651412879521\n",
      "11-Block MinResist 0.9685139166081649\n",
      "11-Block getMaxConnectivity 0.9778676187341625\n",
      "11-Block Min |Z-W| 0.9734129603050969\n",
      "2-Block MinSLEM 0.5571562777737625\n",
      "2-Block MinResist 0.4285714662418531\n",
      "2-Block getMaxConnectivity 0.44444444602144473\n",
      "2-Block Min |Z-W| 0.42857164213313487\n",
      "23\n",
      "Full 0.4924651929745758\n",
      "MT 0.9911795563889043\n",
      "24\n",
      "Full 0.49286136387229174\n",
      "MT 0.9918767125518874\n",
      "12-Block MinSLEM 0.9843030495757736\n",
      "12-Block MinResist 0.973217780193838\n",
      "12-Block getMaxConnectivity 0.9816644352019704\n",
      "12-Block Min |Z-W| 0.9929841126330489\n",
      "8-Block MinSLEM 0.9622432331486851\n",
      "8-Block MinResist 0.9432019114011947\n",
      "8-Block getMaxConnectivity 0.9547824348741082\n",
      "8-Block Min |Z-W| 0.993094132745304\n",
      "6-Block MinSLEM 0.928776429156759\n",
      "6-Block MinResist 0.9043211703834182\n",
      "6-Block getMaxConnectivity 0.914437579939196\n",
      "6-Block Min |Z-W| 0.9931237478485793\n",
      "4-Block MinSLEM 0.8322312228369568\n",
      "4-Block MinResist 0.8108997953067624\n",
      "4-Block getMaxConnectivity 0.8002303080536397\n",
      "4-Block Min |Z-W| 0.9931625511630191\n",
      "3-Block MinSLEM 0.7139527977400927\n",
      "3-Block MinResist 0.7182631396706524\n",
      "3-Block getMaxConnectivity 0.7149701820379472\n",
      "3-Block Min |Z-W| 0.7214889051024767\n",
      "2-Block MinSLEM 0.5571562808448017\n",
      "2-Block MinResist 0.4285714706906377\n",
      "2-Block getMaxConnectivity 0.4444444535825983\n",
      "2-Block Min |Z-W| 0.4285714368904713\n"
     ]
    }
   ],
   "source": [
    "# Figure 9\n",
    "results = []\n",
    "for n in range(4, 25): #t < 120:\n",
    "    print(n)\n",
    "    cases, names, objs, blocksizes, blocks = getTestMatricesBlocks(n)\n",
    "    taus = testMatrices(cases, names)\n",
    "    # Each key in taus is a column, the row is the value of n\n",
    "    for i in range(len(names)):\n",
    "        k = names[i]\n",
    "        v = taus[k]\n",
    "        results.append({\"n\": n, \"name\": k, \"obj\": objs[i], \"blocksize\": blocksizes[i], \"blocks\":blocks[i], \"tau\": v})\n",
    "\n",
    "df = pd.DataFrame(results)\n",
    "\n",
    "if saving: df.to_csv(\"figs/taus_plus.csv\", index=False)\n",
    "df.set_index('n', inplace=True)\n"
   ]
  },
  {
   "cell_type": "code",
   "execution_count": 29,
   "metadata": {},
   "outputs": [
    {
     "data": {
      "image/png": "[encoded data removed]",
      "text/plain": [
       "<Figure size 1000x600 with 1 Axes>"
      ]
     },
     "metadata": {},
     "output_type": "display_data"
    }
   ],
   "source": [
    "# Figure 9\n",
    "df[df[\"obj\"].isin([\"MinResist\", \"Full\", \"MT\"])].groupby(['obj', 'blocks'])['tau'].plot(marker='o', linestyle='-', figsize=(10, 6))\n",
    "keys = ['Full', 'MT', '2-Block', '3-Block', '4-Block', '5-Block', '6-Block', '7-Block', '8-Block', '9-Block', '10-Block', '11-Block', '12-Block']\n",
    "plt.legend(keys, bbox_to_anchor=(1, 1))\n",
    "\n",
    "# Make x axis integer\n",
    "plt.xticks(np.arange(4, 25, 2))\n",
    "plt.xlabel(r\"$n$\")\n",
    "plt.title(\"Min Resistance Contraction over $n$ Lipschitz Strongly Monotone Operators by Block Number\")\n",
    "if saving: plt.savefig(\"figs/fig_block_count.pdf\", format=\"pdf\", bbox_inches=\"tight\")"
   ]
  },
  {
   "cell_type": "code",
   "execution_count": 30,
   "metadata": {},
   "outputs": [],
   "source": [
    "# Figure 9 - Test function\n",
    "def testMatricesProj(n, cases, names, lc=2, mu=1):\n",
    "    ls = np.ones(n)*lc\n",
    "    mus = np.ones(n)*mu\n",
    "    ls[n-1] = np.inf\n",
    "    mus[n-1] = 0\n",
    "    taus = {}\n",
    "    for i, (Z, M) in enumerate(cases):\n",
    "        tau, _ = getReducedContractionOptGamma(Z, M, ls, mus)\n",
    "        print(names[i], tau)\n",
    "        taus[names[i]] = tau\n",
    "\n",
    "    return taus"
   ]
  },
  {
   "cell_type": "code",
   "execution_count": 31,
   "metadata": {},
   "outputs": [
    {
     "name": "stdout",
     "output_type": "stream",
     "text": [
      "4\n",
      "Full 0.7521521274547781\n",
      "MT 0.9177841369745806\n",
      "2-Block MinSLEM 0.8191387835717695\n",
      "2-Block MinResist 0.7870338919734876\n",
      "2-Block getMaxConnectivity 0.7953598873831341\n",
      "2-Block Min |Z-W| 0.7870338929140283\n",
      "5\n",
      "Full 0.804479212788819\n",
      "MT 0.9475773165769151\n",
      "6\n",
      "Full 0.8385587406685645\n",
      "MT 0.9636790407235943\n",
      "3-Block MinSLEM 0.9037804471101512\n",
      "3-Block MinResist 0.8989263836062485\n",
      "3-Block getMaxConnectivity 0.9061871583499181\n",
      "3-Block Min |Z-W| 0.9135498842509275\n",
      "2-Block MinSLEM 0.8708680920504788\n",
      "2-Block MinResist 0.8616700813961772\n",
      "2-Block getMaxConnectivity 0.8621392257249626\n",
      "2-Block Min |Z-W| 0.8616700814010753\n",
      "7\n",
      "Full 0.8625324131656764\n",
      "MT 0.9733944272799407\n",
      "8\n",
      "Full 0.8803148080938081\n",
      "MT 0.9796953548701692\n",
      "4-Block MinSLEM 0.9474277363886522\n",
      "4-Block MinResist 0.9366151343240023\n",
      "4-Block getMaxConnectivity 0.9433024851609532\n",
      "4-Block Min |Z-W| 0.973409934409352\n",
      "2-Block MinSLEM 0.8996656566193365\n",
      "2-Block MinResist 0.8973584357777739\n",
      "2-Block getMaxConnectivity 0.8958143091479002\n",
      "2-Block Min |Z-W| 0.8973584363664313\n",
      "9\n",
      "Full 0.8940287042166508\n",
      "MT 0.9840061423604585\n",
      "3-Block MinSLEM 0.9307312164570021\n",
      "3-Block MinResist 0.9226238203150819\n",
      "3-Block getMaxConnectivity 0.9323411711606611\n",
      "3-Block Min |Z-W| 0.9393777455930288\n",
      "10\n",
      "Full 0.9049261834616941\n",
      "MT 0.987082059420084\n",
      "5-Block MinSLEM 0.9689265865777249\n",
      "5-Block MinResist 0.9580312525816643\n",
      "5-Block getMaxConnectivity 0.9624541733669086\n",
      "5-Block Min |Z-W| 0.9626920257840589\n",
      "2-Block MinSLEM 0.9180267565236665\n",
      "2-Block MinResist 0.9183673775667139\n",
      "2-Block getMaxConnectivity 0.9162273200186933\n",
      "2-Block Min |Z-W| 0.9183673755524175\n",
      "11\n",
      "Full 0.9137934450814728\n",
      "MT 0.9893521326450776\n",
      "12\n",
      "Full 0.9211491280506132\n",
      "MT 0.9910743537751785\n",
      "6-Block MinSLEM 0.9789174581581735\n",
      "6-Block MinResist 0.9701553677734772\n",
      "6-Block getMaxConnectivity 0.9760878858313551\n",
      "6-Block Min |Z-W| 0.9901656038837535\n",
      "4-Block MinSLEM 0.9584479385950101\n",
      "4-Block MinResist 0.9489712431829004\n",
      "4-Block getMaxConnectivity 0.9578859026482333\n",
      "4-Block Min |Z-W| 0.9878867205563878\n",
      "3-Block MinSLEM 0.9458305830612371\n",
      "3-Block MinResist 0.9376136644227758\n",
      "3-Block getMaxConnectivity 0.9473963816398561\n",
      "3-Block Min |Z-W| 0.9522310368508774\n",
      "2-Block MinSLEM 0.9307344400497067\n",
      "2-Block MinResist 0.9322246587661246\n",
      "2-Block getMaxConnectivity 0.9299406775571856\n",
      "2-Block Min |Z-W| 0.9322246586790258\n",
      "13\n",
      "Full 0.9273491859704465\n",
      "MT 0.992411364833255\n",
      "14\n",
      "Full 0.932645842257762\n",
      "MT 0.993469781964156\n",
      "7-Block MinSLEM 0.9853972703053113\n",
      "7-Block MinResist 0.9778941521049814\n",
      "7-Block getMaxConnectivity 0.9828136159182077\n",
      "7-Block Min |Z-W| 0.9813363351847598\n",
      "2-Block MinSLEM 0.9400431051724545\n",
      "2-Block MinResist 0.9420552238153022\n",
      "2-Block getMaxConnectivity 0.9397919143149901\n",
      "2-Block Min |Z-W| 0.9420552246270523\n",
      "15\n",
      "Full 0.937223186841485\n",
      "MT 0.9943217922540158\n",
      "5-Block MinSLEM 0.9738253402852743\n",
      "5-Block MinResist 0.9649799380239577\n",
      "5-Block getMaxConnectivity 0.970801207784623\n",
      "5-Block Min |Z-W| 0.9693147007330792\n",
      "3-Block MinSLEM 0.9560258680076285\n",
      "3-Block MinResist 0.9478753106388287\n",
      "3-Block getMaxConnectivity 0.95705106105732\n",
      "3-Block Min |Z-W| 0.9621833868844302\n",
      "16\n",
      "Full 0.9412182809698121\n",
      "MT 0.9950176830138516\n",
      "8-Block MinSLEM 0.9890045186059533\n",
      "8-Block MinResist 0.9829427711733084\n",
      "8-Block getMaxConnectivity 0.9866922615983069\n",
      "8-Block Min |Z-W| 0.9961540437147793\n",
      "4-Block MinSLEM 0.9670269688454332\n",
      "4-Block MinResist 0.9575260666138141\n",
      "4-Block getMaxConnectivity 0.9667689485945332\n",
      "4-Block Min |Z-W| 0.9928248010703448\n",
      "2-Block MinSLEM 0.9471521763612342\n",
      "2-Block MinResist 0.9493931004128954\n",
      "2-Block getMaxConnectivity 0.9472125393675561\n",
      "2-Block Min |Z-W| 0.9493931076790231\n",
      "17\n",
      "Full 0.9447354996217051\n",
      "MT 0.9955932803549359\n",
      "18\n",
      "Full 0.947855785340868\n",
      "MT 0.996074790975494\n",
      "9-Block MinSLEM 0.9915648726425846\n",
      "9-Block MinResist 0.9865000821854106\n",
      "9-Block getMaxConnectivity 0.9901521870887245\n",
      "9-Block Min |Z-W| 0.9891596604018159\n",
      "6-Block MinSLEM 0.9825082072580673\n",
      "6-Block MinResist 0.9744370647024783\n",
      "6-Block getMaxConnectivity 0.9801050909409362\n",
      "6-Block Min |Z-W| 0.9958495599559523\n",
      "3-Block MinSLEM 0.9642668406680164\n",
      "3-Block MinResist 0.955296551535812\n",
      "3-Block getMaxConnectivity 0.9637389817675531\n",
      "3-Block Min |Z-W| 0.9675527668956523\n",
      "2-Block MinSLEM 0.9527572967475476\n",
      "2-Block MinResist 0.9550802012500238\n",
      "2-Block getMaxConnectivity 0.9530038257340486\n",
      "2-Block Min |Z-W| 0.955080203580843\n",
      "19\n",
      "Full 0.9506426888675692\n",
      "MT 0.996481611885768\n",
      "20\n",
      "Full 0.9531469126958941\n",
      "MT 0.9968284121901984\n",
      "10-Block MinSLEM 0.993285843914794\n",
      "10-Block MinResist 0.9890215627493778\n",
      "10-Block getMaxConnectivity 0.9919898626829307\n",
      "10-Block Min |Z-W| 0.9972506113683761\n",
      "5-Block MinSLEM 0.979399319450312\n",
      "5-Block MinResist 0.970002704723482\n",
      "5-Block getMaxConnectivity 0.9775767546884625\n",
      "5-Block Min |Z-W| 0.9746139992513881\n",
      "4-Block MinSLEM 0.9739997596232908\n",
      "4-Block MinResist 0.9637516512555582\n",
      "4-Block getMaxConnectivity 0.972566112327696\n",
      "4-Block Min |Z-W| 0.9953362328229749\n",
      "2-Block MinSLEM 0.9572893031133494\n",
      "2-Block MinResist 0.9596176491512585\n",
      "2-Block getMaxConnectivity 0.9576495804635136\n",
      "2-Block Min |Z-W| 0.9596176491744893\n",
      "21\n",
      "Full 0.9554093767969243\n",
      "MT 0.9971264271830746\n",
      "7-Block MinSLEM 0.9872557828234318\n",
      "7-Block MinResist 0.9805964409150721\n",
      "7-Block getMaxConnectivity 0.9857688115356639\n",
      "7-Block Min |Z-W| 0.9835556963079414\n",
      "3-Block MinSLEM 0.9689019584023383\n",
      "3-Block MinResist 0.9608952675884532\n",
      "3-Block getMaxConnectivity 0.9686361747260043\n",
      "3-Block Min |Z-W| 0.9713812148136787\n",
      "22\n",
      "Full 0.9574634693504498\n",
      "MT 0.9973843798894533\n",
      "11-Block MinSLEM 0.9945268047901978\n",
      "11-Block MinResist 0.990884984308052\n",
      "11-Block getMaxConnectivity 0.9935307285679214\n",
      "11-Block Min |Z-W| 0.9930424969536937\n",
      "2-Block MinSLEM 0.9610289962705262\n",
      "2-Block MinResist 0.9633222012553342\n",
      "2-Block getMaxConnectivity 0.9614591930818184\n",
      "2-Block Min |Z-W| 0.963322201284921\n",
      "23\n",
      "Full 0.9593367015363286\n",
      "MT 0.997609135727751\n",
      "24\n",
      "Full 0.9610519693853471\n",
      "MT 0.9978061502071545\n",
      "12-Block MinSLEM 0.9953946262686774\n",
      "12-Block MinResist 0.9923095127101956\n",
      "12-Block getMaxConnectivity 0.9946550324092933\n",
      "12-Block Min |Z-W| 0.9983139817651911\n",
      "8-Block MinSLEM 0.989874488176794\n",
      "8-Block MinResist 0.9847609779441222\n",
      "8-Block getMaxConnectivity 0.9889926358266021\n",
      "8-Block Min |Z-W| 0.9979178830289349\n",
      "6-Block MinSLEM 0.9838829638524134\n",
      "6-Block MinResist 0.977656930587672\n",
      "6-Block getMaxConnectivity 0.9838051851417146\n",
      "6-Block Min |Z-W| 0.9975103721753279\n",
      "4-Block MinSLEM 0.9746789140694998\n",
      "4-Block MinResist 0.968446693484504\n",
      "4-Block getMaxConnectivity 0.9769961075997836\n",
      "4-Block Min |Z-W| 0.9967444566609213\n",
      "3-Block MinSLEM 0.9715971859965308\n",
      "3-Block MinResist 0.9652615861720307\n",
      "3-Block getMaxConnectivity 0.9723734352990583\n",
      "3-Block Min |Z-W| 0.9760870696697462\n",
      "2-Block MinSLEM 0.9641672314386082\n",
      "2-Block MinResist 0.9664039049397605\n",
      "2-Block getMaxConnectivity 0.9646398369846612\n",
      "2-Block Min |Z-W| 0.9664039049568086\n",
      "25\n",
      "Full 0.9626284123300337\n",
      "MT 0.9979798028060392\n",
      "5-Block MinSLEM 0.9819274019401646\n",
      "5-Block MinResist 0.9738454956136942\n",
      "5-Block getMaxConnectivity 0.9799388946837898\n",
      "5-Block Min |Z-W| 0.9773675813882964\n"
     ]
    }
   ],
   "source": [
    "# Figure 9\n",
    "projresults = []\n",
    "for n in range(4,26): #t < 120:\n",
    "    print(n)\n",
    "    cases, names, objs, blocksizes, blocks = getTestMatricesBlocks(n)\n",
    "    taus = testMatricesProj(n, cases, names)\n",
    "    # Each key in taus is a column, the row is the value of n\n",
    "    for i in range(len(names)):\n",
    "        k = names[i]\n",
    "        v = taus[k]\n",
    "        \n",
    "        projresults.append({\"n\": n, \"name\": k, \"obj\": objs[i], \"blocksize\": blocksizes[i], \"blocks\":blocks[i], \"tau\": v})\n",
    "\n",
    "projdf = pd.DataFrame(projresults)\n",
    "if saving: projdf.to_csv(\"figs/taus_proj.csv\", index=False)\n",
    "projdf.set_index('n', inplace=True)\n",
    "\n"
   ]
  },
  {
   "cell_type": "code",
   "execution_count": 32,
   "metadata": {},
   "outputs": [
    {
     "data": {
      "image/png": "[encoded data removed]",
      "text/plain": [
       "<Figure size 1000x600 with 1 Axes>"
      ]
     },
     "metadata": {},
     "output_type": "display_data"
    }
   ],
   "source": [
    "# Figure 9 Class 2 \n",
    "\n",
    "projdf[projdf[\"obj\"].isin([\"MinResist\", \"Full\", \"MT\"])].groupby(['obj', 'blocks'])['tau'].plot(marker='o', linestyle='-', figsize=(10, 6))\n",
    "\n",
    "keys = ['Full', 'MT', '2-Block', '3-Block', '4-Block', '5-Block', '6-Block', '7-Block', '8-Block', '9-Block', '10-Block', '11-Block', '12-Block'] # If using df directly\n",
    "plt.legend(keys, bbox_to_anchor=(1, 1))\n",
    "plt.title(\"Min Resistance Contraction over $n-1$ Lipschitz Strongly Monotone Operators\")\n",
    "if saving: plt.savefig(\"figs/fig_block_count_proj.pdf\", format=\"pdf\", bbox_inches=\"tight\")"
   ]
  },
  {
   "cell_type": "markdown",
   "metadata": {},
   "source": [
    "Figure 10 combines the iteration time and contraction factor to depict how removing edges impacts algorithm design. We see that the 2-Block design strikes the optimal balance between connectivity (for faster contraction) and sparseness (for parallelism and faster iteration times)\n",
    "\n",
    "This uses the `getIterationTime` function to return the iteration time."
   ]
  },
  {
   "cell_type": "code",
   "execution_count": 33,
   "metadata": {},
   "outputs": [],
   "source": [
    "# Figure 10 - pareto curves\n",
    "\n",
    "from matplotlib.colors import CenteredNorm\n",
    "def getTaus(Z, W, l=None, mu=None):\n",
    "\n",
    "    M = getMfromWCholesky(W)\n",
    "    h = getReducedContractionFactor(Z, M, l, mu, gamma=0.5)\n",
    "    m, _ = getReducedContractionOptGamma(Z, M, l, mu)\n",
    "    return h, m\n",
    "\n",
    "def getContractTime(n, l, mu, builder=None, tol=0.5):\n",
    "    Z_fixed = {}\n",
    "\n",
    "    t = np.ones(n)\n",
    "    ll = np.ones((n,n))\n",
    "    results = {}\n",
    "    for i in range(n//2):\n",
    "        print(i)\n",
    "        start = 0\n",
    "        for k in range(2):\n",
    "            for j in range(start, i + k*(n//2)):\n",
    "                Z_fixed[(i + k*(n//2),j)] = 0\n",
    "            Zs, Ws = builder(n, fixed_Z=Z_fixed)\n",
    "            h, m = getTaus(Zs, Ws, l, mu)\n",
    "            tt, _, _ = getIterationTime(t, ll, Zs, Ws, itrs=2)\n",
    "            # r is number of entries in Z_fixed\n",
    "            r = len(Z_fixed)\n",
    "            tif = np.ceil(np.log(tol)/np.log(h)) # Total iterations fixed\n",
    "            tio = np.ceil(np.log(tol)/np.log(m)) # Total iterations opt step\n",
    "            ttf = tif*tt\n",
    "            tto = tio*tt\n",
    "            results[r] = {'Fixed':h , 'M Opt': m, 'Time': tt, 'Removed Edges': r, 'Fixed Total Iterations': tif, 'Opt Step Total Iterations': tio, 'Fixed Total Time': ttf, 'Opt Step Total Time': tto}\n",
    "            print(results[r])\n",
    "            start = n//2\n",
    "\n",
    "    counter = 0\n",
    "    for i in range(n//2 - 2):\n",
    "        for j in range(i+1):\n",
    "            r = n//2 + j\n",
    "            c = n//2 - 1 - i + j\n",
    "            Z_fixed[(r, c)] = 0\n",
    "            counter += 1\n",
    "            if counter % 10 == 0:\n",
    "                Ls, Ws = builder(n, fixed_Z=Z_fixed)\n",
    "                h, m = getTaus(Ls, Ws, l, mu)\n",
    "                tt = 4\n",
    "                # r is number of entries in Z_fixed\n",
    "                rem = len(Z_fixed)    \n",
    "                tif = np.ceil(np.log(tol)/np.log(h)) # Total iterations fixed\n",
    "                tio = np.ceil(np.log(tol)/np.log(m)) # Total iterations opt step\n",
    "                ttf = tif*tt\n",
    "                tto = tio*tt\n",
    "                results[rem] = {'Fixed':h , 'M Opt': m, 'Time': tt, 'Removed Edges': rem, 'Fixed Total Iterations': tif, 'Opt Step Total Iterations': tio, 'Fixed Total Time': ttf, 'Opt Step Total Time': tto}\n",
    "                print(results[rem])\n",
    "    # Create dataframe of taus and times\n",
    "    df = pd.DataFrame(results)\n",
    "\n",
    "    return df\n"
   ]
  },
  {
   "cell_type": "code",
   "execution_count": 35,
   "metadata": {},
   "outputs": [
    {
     "name": "stdout",
     "output_type": "stream",
     "text": [
      "0\n",
      "{'Fixed': 0.9798415277888528, 'M Opt': 0.9610519693853884, 'Time': 47.99999999999555, 'Removed Edges': 0, 'Fixed Total Iterations': 35.0, 'Opt Step Total Iterations': 18.0, 'Fixed Total Time': 1679.9999999998442, 'Opt Step Total Time': 863.99999999992}\n",
      "{'Fixed': 0.9798415277888528, 'M Opt': 0.9610519693853884, 'Time': 47.99999999999555, 'Removed Edges': 0, 'Fixed Total Iterations': 35.0, 'Opt Step Total Iterations': 18.0, 'Fixed Total Time': 1679.9999999998442, 'Opt Step Total Time': 863.99999999992}\n",
      "1\n",
      "{'Fixed': 0.980261496418161, 'M Opt': 0.9611323509049845, 'Time': 46.00000000002653, 'Removed Edges': 1, 'Fixed Total Iterations': 35.0, 'Opt Step Total Iterations': 18.0, 'Fixed Total Time': 1610.0000000009286, 'Opt Step Total Time': 828.0000000004776}\n",
      "{'Fixed': 0.9802662117435833, 'M Opt': 0.9611963188397474, 'Time': 44.00000000001397, 'Removed Edges': 2, 'Fixed Total Iterations': 35.0, 'Opt Step Total Iterations': 18.0, 'Fixed Total Time': 1540.0000000004889, 'Opt Step Total Time': 792.0000000002515}\n",
      "2\n",
      "{'Fixed': 0.9802875665352909, 'M Opt': 0.9612842605235793, 'Time': 41.999999999993534, 'Removed Edges': 4, 'Fixed Total Iterations': 35.0, 'Opt Step Total Iterations': 18.0, 'Fixed Total Time': 1469.9999999997738, 'Opt Step Total Time': 755.9999999998836}\n",
      "{'Fixed': 0.9802997894439988, 'M Opt': 0.9613411694104287, 'Time': 40.00000000033529, 'Removed Edges': 6, 'Fixed Total Iterations': 35.0, 'Opt Step Total Iterations': 18.0, 'Fixed Total Time': 1400.0000000117352, 'Opt Step Total Time': 720.0000000060352}\n",
      "3\n",
      "{'Fixed': 0.980333537182883, 'M Opt': 0.9614621759256643, 'Time': 38.00000000019668, 'Removed Edges': 9, 'Fixed Total Iterations': 35.0, 'Opt Step Total Iterations': 18.0, 'Fixed Total Time': 1330.0000000068837, 'Opt Step Total Time': 684.0000000035402}\n",
      "{'Fixed': 0.9803482444258642, 'M Opt': 0.961556170626987, 'Time': 36.00000000005643, 'Removed Edges': 12, 'Fixed Total Iterations': 35.0, 'Opt Step Total Iterations': 18.0, 'Fixed Total Time': 1260.0000000019752, 'Opt Step Total Time': 648.0000000010158}\n",
      "4\n",
      "{'Fixed': 0.9803962573547533, 'M Opt': 0.9616824815880433, 'Time': 34.00000000000089, 'Removed Edges': 16, 'Fixed Total Iterations': 36.0, 'Opt Step Total Iterations': 18.0, 'Fixed Total Time': 1224.000000000032, 'Opt Step Total Time': 612.000000000016}\n",
      "{'Fixed': 0.9804205785199671, 'M Opt': 0.9617697154629247, 'Time': 32.00000000018983, 'Removed Edges': 20, 'Fixed Total Iterations': 36.0, 'Opt Step Total Iterations': 18.0, 'Fixed Total Time': 1152.000000006834, 'Opt Step Total Time': 576.000000003417}\n",
      "5\n",
      "{'Fixed': 0.9804743516946345, 'M Opt': 0.961943545734137, 'Time': 29.99999999993441, 'Removed Edges': 25, 'Fixed Total Iterations': 36.0, 'Opt Step Total Iterations': 18.0, 'Fixed Total Time': 1079.9999999976387, 'Opt Step Total Time': 539.9999999988194}\n",
      "{'Fixed': 0.9805037044782223, 'M Opt': 0.9620438220075124, 'Time': 28.000000000015845, 'Removed Edges': 30, 'Fixed Total Iterations': 36.0, 'Opt Step Total Iterations': 18.0, 'Fixed Total Time': 1008.0000000005705, 'Opt Step Total Time': 504.00000000028524}\n",
      "6\n",
      "{'Fixed': 0.9805600670069083, 'M Opt': 0.9622355100631113, 'Time': 26.00000000018838, 'Removed Edges': 36, 'Fixed Total Iterations': 36.0, 'Opt Step Total Iterations': 19.0, 'Fixed Total Time': 936.0000000067816, 'Opt Step Total Time': 494.0000000035792}\n",
      "{'Fixed': 0.980597546582057, 'M Opt': 0.9623815109287709, 'Time': 23.999999999924594, 'Removed Edges': 42, 'Fixed Total Iterations': 36.0, 'Opt Step Total Iterations': 19.0, 'Fixed Total Time': 863.9999999972854, 'Opt Step Total Time': 455.99999999856726}\n",
      "7\n",
      "{'Fixed': 0.9806589351093611, 'M Opt': 0.9625133852277818, 'Time': 22.000000000001247, 'Removed Edges': 49, 'Fixed Total Iterations': 36.0, 'Opt Step Total Iterations': 19.0, 'Fixed Total Time': 792.0000000000449, 'Opt Step Total Time': 418.0000000000237}\n",
      "{'Fixed': 0.9807040097683939, 'M Opt': 0.9627002065458006, 'Time': 19.999999999880224, 'Removed Edges': 56, 'Fixed Total Iterations': 36.0, 'Opt Step Total Iterations': 19.0, 'Fixed Total Time': 719.9999999956881, 'Opt Step Total Time': 379.9999999977243}\n",
      "8\n",
      "{'Fixed': 0.9807299828704, 'M Opt': 0.9623991226451313, 'Time': 17.99999999994352, 'Removed Edges': 64, 'Fixed Total Iterations': 36.0, 'Opt Step Total Iterations': 19.0, 'Fixed Total Time': 647.9999999979667, 'Opt Step Total Time': 341.99999999892685}\n",
      "{'Fixed': 0.9808256429517443, 'M Opt': 0.9630682819294798, 'Time': 15.999999999994683, 'Removed Edges': 72, 'Fixed Total Iterations': 36.0, 'Opt Step Total Iterations': 19.0, 'Fixed Total Time': 575.9999999998086, 'Opt Step Total Time': 303.999999999899}\n",
      "9\n",
      "{'Fixed': 0.9809157370495094, 'M Opt': 0.9634034231551192, 'Time': 14.000000000000362, 'Removed Edges': 81, 'Fixed Total Iterations': 36.0, 'Opt Step Total Iterations': 19.0, 'Fixed Total Time': 504.0000000000131, 'Opt Step Total Time': 266.0000000000069}\n",
      "{'Fixed': 0.9809589253766784, 'M Opt': 0.9634643960174586, 'Time': 11.9999999999999, 'Removed Edges': 90, 'Fixed Total Iterations': 37.0, 'Opt Step Total Iterations': 19.0, 'Fixed Total Time': 443.9999999999963, 'Opt Step Total Time': 227.99999999999812}\n",
      "10\n",
      "{'Fixed': 0.9810642937152938, 'M Opt': 0.9638734446840136, 'Time': 10.000000000165414, 'Removed Edges': 100, 'Fixed Total Iterations': 37.0, 'Opt Step Total Iterations': 19.0, 'Fixed Total Time': 370.00000000612033, 'Opt Step Total Time': 190.00000000314287}\n",
      "{'Fixed': 0.9810813313943937, 'M Opt': 0.9638311538362162, 'Time': 7.999999999999933, 'Removed Edges': 110, 'Fixed Total Iterations': 37.0, 'Opt Step Total Iterations': 19.0, 'Fixed Total Time': 295.99999999999756, 'Opt Step Total Time': 151.99999999999872}\n",
      "11\n",
      "{'Fixed': 0.9813422523211235, 'M Opt': 0.9642481933973072, 'Time': 3.9999999999999907, 'Removed Edges': 121, 'Fixed Total Iterations': 37.0, 'Opt Step Total Iterations': 20.0, 'Fixed Total Time': 147.99999999999966, 'Opt Step Total Time': 79.99999999999982}\n",
      "{'Fixed': 0.9812891913425683, 'M Opt': 0.9646398369853711, 'Time': 3.9999999999999907, 'Removed Edges': 132, 'Fixed Total Iterations': 37.0, 'Opt Step Total Iterations': 20.0, 'Fixed Total Time': 147.99999999999966, 'Opt Step Total Time': 79.99999999999982}\n"
     ]
    },
    {
     "ename": "SolverError",
     "evalue": "Solver 'MOSEK' failed. Try another solver, or solve with verbose=True for more information.",
     "output_type": "error",
     "traceback": [
      "\u001b[1;31m---------------------------------------------------------------------------\u001b[0m",
      "\u001b[1;31mSolverError\u001b[0m                               Traceback (most recent call last)",
      "Cell \u001b[1;32mIn[35], line 8\u001b[0m\n\u001b[0;32m      5\u001b[0m mu \u001b[38;5;241m=\u001b[39m np\u001b[38;5;241m.\u001b[39mones(n)\n\u001b[0;32m      6\u001b[0m mu[n\u001b[38;5;241m-\u001b[39m\u001b[38;5;241m1\u001b[39m]\u001b[38;5;241m=\u001b[39m \u001b[38;5;241m0\u001b[39m\n\u001b[1;32m----> 8\u001b[0m df \u001b[38;5;241m=\u001b[39m \u001b[43mgetContractTime\u001b[49m\u001b[43m(\u001b[49m\u001b[43mn\u001b[49m\u001b[43m,\u001b[49m\u001b[43m \u001b[49m\u001b[43ml\u001b[49m\u001b[43m,\u001b[49m\u001b[43m \u001b[49m\u001b[43mmu\u001b[49m\u001b[43m,\u001b[49m\u001b[43m \u001b[49m\u001b[43mbuilder\u001b[49m\u001b[38;5;241;43m=\u001b[39;49m\u001b[43mgetMaxConnectivity\u001b[49m\u001b[43m)\u001b[49m\n\u001b[0;32m      9\u001b[0m df2 \u001b[38;5;241m=\u001b[39m df\u001b[38;5;241m.\u001b[39mT\n",
      "Cell \u001b[1;32mIn[33], line 44\u001b[0m, in \u001b[0;36mgetContractTime\u001b[1;34m(n, l, mu, builder, tol)\u001b[0m\n\u001b[0;32m     42\u001b[0m counter \u001b[38;5;241m+\u001b[39m\u001b[38;5;241m=\u001b[39m \u001b[38;5;241m1\u001b[39m\n\u001b[0;32m     43\u001b[0m \u001b[38;5;28;01mif\u001b[39;00m counter \u001b[38;5;241m%\u001b[39m \u001b[38;5;241m10\u001b[39m \u001b[38;5;241m==\u001b[39m \u001b[38;5;241m0\u001b[39m:\n\u001b[1;32m---> 44\u001b[0m     Ls, Ws \u001b[38;5;241m=\u001b[39m \u001b[43mbuilder\u001b[49m\u001b[43m(\u001b[49m\u001b[43mn\u001b[49m\u001b[43m,\u001b[49m\u001b[43m \u001b[49m\u001b[43mfixed_Z\u001b[49m\u001b[38;5;241;43m=\u001b[39;49m\u001b[43mZ_fixed\u001b[49m\u001b[43m)\u001b[49m\n\u001b[0;32m     45\u001b[0m     h, m \u001b[38;5;241m=\u001b[39m getTaus(Ls, Ws, l, mu)\n\u001b[0;32m     46\u001b[0m     tt \u001b[38;5;241m=\u001b[39m \u001b[38;5;241m4\u001b[39m\n",
      "File \u001b[1;32m~\\OneDrive\\Documents\\code\\oars\\oars\\matrices\\core.py:273\u001b[0m, in \u001b[0;36mgetMaxConnectivity\u001b[1;34m(n, vz, vw, **kwargs)\u001b[0m\n\u001b[0;32m    271\u001b[0m obj \u001b[38;5;241m=\u001b[39m cvx\u001b[38;5;241m.\u001b[39mMaximize(obj_fun)\n\u001b[0;32m    272\u001b[0m prob \u001b[38;5;241m=\u001b[39m cvx\u001b[38;5;241m.\u001b[39mProblem(obj, cons)\n\u001b[1;32m--> 273\u001b[0m \u001b[43mprob\u001b[49m\u001b[38;5;241;43m.\u001b[39;49m\u001b[43msolve\u001b[49m\u001b[43m(\u001b[49m\u001b[43m)\u001b[49m\n\u001b[0;32m    275\u001b[0m \u001b[38;5;28;01mif\u001b[39;00m verbose:\n\u001b[0;32m    276\u001b[0m     \u001b[38;5;28mprint\u001b[39m(\u001b[38;5;124m\"\u001b[39m\u001b[38;5;124mstatus:\u001b[39m\u001b[38;5;124m\"\u001b[39m, prob\u001b[38;5;241m.\u001b[39mstatus)\n",
      "File \u001b[1;32mc:\\Users\\peter\\miniconda3\\envs\\oarstest\\Lib\\site-packages\\cvxpy\\problems\\problem.py:503\u001b[0m, in \u001b[0;36mProblem.solve\u001b[1;34m(self, *args, **kwargs)\u001b[0m\n\u001b[0;32m    501\u001b[0m \u001b[38;5;28;01melse\u001b[39;00m:\n\u001b[0;32m    502\u001b[0m     solve_func \u001b[38;5;241m=\u001b[39m Problem\u001b[38;5;241m.\u001b[39m_solve\n\u001b[1;32m--> 503\u001b[0m \u001b[38;5;28;01mreturn\u001b[39;00m \u001b[43msolve_func\u001b[49m\u001b[43m(\u001b[49m\u001b[38;5;28;43mself\u001b[39;49m\u001b[43m,\u001b[49m\u001b[43m \u001b[49m\u001b[38;5;241;43m*\u001b[39;49m\u001b[43margs\u001b[49m\u001b[43m,\u001b[49m\u001b[43m \u001b[49m\u001b[38;5;241;43m*\u001b[39;49m\u001b[38;5;241;43m*\u001b[39;49m\u001b[43mkwargs\u001b[49m\u001b[43m)\u001b[49m\n",
      "File \u001b[1;32mc:\\Users\\peter\\miniconda3\\envs\\oarstest\\Lib\\site-packages\\cvxpy\\problems\\problem.py:1086\u001b[0m, in \u001b[0;36mProblem._solve\u001b[1;34m(self, solver, warm_start, verbose, gp, qcp, requires_grad, enforce_dpp, ignore_dpp, canon_backend, **kwargs)\u001b[0m\n\u001b[0;32m   1084\u001b[0m end \u001b[38;5;241m=\u001b[39m time\u001b[38;5;241m.\u001b[39mtime()\n\u001b[0;32m   1085\u001b[0m \u001b[38;5;28mself\u001b[39m\u001b[38;5;241m.\u001b[39m_solve_time \u001b[38;5;241m=\u001b[39m end \u001b[38;5;241m-\u001b[39m start\n\u001b[1;32m-> 1086\u001b[0m \u001b[38;5;28;43mself\u001b[39;49m\u001b[38;5;241;43m.\u001b[39;49m\u001b[43munpack_results\u001b[49m\u001b[43m(\u001b[49m\u001b[43msolution\u001b[49m\u001b[43m,\u001b[49m\u001b[43m \u001b[49m\u001b[43msolving_chain\u001b[49m\u001b[43m,\u001b[49m\u001b[43m \u001b[49m\u001b[43minverse_data\u001b[49m\u001b[43m)\u001b[49m\n\u001b[0;32m   1087\u001b[0m \u001b[38;5;28;01mif\u001b[39;00m verbose:\n\u001b[0;32m   1088\u001b[0m     \u001b[38;5;28mprint\u001b[39m(_FOOTER)\n",
      "File \u001b[1;32mc:\\Users\\peter\\miniconda3\\envs\\oarstest\\Lib\\site-packages\\cvxpy\\problems\\problem.py:1411\u001b[0m, in \u001b[0;36mProblem.unpack_results\u001b[1;34m(self, solution, chain, inverse_data)\u001b[0m\n\u001b[0;32m   1409\u001b[0m     warnings\u001b[38;5;241m.\u001b[39mwarn(INF_OR_UNB_MESSAGE)\n\u001b[0;32m   1410\u001b[0m \u001b[38;5;28;01mif\u001b[39;00m solution\u001b[38;5;241m.\u001b[39mstatus \u001b[38;5;129;01min\u001b[39;00m s\u001b[38;5;241m.\u001b[39mERROR:\n\u001b[1;32m-> 1411\u001b[0m     \u001b[38;5;28;01mraise\u001b[39;00m error\u001b[38;5;241m.\u001b[39mSolverError(\n\u001b[0;32m   1412\u001b[0m             \u001b[38;5;124m\"\u001b[39m\u001b[38;5;124mSolver \u001b[39m\u001b[38;5;124m'\u001b[39m\u001b[38;5;132;01m%s\u001b[39;00m\u001b[38;5;124m'\u001b[39m\u001b[38;5;124m failed. \u001b[39m\u001b[38;5;124m\"\u001b[39m \u001b[38;5;241m%\u001b[39m chain\u001b[38;5;241m.\u001b[39msolver\u001b[38;5;241m.\u001b[39mname() \u001b[38;5;241m+\u001b[39m\n\u001b[0;32m   1413\u001b[0m             \u001b[38;5;124m\"\u001b[39m\u001b[38;5;124mTry another solver, or solve with verbose=True for more \u001b[39m\u001b[38;5;124m\"\u001b[39m\n\u001b[0;32m   1414\u001b[0m             \u001b[38;5;124m\"\u001b[39m\u001b[38;5;124minformation.\u001b[39m\u001b[38;5;124m\"\u001b[39m)\n\u001b[0;32m   1416\u001b[0m \u001b[38;5;28mself\u001b[39m\u001b[38;5;241m.\u001b[39munpack(solution)\n\u001b[0;32m   1417\u001b[0m \u001b[38;5;28mself\u001b[39m\u001b[38;5;241m.\u001b[39m_solver_stats \u001b[38;5;241m=\u001b[39m SolverStats\u001b[38;5;241m.\u001b[39mfrom_dict(\u001b[38;5;28mself\u001b[39m\u001b[38;5;241m.\u001b[39m_solution\u001b[38;5;241m.\u001b[39mattr,\n\u001b[0;32m   1418\u001b[0m                                  chain\u001b[38;5;241m.\u001b[39msolver\u001b[38;5;241m.\u001b[39mname())\n",
      "\u001b[1;31mSolverError\u001b[0m: Solver 'MOSEK' failed. Try another solver, or solve with verbose=True for more information."
     ]
    }
   ],
   "source": [
    "# Figure 10\n",
    "n = 24\n",
    "l = np.ones(n)*2\n",
    "l[n-1] = np.inf\n",
    "mu = np.ones(n)\n",
    "mu[n-1]= 0\n",
    "\n",
    "df = getContractTime(n, l, mu, builder=getMaxConnectivity)\n",
    "df2 = df.T"
   ]
  },
  {
   "cell_type": "code",
   "execution_count": 36,
   "metadata": {},
   "outputs": [
    {
     "data": {
      "image/png": "[encoded data removed]",
      "text/plain": [
       "<Figure size 640x480 with 1 Axes>"
      ]
     },
     "metadata": {},
     "output_type": "display_data"
    }
   ],
   "source": [
    "\n",
    "if saving: df.to_csv('figs/n24.csv', index=False)\n",
    "\n",
    "# Plot total time vs removed edges\n",
    "plt.plot(df.iloc[3], df.iloc[6], df.iloc[3], df.iloc[7])\n",
    "# Subtitle\n",
    "plt.suptitle('Time Units to 0.5 Contraction vs Removed Edges, $n=$'+str(n))\n",
    "\n",
    "\n",
    "plt.legend( ['Fixed Step Size', 'Optimal Step Size'])\n",
    "plt.xlabel('Removed Edges')\n",
    "plt.ylabel('Time Units')\n",
    "if saving: plt.savefig(\"figs/fig_optimal_sparsity.pdf\", format=\"pdf\", bbox_inches=\"tight\")\n",
    "plt.show()\n"
   ]
  },
  {
   "cell_type": "code",
   "execution_count": 37,
   "metadata": {},
   "outputs": [
    {
     "name": "stdout",
     "output_type": "stream",
     "text": [
      "0 (47.99999999999555, 0.9610519693852897)\n",
      "1 (46.00000000002653, 0.9611344874981325)\n",
      "2 (44.00000000001397, 0.9612008911742602)\n",
      "3 (41.999999999993534, 0.9612841961148996)\n",
      "4 (40.00000000033529, 0.9613404323358163)\n",
      "5 (38.00000000019668, 0.9614511691184635)\n",
      "6 (36.00000000005643, 0.9615160721244879)\n",
      "7 (34.00000000000089, 0.9616398317573042)\n",
      "8 (32.00000000018983, 0.9616501789931347)\n",
      "9 (29.99999999993441, 0.9618143984054425)\n",
      "10 (28.000000000015845, 0.9618911233999475)\n",
      "11 (26.00000000018838, 0.9619696358581257)\n",
      "12 (23.999999999924594, 0.9620812351429494)\n",
      "13 (22.000000000001247, 0.9622244218633337)\n",
      "14 (19.999999999880224, 0.9623042101456656)\n",
      "15 (17.99999999994352, 0.962424427613141)\n",
      "16 (15.999999999994683, 0.9624855242813694)\n",
      "17 (14.000000000000362, 0.9627105025538466)\n",
      "18 (11.9999999999999, 0.9627679103019492)\n",
      "19 (10.000000000165414, 0.96304306184268)\n",
      "20 (7.999999999999933, 0.9630413776592729)\n",
      "21 (3.9999999999999907, 0.9642038633930519)\n",
      "22 (3.9999999999999907, 0.9642023236823605)\n",
      "23 (4.0, 0.9652843225004955)\n",
      "24 (4.0, 0.9669002363662484)\n",
      "25 (4.0, 0.968647136449619)\n",
      "26 (4.0, 0.9699045194765014)\n",
      "27 (4.0, 0.9724128400046071)\n"
     ]
    },
    {
     "data": {
      "image/png": "[encoded data removed]",
      "text/plain": [
       "<Figure size 640x480 with 1 Axes>"
      ]
     },
     "metadata": {},
     "output_type": "display_data"
    }
   ],
   "source": [
    "# Figure 10\n",
    "# Plot the top three rows of df as a function of time with points annotated\n",
    "plt.plot(df.iloc[2], df.iloc[0], marker='<')\n",
    "plt.plot(df.iloc[2], df.iloc[1], marker='<')\n",
    "\n",
    "plt.title('Contraction vs Time as Edges are Removed')\n",
    "# Add legend\n",
    "plt.legend( ['Fixed Step Size', 'Optimal Step Size'])\n",
    "# Annotate points with number of removed edges\n",
    "lx, ly = (0,0)\n",
    "right = 0\n",
    "up = 10\n",
    "for j in range(len(df.columns)):\n",
    "        print(j,(df.iloc[2,j], df.iloc[1,j]))\n",
    "        if df.iloc[2,j] < 4:\n",
    "                right = 10\n",
    "                up = 1\n",
    "        if df.iloc[2,j] == 4.0:\n",
    "                up = 0\n",
    "        if abs(lx - df.iloc[2,j]) > 1 or abs(ly - df.iloc[1,j]) > 0.001:\n",
    "                plt.annotate(df.columns[j], (df.iloc[2,j], df.iloc[0,j]), textcoords=\"offset points\", xytext=(right,up), ha='center', fontsize=8)\n",
    "                plt.annotate(df.columns[j], (df.iloc[2,j], df.iloc[1,j]), textcoords=\"offset points\", xytext=(right,up), ha='center', fontsize=8)\n",
    "                lx = df.iloc[2,j]\n",
    "                ly = df.iloc[1,j]\n",
    "        \n",
    "# Annotate with points\n",
    "\n",
    "plt.xlabel('Average Iteration Time')\n",
    "plt.ylabel(r'Contraction Rate ($\\tau$)')\n",
    "\n",
    "if saving: plt.savefig(\"figs/fig_pareto.pdf\", format=\"pdf\", bbox_inches=\"tight\")\n",
    "plt.show()"
   ]
  },
  {
   "cell_type": "markdown",
   "metadata": {},
   "source": [
    "Figure 11 just shows how we removed the edges"
   ]
  },
  {
   "cell_type": "code",
   "execution_count": 38,
   "metadata": {},
   "outputs": [
    {
     "data": {
      "image/png": "[encoded data removed]",
      "text/plain": [
       "<Figure size 1200x600 with 2 Axes>"
      ]
     },
     "metadata": {},
     "output_type": "display_data"
    }
   ],
   "source": [
    "# Figure 11 - edge deletion ordering\n",
    "\n",
    "def cplot(M, c, title=''):\n",
    "    vmin = 1\n",
    "    vmax = np.max(ordermat)\n",
    "    cm = plt.cm.viridis #coolwarm\n",
    "    fig, ax = plt.subplots(1, 1, figsize=(12, 6))\n",
    "    x = np.arange(n)\n",
    "    y = -np.arange(n)\n",
    "    pc = ax.pcolormesh(x, y, M, cmap=cm , vmin=vmin, vmax=vmax)\n",
    "    ax.set_title(title) #'Edge Removal Ordering'\n",
    "    ax.axis('off')\n",
    "    ax.set_aspect('equal')\n",
    "\n",
    "    # Add colorbar\n",
    "    plt.tight_layout()\n",
    "    \n",
    "    cbar = fig.colorbar(pc) \n",
    "    cbar.set_ticks(np.arange(1, c, 4)) \n",
    "    return fig\n",
    "\n",
    "# Display edge removal ordering\n",
    "def order_graph(n):\n",
    "    order_matrix = np.zeros((n,n)) \n",
    "    counter = 1\n",
    "    for i in range(n//2):\n",
    "        start = 0\n",
    "        for k in range(2):\n",
    "            for j in range(start, i + k*(n//2)):\n",
    "                r = i + k*(n//2)\n",
    "                c = j\n",
    "                order_matrix[(r,j)] = counter\n",
    "                order_matrix[(c,r)] = counter\n",
    "            \n",
    "            counter += 1\n",
    "            start = n//2\n",
    "\n",
    "    ccounter = 0\n",
    "    for i in range(n//2 - 2):\n",
    "        for j in range(i+1):\n",
    "            r = n//2 + j\n",
    "            c = n//2 - 1 - i + j\n",
    "            order_matrix[(r, c)] = counter\n",
    "            order_matrix[(c, r)] = counter\n",
    "            ccounter += 1\n",
    "            if ccounter % 10 == 0:\n",
    "                counter += 1\n",
    "            \n",
    "    return order_matrix, counter\n",
    "ordermat, c = order_graph(24)\n",
    "ordermat = np.ma.masked_array(ordermat, ordermat < 1)\n",
    "\n",
    "fig = cplot(ordermat, c, 'Edge Removal Ordering')\n",
    "if saving: fig.savefig(\"figs/fig_edge_removal.pdf\")\n"
   ]
  },
  {
   "cell_type": "markdown",
   "metadata": {},
   "source": [
    "Figure 12 then combines the iteration time and contraction factor to find the total time required for a given contraction level, and compares the 2-Block design with the constrained minimum iteration time design, using the minimum total effective resistance objective for each.\n",
    "\n",
    "It demonstrates some additional parameters in the `getMinIteration` function. `minW=n//2` sets the minimum number of edges for each node in the graph of $W$ to be $\\frac{n}{2}$, which we call the constrained minimum iteration time design.\n",
    "\n",
    "We also introduce the `getMetrics` function, which returns the iteration time, contraction factor, total cycles, and total time for a given contraction target, over a given design ($Z, W$), compute and communication times ($t, l$), and operator parameters (using the default values in Class 1)."
   ]
  },
  {
   "cell_type": "code",
   "execution_count": 39,
   "metadata": {},
   "outputs": [
    {
     "name": "stdout",
     "output_type": "stream",
     "text": [
      "6 0 670.4886897131029 670.4886897131029\n",
      "6 1 778.643903904538 694.5692581525664\n",
      "6 2 615.006840052717 615.006840052717\n",
      "6 3 664.7031827966202 664.7031827966202\n",
      "6 4 698.4652093107794 609.2499864585676\n",
      "6 5 688.0880207701939 688.0880207701939\n",
      "6 6 577.4186832479074 513.2587602400457\n",
      "6 7 675.5954285310031 675.5954285310031\n",
      "6 8 652.2238505242201 632.6068381216719\n",
      "6 9 623.2432588359057 498.47284290251457\n",
      "6 10 530.4714698292019 530.4714698292019\n",
      "6 11 487.89630928740723 487.89630928740723\n",
      "6 12 616.5828737639896 616.5828737639896\n",
      "6 13 545.1163811472464 496.95239405209304\n",
      "6 14 715.8385535884668 544.7866595980308\n",
      "6 15 718.7565870708886 718.7565870708886\n",
      "6 16 508.98055829220084 508.98055829220084\n",
      "6 17 618.5273437625365 618.5273437625365\n",
      "6 18 587.1497931809487 587.1497931809487\n",
      "6 19 697.2152163421836 697.2152163421836\n",
      "6 20 525.217813021972 525.217813021972\n",
      "6 21 653.3343949915621 653.3343949915621\n",
      "6 22 451.8401413427987 395.53697807569\n",
      "6 23 541.1292509237803 541.1292509237803\n",
      "6 24 560.1621320320938 560.1621320320938\n",
      "6 25 627.8152551777415 513.6085171905685\n",
      "6 26 697.0303838769128 415.72627354570216\n",
      "6 27 591.7380582303297 591.7380582303297\n",
      "6 28 643.5697463454466 579.1653239472738\n",
      "6 29 570.225004093676 570.225004093676\n",
      "6 30 670.7815318254211 553.1210091819509\n",
      "6 31 651.4000885000901 651.4000885000901\n",
      "6 32 590.7057065157435 590.7057065157435\n",
      "6 33 501.7307153879898 501.7307153879898\n",
      "6 34 562.4305705164893 562.4305705164893\n",
      "6 35 610.6595096137099 610.6595096137099\n",
      "6 36 571.2032212576437 464.3189390758997\n",
      "6 37 517.0737763095983 466.544290865819\n",
      "6 38 377.0452637567923 351.44461502719867\n",
      "6 39 689.041606842278 577.3529920169221\n",
      "7 0 981.2245958002236 786.427289915642\n",
      "7 1 940.6699817649405 647.5730411744605\n",
      "7 2 925.0920189003568 785.2373220527802\n",
      "7 3 857.3204311391953 745.4147206690646\n",
      "7 4 982.8055531664709 870.8995244936355\n",
      "7 5 1053.766136245001 724.8240692802201\n",
      "7 6 1129.0206508574934 769.8780816183216\n",
      "7 7 1091.3057839459616 1024.4911440881733\n",
      "7 8 626.6460464052768 562.7025723831766\n",
      "7 9 997.8021089014212 685.620755299691\n",
      "7 10 797.2032611075188 585.7003551257465\n",
      "7 11 885.0031300908411 848.880553339001\n",
      "7 12 1058.9747887818658 706.7751498158004\n",
      "7 13 842.7418733900938 619.1572947659758\n",
      "7 14 818.8331804928644 718.5678931618287\n",
      "7 15 987.3290374765884 866.4316043159722\n",
      "7 16 1064.5623716096825 719.9327341961316\n",
      "7 17 976.8999143479339 671.1810208221348\n",
      "7 18 914.6632549494241 1119.9958223882777\n",
      "7 19 808.3796553566091 530.2767466364537\n",
      "7 20 1034.275498773276 759.8758766500566\n",
      "7 21 927.6688513933602 692.8621625075766\n",
      "7 22 1060.2882154509803 784.9831485046384\n",
      "7 23 1012.2134651303912 777.0082395230768\n",
      "7 24 1195.958656756382 1003.1196132371452\n",
      "7 25 1148.8716751623185 645.0757853899174\n",
      "7 26 1115.9148391788121 670.7122101748075\n",
      "7 27 1029.6629370800192 792.2840369171759\n",
      "7 28 880.0399189098284 622.0091332190075\n",
      "7 29 907.056906275165 795.988713669901\n",
      "7 30 1096.0949150977958 777.5918321005179\n",
      "7 31 840.4031523977338 617.4390507417304\n",
      "7 32 920.9986365840482 808.2232933097077\n",
      "7 33 1056.4003240787945 1293.5514171010198\n",
      "7 34 1147.7506188719708 750.0765387475235\n",
      "7 35 1075.8273218346242 844.2669768069983\n",
      "7 36 955.2703771781606 734.3842685437616\n",
      "7 37 1115.1376903156365 577.3904988889897\n",
      "7 38 980.5479232805474 694.7159873902991\n",
      "7 39 1131.1777553101992 725.4714377472677\n",
      "8 0 911.6232630181286 810.4387510039699\n",
      "8 1 891.9799263850759 891.9799263850759\n",
      "8 2 920.179239297414 920.179239297414\n",
      "8 3 800.2383349299959 800.2383349299959\n",
      "8 4 753.3587758016674 753.3587758016674\n",
      "8 5 845.0517049325248 845.0517049325248\n",
      "8 6 912.1179851660208 912.1179851660208\n",
      "8 7 848.446268018055 848.446268018055\n",
      "8 8 982.3775931007713 982.3775931007713\n",
      "8 9 952.1745880593768 952.1745880593768\n",
      "8 10 950.707346055344 950.707346055344\n",
      "8 11 829.9867654940377 633.3932317934864\n",
      "8 12 969.4493413955097 736.1760875191544\n",
      "8 13 997.2671015244088 864.122605905095\n",
      "8 14 1018.3202726756092 1018.3202726756092\n",
      "8 15 1046.8438441968804 1046.8438441968804\n",
      "8 16 861.2354279979197 861.2354279979197\n",
      "8 17 811.3450272417898 811.3450272417898\n",
      "8 18 1036.2270906794056 821.6057232227172\n",
      "8 19 939.266566851289 835.6024580003277\n",
      "8 20 994.7175797539742 765.0848878706779\n",
      "8 21 877.9064353334034 877.9064353334034\n",
      "8 22 982.6989485839769 982.6989485839769\n",
      "8 23 991.3768071185148 755.2427074708362\n",
      "8 24 855.6159120155098 855.6159120155098\n",
      "8 25 982.8271720948637 882.7642218776714\n",
      "8 26 829.3763935963367 829.3763935963367\n",
      "8 27 893.5883959113827 676.0339410506026\n",
      "8 28 865.4880113161685 865.4880113161685\n",
      "8 29 892.4905049124536 794.4842759862287\n",
      "8 30 971.8327334063216 800.8026999372078\n",
      "8 31 1008.9261947189451 826.3379529075881\n",
      "8 32 894.7718786666485 752.2926906433577\n",
      "8 33 815.7798898160743 815.7798898160743\n",
      "8 34 992.1038858840896 992.1038858840896\n",
      "8 35 691.1516078532711 691.1516078532711\n",
      "8 36 947.354286830722 947.354286830722\n",
      "8 37 922.6948858772778 922.6948858772778\n",
      "8 38 918.150100608076 728.1685261482883\n",
      "8 39 947.8385952610337 774.5080911243963\n",
      "9 0 1478.2742502043352 979.6073962049029\n",
      "9 1 1093.6531782621405 684.9243844953108\n",
      "9 2 1201.525123664246 828.9801754145494\n",
      "9 3 1364.5336587289812 950.0396165707325\n",
      "9 4 1413.3915046389948 1005.4663986748551\n",
      "9 5 974.688508500644 640.1167130385393\n",
      "9 6 1350.6261230564066 862.4545701796865\n",
      "9 7 1162.8223692152496 1016.324466625392\n",
      "9 8 1210.9060082553626 806.1813811375092\n",
      "9 9 1423.4552052809431 1103.312451259093\n",
      "9 10 1291.5338676719557 791.3902376658899\n",
      "9 11 1205.7916929464434 975.5444833475439\n",
      "9 12 1451.529222078253 1107.8159920741818\n",
      "9 13 1386.8755933773932 1005.4398941073596\n",
      "9 14 1258.419176099138 912.2887549393351\n",
      "9 15 1392.3203182854224 928.9888255176635\n",
      "9 16 1360.4958752153861 1070.5541313171288\n",
      "9 17 1037.1756829668498 793.579455126998\n",
      "9 18 1294.3366325644306 1121.158048648846\n",
      "9 19 1311.584916674905 987.2253639656058\n",
      "9 20 1203.5323775901584 898.7089991280843\n",
      "9 21 1129.3903829021258 1203.448768732348\n",
      "9 22 1307.7908372303818 1082.822479286563\n",
      "9 23 1271.0210381687546 796.4761526137635\n",
      "9 24 1327.68395677353 759.956492346676\n",
      "9 25 1290.9681193745478 836.009573751264\n",
      "9 26 1312.1585307875869 815.8914406834145\n",
      "9 27 1017.3591417545098 574.882217494349\n",
      "9 28 912.1199881927741 801.5857158873254\n",
      "9 29 1350.7925484160241 969.13105880696\n",
      "9 30 1402.3920226256741 1075.8709172135295\n",
      "9 31 1247.046436299857 975.9273880798273\n",
      "9 32 1236.073399741868 720.2962432598588\n",
      "9 33 1413.9913547720375 1159.009308067732\n",
      "9 34 1430.4663131494335 1004.469912472709\n",
      "9 35 1368.3719247419199 1054.319352635388\n",
      "9 36 1149.2680010915517 906.3371960222526\n",
      "9 37 1293.6039989563678 938.7706549615914\n",
      "9 38 1402.9186006253822 1075.4741357450423\n",
      "9 39 1144.0111659936217 849.204131805314\n"
     ]
    }
   ],
   "source": [
    "# Figure 12\n",
    "block_results = []\n",
    "min_results = []\n",
    "for n in range(6,10):\n",
    "    for i in range(40):\n",
    "        t = np.random.rand(n)*10+1\n",
    "\n",
    "        # Communication time\n",
    "        l = np.random.rand(n, n)*1.5 + 0.5\n",
    "        l = np.tril(l, -1) + np.tril(l, -1).T\n",
    "        Zb, Wb = getBlockMin(n, n//2, builder=getMinResist)\n",
    "        c, tau, cc, tt = getMetrics(Zb, Wb, t, l,contraction_target=0.01)\n",
    "        block_results.append((n, i, c, tau, cc, tt))\n",
    "        Z, W = getMinIteration(n, builder=getMinResist, t=t, l=l, c=0.01, r=n, minW=n//2)\n",
    "        if Z is not None:\n",
    "            c, tau, cc, ttc = getMetrics(Z, W, t, l,contraction_target=0.01)\n",
    "        else:\n",
    "            c, tau, cc, ttc = (None, None, None, None)\n",
    "        min_results.append((n, i, c, tau, cc, ttc))\n",
    "        print(n,i,tt,ttc)\n",
    "        "
   ]
  },
  {
   "cell_type": "code",
   "execution_count": 40,
   "metadata": {},
   "outputs": [],
   "source": [
    "# Figure 12\n",
    "block_df = pd.DataFrame(block_results)\n",
    "min_df = pd.DataFrame(min_results)\n",
    "\n",
    "if saving: \n",
    "    block_df.to_csv('figs/block_df2.csv')\n",
    "    min_df.to_csv('figs/min_cycle_min_edge.csv')"
   ]
  },
  {
   "cell_type": "code",
   "execution_count": 41,
   "metadata": {},
   "outputs": [
    {
     "data": {
      "image/png": "[encoded data removed]",
      "text/plain": [
       "<Figure size 640x480 with 4 Axes>"
      ]
     },
     "metadata": {},
     "output_type": "display_data"
    }
   ],
   "source": [
    "# Figure 12\n",
    "# Paired density chart for block vs min cycle\n",
    "\n",
    "fig, axs = plt.subplots(2, 2, sharey=True)\n",
    "n = 6\n",
    "key = 5 #'5' #use string if loading from csv\n",
    "start = 0\n",
    "for i in range(2):\n",
    "    for j in range(2):\n",
    "        end = 40 + start\n",
    "        axs[i,j] = block_df[key][start:end].plot.kde(ax=axs[i,j], color='blue')\n",
    "        min_df[key][start:end].plot.kde(ax=axs[i,j], color='red')\n",
    "        start += 40\n",
    "        axs[i,j].set_title(r\"$n=$\"+str(n))\n",
    "        n += 1\n",
    "\n",
    "fig.legend([r'$d$-Block Design', 'Con. Min Iter Time'], loc=(.65,.8))\n",
    "\n",
    "for ax in axs.flat:\n",
    "    ax.set(xlabel='Time')\n",
    "for ax in fig.get_axes():\n",
    "    ax.label_outer()\n",
    "if saving: fig.savefig(\"figs/fig_constrained_mincycle_histogram.pdf\", format=\"pdf\", bbox_inches=\"tight\")\n",
    "\n",
    "\n",
    "\n"
   ]
  }
 ],
 "metadata": {
  "kernelspec": {
   "display_name": "Python 3 (ipykernel)",
   "language": "python",
   "name": "python3"
  },
  "language_info": {
   "codemirror_mode": {
    "name": "ipython",
    "version": 3
   },
   "file_extension": ".py",
   "mimetype": "text/x-python",
   "name": "python",
   "nbconvert_exporter": "python",
   "pygments_lexer": "ipython3",
   "version": "3.12.2"
  },
  "widgets": {
   "application/vnd.jupyter.widget-state+json": {
    "state": {},
    "version_major": 2,
    "version_minor": 0
   }
  }
 },
 "nbformat": 4,
 "nbformat_minor": 4
}
